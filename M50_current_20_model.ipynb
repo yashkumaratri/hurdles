{
 "cells": [
  {
   "cell_type": "code",
   "execution_count": 1,
   "metadata": {},
   "outputs": [
    {
     "data": {
      "text/html": [
       "<style>.container { width:100% !important; }</style>"
      ],
      "text/plain": [
       "<IPython.core.display.HTML object>"
      ]
     },
     "metadata": {},
     "output_type": "display_data"
    }
   ],
   "source": [
    "from IPython.core.display import display, HTML\n",
    "display(HTML(\"<style>.container { width:100% !important; }</style>\"))"
   ]
  },
  {
   "cell_type": "code",
   "execution_count": 2,
   "metadata": {},
   "outputs": [],
   "source": [
    "import pandas as pd"
   ]
  },
  {
   "cell_type": "code",
   "execution_count": 3,
   "metadata": {},
   "outputs": [],
   "source": [
    "pd.set_option('display.max_rows', 500)\n",
    "pd.set_option('display.max_columns', 500)\n",
    "pd.set_option('display.width', 1000)"
   ]
  },
  {
   "cell_type": "code",
   "execution_count": 85,
   "metadata": {},
   "outputs": [],
   "source": [
    "s=['ABAJ ELECTRONICS PVT LTD',\n",
    " 'AGE INDIA',\n",
    " 'AKAI CONSUMER ELECT INDIA LTD.',\n",
    " 'AOC',\n",
    " 'ARISE INDIA LTD',\n",
    " 'BOSSH TECHNOLOGY INDIA LTD',\n",
    " 'BPL LIMITED',\n",
    " 'CONSISTENT INFOSYSTEMS PVT LTD',\n",
    " 'CROMA',\n",
    " 'CROWN',\n",
    " 'DREAM CARE',\n",
    " 'FENDA AUDIO INDIA PVT LTD',\n",
    " 'FUTURE TECH ELECTRONICS PRIVATE LIMITED',\n",
    " 'HAIER APPLIANCES (INDIA) P.LIMITED',\n",
    " 'HIGHTRON ELECTRONIC PVT LTD',\n",
    " 'HITACHI INDIA PVT. LTD',\n",
    " 'HYUNDAI ELECTRONICS INDIA LIMITED',\n",
    " 'HYUNDAI NEW',\n",
    " 'INFINITI RETAIL LIMITED',\n",
    " 'INTEC',\n",
    " 'INTEX',\n",
    " 'KCM APPLIANCES PVT LTD',\n",
    " 'KODAK',\n",
    " 'KORYO',\n",
    " 'LG ELECTRONICS INDIA PVT.LTD',\n",
    " 'LLOYD ELECTRIC & ENGINEERING LIMITED(LEEL)',\n",
    " 'LOCAL MANUFACTURERS',\n",
    " 'LYF',\n",
    " 'MEPL ELECTRONICS',\n",
    " 'MICROMAX LTD',\n",
    " 'MIRC ELECTRONICS LIMITED(ONIDA)',\n",
    " 'MITASHI EDUTAINMENT PVT LTD',\n",
    " 'MYTRON',\n",
    " 'OG HEAVY DUTY',\n",
    " 'OSCAR',\n",
    " 'PANASONIC INDIA LIMITED',\n",
    " 'PANORAMA ELECT PVT LTD',\n",
    " 'PHILIPS INDIA LIMITED',\n",
    " 'QFX',\n",
    " 'RECONNECT',\n",
    " 'SAMSUNG ELECTRONICS INDIA LIMITED',\n",
    " 'SANSUI',\n",
    " 'SHARP INDIA LIMITED',\n",
    " 'SKYWORTH',\n",
    " 'SONIQ',\n",
    " 'SONY INDIA LIMITED',\n",
    " 'TCL',\n",
    " 'TRUVISON INDUSTRIES PVT LTD',\n",
    " 'TSERIES',\n",
    " 'VEIRA ELECTRONICS PVT LTD',\n",
    " 'VESTAR',\n",
    " 'VIDEOCON',\n",
    " 'VIDEOTEX INTERNATIONAL PVT LTD',\n",
    " 'VISE',\n",
    " 'VISHAL VIDEO & APPLIANCS PVT LTD AISEN',\n",
    " 'VKS GLOBAL ELECTRONICS PRIVATE LIMITED',\n",
    " 'VU ELECTRONICS',\n",
    " 'WESTON',\n",
    " 'WESTWAY ELECTRONIC LIMITED',\n",
    " 'YARA ELECTRONIC',\n",
    " 'ZEBRONICS']"
   ]
  },
  {
   "cell_type": "code",
   "execution_count": 86,
   "metadata": {},
   "outputs": [],
   "source": [
    "df = pd.read_csv('all_data_train.csv')"
   ]
  },
  {
   "cell_type": "code",
   "execution_count": 99,
   "metadata": {},
   "outputs": [
    {
     "data": {
      "text/html": [
       "<div>\n",
       "<style scoped>\n",
       "    .dataframe tbody tr th:only-of-type {\n",
       "        vertical-align: middle;\n",
       "    }\n",
       "\n",
       "    .dataframe tbody tr th {\n",
       "        vertical-align: top;\n",
       "    }\n",
       "\n",
       "    .dataframe thead th {\n",
       "        text-align: right;\n",
       "    }\n",
       "</style>\n",
       "<table border=\"1\" class=\"dataframe\">\n",
       "  <thead>\n",
       "    <tr style=\"text-align: right;\">\n",
       "      <th></th>\n",
       "      <th>age</th>\n",
       "      <th>yyyymm</th>\n",
       "      <th>mm</th>\n",
       "      <th>age_bin</th>\n",
       "      <th>Not Categorized</th>\n",
       "      <th>OTHERS</th>\n",
       "      <th>salaried</th>\n",
       "      <th>self_employed</th>\n",
       "      <th>Female</th>\n",
       "      <th>Male</th>\n",
       "      <th>DIVORCEE</th>\n",
       "      <th>MARRIED</th>\n",
       "      <th>UNMARRIED</th>\n",
       "      <th>WIDOW</th>\n",
       "      <th>AP</th>\n",
       "      <th>BH</th>\n",
       "      <th>BR</th>\n",
       "      <th>DELHI</th>\n",
       "      <th>GJ</th>\n",
       "      <th>HR</th>\n",
       "      <th>KA</th>\n",
       "      <th>KE</th>\n",
       "      <th>MH</th>\n",
       "      <th>MP</th>\n",
       "      <th>OR</th>\n",
       "      <th>PU</th>\n",
       "      <th>RJ</th>\n",
       "      <th>TN</th>\n",
       "      <th>UK</th>\n",
       "      <th>UP</th>\n",
       "      <th>WB</th>\n",
       "      <th>season</th>\n",
       "      <th>label</th>\n",
       "    </tr>\n",
       "  </thead>\n",
       "  <tbody>\n",
       "    <tr>\n",
       "      <th>0</th>\n",
       "      <td>43.0</td>\n",
       "      <td>201811</td>\n",
       "      <td>11</td>\n",
       "      <td>40.0</td>\n",
       "      <td>0</td>\n",
       "      <td>0</td>\n",
       "      <td>0</td>\n",
       "      <td>1</td>\n",
       "      <td>0</td>\n",
       "      <td>1</td>\n",
       "      <td>0</td>\n",
       "      <td>1</td>\n",
       "      <td>0</td>\n",
       "      <td>0</td>\n",
       "      <td>0</td>\n",
       "      <td>0</td>\n",
       "      <td>0</td>\n",
       "      <td>0</td>\n",
       "      <td>0</td>\n",
       "      <td>0</td>\n",
       "      <td>0</td>\n",
       "      <td>0</td>\n",
       "      <td>0</td>\n",
       "      <td>0</td>\n",
       "      <td>0</td>\n",
       "      <td>0</td>\n",
       "      <td>0</td>\n",
       "      <td>1</td>\n",
       "      <td>0</td>\n",
       "      <td>0</td>\n",
       "      <td>0</td>\n",
       "      <td>1</td>\n",
       "      <td>LG ELECTRONICS INDIA PVT.LTD</td>\n",
       "    </tr>\n",
       "    <tr>\n",
       "      <th>1</th>\n",
       "      <td>36.0</td>\n",
       "      <td>201812</td>\n",
       "      <td>12</td>\n",
       "      <td>35.0</td>\n",
       "      <td>0</td>\n",
       "      <td>0</td>\n",
       "      <td>0</td>\n",
       "      <td>1</td>\n",
       "      <td>0</td>\n",
       "      <td>1</td>\n",
       "      <td>0</td>\n",
       "      <td>1</td>\n",
       "      <td>0</td>\n",
       "      <td>0</td>\n",
       "      <td>0</td>\n",
       "      <td>0</td>\n",
       "      <td>0</td>\n",
       "      <td>0</td>\n",
       "      <td>0</td>\n",
       "      <td>0</td>\n",
       "      <td>0</td>\n",
       "      <td>0</td>\n",
       "      <td>0</td>\n",
       "      <td>0</td>\n",
       "      <td>0</td>\n",
       "      <td>0</td>\n",
       "      <td>0</td>\n",
       "      <td>1</td>\n",
       "      <td>0</td>\n",
       "      <td>0</td>\n",
       "      <td>0</td>\n",
       "      <td>0</td>\n",
       "      <td>LG ELECTRONICS INDIA PVT.LTD</td>\n",
       "    </tr>\n",
       "    <tr>\n",
       "      <th>2</th>\n",
       "      <td>41.0</td>\n",
       "      <td>201809</td>\n",
       "      <td>9</td>\n",
       "      <td>40.0</td>\n",
       "      <td>0</td>\n",
       "      <td>0</td>\n",
       "      <td>1</td>\n",
       "      <td>0</td>\n",
       "      <td>0</td>\n",
       "      <td>1</td>\n",
       "      <td>0</td>\n",
       "      <td>1</td>\n",
       "      <td>0</td>\n",
       "      <td>0</td>\n",
       "      <td>0</td>\n",
       "      <td>0</td>\n",
       "      <td>0</td>\n",
       "      <td>0</td>\n",
       "      <td>0</td>\n",
       "      <td>0</td>\n",
       "      <td>0</td>\n",
       "      <td>0</td>\n",
       "      <td>0</td>\n",
       "      <td>0</td>\n",
       "      <td>0</td>\n",
       "      <td>0</td>\n",
       "      <td>0</td>\n",
       "      <td>1</td>\n",
       "      <td>0</td>\n",
       "      <td>0</td>\n",
       "      <td>0</td>\n",
       "      <td>0</td>\n",
       "      <td>LG ELECTRONICS INDIA PVT.LTD</td>\n",
       "    </tr>\n",
       "    <tr>\n",
       "      <th>3</th>\n",
       "      <td>47.0</td>\n",
       "      <td>201810</td>\n",
       "      <td>10</td>\n",
       "      <td>45.0</td>\n",
       "      <td>0</td>\n",
       "      <td>0</td>\n",
       "      <td>0</td>\n",
       "      <td>1</td>\n",
       "      <td>0</td>\n",
       "      <td>1</td>\n",
       "      <td>0</td>\n",
       "      <td>1</td>\n",
       "      <td>0</td>\n",
       "      <td>0</td>\n",
       "      <td>0</td>\n",
       "      <td>0</td>\n",
       "      <td>0</td>\n",
       "      <td>0</td>\n",
       "      <td>0</td>\n",
       "      <td>0</td>\n",
       "      <td>0</td>\n",
       "      <td>0</td>\n",
       "      <td>0</td>\n",
       "      <td>0</td>\n",
       "      <td>0</td>\n",
       "      <td>0</td>\n",
       "      <td>0</td>\n",
       "      <td>1</td>\n",
       "      <td>0</td>\n",
       "      <td>0</td>\n",
       "      <td>0</td>\n",
       "      <td>1</td>\n",
       "      <td>LG ELECTRONICS INDIA PVT.LTD</td>\n",
       "    </tr>\n",
       "    <tr>\n",
       "      <th>4</th>\n",
       "      <td>37.0</td>\n",
       "      <td>201811</td>\n",
       "      <td>11</td>\n",
       "      <td>35.0</td>\n",
       "      <td>0</td>\n",
       "      <td>0</td>\n",
       "      <td>1</td>\n",
       "      <td>0</td>\n",
       "      <td>0</td>\n",
       "      <td>1</td>\n",
       "      <td>0</td>\n",
       "      <td>1</td>\n",
       "      <td>0</td>\n",
       "      <td>0</td>\n",
       "      <td>0</td>\n",
       "      <td>0</td>\n",
       "      <td>0</td>\n",
       "      <td>0</td>\n",
       "      <td>0</td>\n",
       "      <td>0</td>\n",
       "      <td>0</td>\n",
       "      <td>0</td>\n",
       "      <td>0</td>\n",
       "      <td>0</td>\n",
       "      <td>0</td>\n",
       "      <td>0</td>\n",
       "      <td>0</td>\n",
       "      <td>1</td>\n",
       "      <td>0</td>\n",
       "      <td>0</td>\n",
       "      <td>0</td>\n",
       "      <td>1</td>\n",
       "      <td>LG ELECTRONICS INDIA PVT.LTD</td>\n",
       "    </tr>\n",
       "  </tbody>\n",
       "</table>\n",
       "</div>"
      ],
      "text/plain": [
       "    age  yyyymm  mm  age_bin  Not Categorized  OTHERS  salaried  self_employed  Female  Male  DIVORCEE  MARRIED  UNMARRIED  WIDOW  AP  BH  BR  DELHI  GJ  HR  KA  KE  MH  MP  OR  PU  RJ  TN  UK  UP  WB  season                         label\n",
       "0  43.0  201811  11     40.0                0       0         0              1       0     1         0        1          0      0   0   0   0      0   0   0   0   0   0   0   0   0   0   1   0   0   0       1  LG ELECTRONICS INDIA PVT.LTD\n",
       "1  36.0  201812  12     35.0                0       0         0              1       0     1         0        1          0      0   0   0   0      0   0   0   0   0   0   0   0   0   0   1   0   0   0       0  LG ELECTRONICS INDIA PVT.LTD\n",
       "2  41.0  201809   9     40.0                0       0         1              0       0     1         0        1          0      0   0   0   0      0   0   0   0   0   0   0   0   0   0   1   0   0   0       0  LG ELECTRONICS INDIA PVT.LTD\n",
       "3  47.0  201810  10     45.0                0       0         0              1       0     1         0        1          0      0   0   0   0      0   0   0   0   0   0   0   0   0   0   1   0   0   0       1  LG ELECTRONICS INDIA PVT.LTD\n",
       "4  37.0  201811  11     35.0                0       0         1              0       0     1         0        1          0      0   0   0   0      0   0   0   0   0   0   0   0   0   0   1   0   0   0       1  LG ELECTRONICS INDIA PVT.LTD"
      ]
     },
     "execution_count": 99,
     "metadata": {},
     "output_type": "execute_result"
    }
   ],
   "source": [
    "df.head()"
   ]
  },
  {
   "cell_type": "code",
   "execution_count": 96,
   "metadata": {},
   "outputs": [],
   "source": [
    "df = df.rename(columns={'make': 'label'})"
   ]
  },
  {
   "cell_type": "code",
   "execution_count": 95,
   "metadata": {},
   "outputs": [],
   "source": [
    "del df['label']"
   ]
  },
  {
   "cell_type": "code",
   "execution_count": 98,
   "metadata": {},
   "outputs": [],
   "source": [
    "df_new_T10 = df.drop(df[(df['label'] != 'SONY INDIA LIMITED') & (df['label'] != 'LG ELECTRONICS INDIA PVT.LTD') & (df['label'] != 'SAMSUNG ELECTRONICS INDIA LIMITED') & (df['label'] != 'PANASONIC INDIA LIMITED') & (df['label'] != 'LLOYD ELECTRIC & ENGINEERING LIMITED(LEEL)') & (df['label'] != 'HAIER APPLIANCES (INDIA) P.LIMITED') & (df['label'] != 'INTEX') & (df['label'] != 'MIRC ELECTRONICS LIMITED(ONIDA)') & (df['label'] != 'RECONNECT') & (df['label'] != 'MICROMAX LTD')].index)"
   ]
  },
  {
   "cell_type": "code",
   "execution_count": 72,
   "metadata": {},
   "outputs": [
    {
     "data": {
      "text/html": [
       "<div>\n",
       "<style scoped>\n",
       "    .dataframe tbody tr th:only-of-type {\n",
       "        vertical-align: middle;\n",
       "    }\n",
       "\n",
       "    .dataframe tbody tr th {\n",
       "        vertical-align: top;\n",
       "    }\n",
       "\n",
       "    .dataframe thead th {\n",
       "        text-align: right;\n",
       "    }\n",
       "</style>\n",
       "<table border=\"1\" class=\"dataframe\">\n",
       "  <thead>\n",
       "    <tr style=\"text-align: right;\">\n",
       "      <th></th>\n",
       "      <th>age</th>\n",
       "      <th>yyyymm</th>\n",
       "      <th>mm</th>\n",
       "      <th>age_bin</th>\n",
       "      <th>Not Categorized</th>\n",
       "      <th>OTHERS</th>\n",
       "      <th>salaried</th>\n",
       "      <th>self_employed</th>\n",
       "      <th>Female</th>\n",
       "      <th>Male</th>\n",
       "      <th>DIVORCEE</th>\n",
       "      <th>MARRIED</th>\n",
       "      <th>UNMARRIED</th>\n",
       "      <th>WIDOW</th>\n",
       "      <th>AP</th>\n",
       "      <th>BH</th>\n",
       "      <th>BR</th>\n",
       "      <th>DELHI</th>\n",
       "      <th>GJ</th>\n",
       "      <th>HR</th>\n",
       "      <th>KA</th>\n",
       "      <th>KE</th>\n",
       "      <th>MH</th>\n",
       "      <th>MP</th>\n",
       "      <th>OR</th>\n",
       "      <th>PU</th>\n",
       "      <th>RJ</th>\n",
       "      <th>TN</th>\n",
       "      <th>UK</th>\n",
       "      <th>UP</th>\n",
       "      <th>WB</th>\n",
       "      <th>season</th>\n",
       "      <th>label</th>\n",
       "    </tr>\n",
       "  </thead>\n",
       "  <tbody>\n",
       "  </tbody>\n",
       "</table>\n",
       "</div>"
      ],
      "text/plain": [
       "Empty DataFrame\n",
       "Columns: [age, yyyymm, mm, age_bin, Not Categorized, OTHERS, salaried, self_employed, Female, Male, DIVORCEE, MARRIED, UNMARRIED, WIDOW, AP, BH, BR, DELHI, GJ, HR, KA, KE, MH, MP, OR, PU, RJ, TN, UK, UP, WB, season, label]\n",
       "Index: []"
      ]
     },
     "execution_count": 72,
     "metadata": {},
     "output_type": "execute_result"
    }
   ],
   "source": [
    "df_new_T10.head(1)"
   ]
  },
  {
   "cell_type": "code",
   "execution_count": 88,
   "metadata": {},
   "outputs": [
    {
     "data": {
      "text/plain": [
       "LabelEncoder()"
      ]
     },
     "execution_count": 88,
     "metadata": {},
     "output_type": "execute_result"
    }
   ],
   "source": [
    "le = preprocessing.LabelEncoder()\n",
    "le.fit(s)"
   ]
  },
  {
   "cell_type": "code",
   "execution_count": 91,
   "metadata": {},
   "outputs": [
    {
     "name": "stderr",
     "output_type": "stream",
     "text": [
      "/home/ion/.local/lib/python3.6/site-packages/sklearn/preprocessing/label.py:151: DeprecationWarning: The truth value of an empty array is ambiguous. Returning False, but in future this will result in an error. Use `array.size > 0` to check that an array is not empty.\n",
      "  if diff:\n"
     ]
    }
   ],
   "source": [
    "a = le.inverse_transform(df.label)"
   ]
  },
  {
   "cell_type": "code",
   "execution_count": 92,
   "metadata": {},
   "outputs": [
    {
     "data": {
      "text/plain": [
       "array(['LG ELECTRONICS INDIA PVT.LTD', 'LG ELECTRONICS INDIA PVT.LTD',\n",
       "       'LG ELECTRONICS INDIA PVT.LTD', ..., 'VIDEOCON',\n",
       "       'LOCAL MANUFACTURERS', 'PANASONIC INDIA LIMITED'], dtype='<U42')"
      ]
     },
     "execution_count": 92,
     "metadata": {},
     "output_type": "execute_result"
    }
   ],
   "source": [
    "a"
   ]
  },
  {
   "cell_type": "code",
   "execution_count": 102,
   "metadata": {},
   "outputs": [
    {
     "data": {
      "text/plain": [
       "LabelEncoder()"
      ]
     },
     "execution_count": 102,
     "metadata": {},
     "output_type": "execute_result"
    }
   ],
   "source": [
    "from sklearn import preprocessing\n",
    "le_top10 = preprocessing.LabelEncoder()\n",
    "le_top10.fit(df_new_T10.label)"
   ]
  },
  {
   "cell_type": "code",
   "execution_count": 103,
   "metadata": {},
   "outputs": [
    {
     "data": {
      "text/plain": [
       "array(['HAIER APPLIANCES (INDIA) P.LIMITED', 'INTEX',\n",
       "       'LG ELECTRONICS INDIA PVT.LTD',\n",
       "       'LLOYD ELECTRIC & ENGINEERING LIMITED(LEEL)', 'MICROMAX LTD',\n",
       "       'MIRC ELECTRONICS LIMITED(ONIDA)', 'PANASONIC INDIA LIMITED',\n",
       "       'RECONNECT', 'SAMSUNG ELECTRONICS INDIA LIMITED',\n",
       "       'SONY INDIA LIMITED'], dtype=object)"
      ]
     },
     "execution_count": 103,
     "metadata": {},
     "output_type": "execute_result"
    }
   ],
   "source": [
    "le_top10.classes_"
   ]
  },
  {
   "cell_type": "code",
   "execution_count": 64,
   "metadata": {},
   "outputs": [
    {
     "data": {
      "text/plain": [
       "array([], dtype=int64)"
      ]
     },
     "execution_count": 64,
     "metadata": {},
     "output_type": "execute_result"
    }
   ],
   "source": [
    "a"
   ]
  },
  {
   "cell_type": "code",
   "execution_count": 93,
   "metadata": {},
   "outputs": [],
   "source": [
    "df['make'] = a"
   ]
  },
  {
   "cell_type": "code",
   "execution_count": 63,
   "metadata": {},
   "outputs": [
    {
     "data": {
      "text/html": [
       "<div>\n",
       "<style scoped>\n",
       "    .dataframe tbody tr th:only-of-type {\n",
       "        vertical-align: middle;\n",
       "    }\n",
       "\n",
       "    .dataframe tbody tr th {\n",
       "        vertical-align: top;\n",
       "    }\n",
       "\n",
       "    .dataframe thead th {\n",
       "        text-align: right;\n",
       "    }\n",
       "</style>\n",
       "<table border=\"1\" class=\"dataframe\">\n",
       "  <thead>\n",
       "    <tr style=\"text-align: right;\">\n",
       "      <th></th>\n",
       "      <th>age</th>\n",
       "      <th>yyyymm</th>\n",
       "      <th>mm</th>\n",
       "      <th>age_bin</th>\n",
       "      <th>Not Categorized</th>\n",
       "      <th>OTHERS</th>\n",
       "      <th>salaried</th>\n",
       "      <th>self_employed</th>\n",
       "      <th>Female</th>\n",
       "      <th>Male</th>\n",
       "      <th>DIVORCEE</th>\n",
       "      <th>MARRIED</th>\n",
       "      <th>UNMARRIED</th>\n",
       "      <th>WIDOW</th>\n",
       "      <th>AP</th>\n",
       "      <th>BH</th>\n",
       "      <th>BR</th>\n",
       "      <th>DELHI</th>\n",
       "      <th>GJ</th>\n",
       "      <th>HR</th>\n",
       "      <th>KA</th>\n",
       "      <th>KE</th>\n",
       "      <th>MH</th>\n",
       "      <th>MP</th>\n",
       "      <th>OR</th>\n",
       "      <th>PU</th>\n",
       "      <th>RJ</th>\n",
       "      <th>TN</th>\n",
       "      <th>UK</th>\n",
       "      <th>UP</th>\n",
       "      <th>WB</th>\n",
       "      <th>season</th>\n",
       "      <th>label</th>\n",
       "      <th>make</th>\n",
       "    </tr>\n",
       "  </thead>\n",
       "  <tbody>\n",
       "  </tbody>\n",
       "</table>\n",
       "</div>"
      ],
      "text/plain": [
       "Empty DataFrame\n",
       "Columns: [age, yyyymm, mm, age_bin, Not Categorized, OTHERS, salaried, self_employed, Female, Male, DIVORCEE, MARRIED, UNMARRIED, WIDOW, AP, BH, BR, DELHI, GJ, HR, KA, KE, MH, MP, OR, PU, RJ, TN, UK, UP, WB, season, label, make]\n",
       "Index: []"
      ]
     },
     "execution_count": 63,
     "metadata": {},
     "output_type": "execute_result"
    }
   ],
   "source": [
    "df_new_T10.head()"
   ]
  },
  {
   "cell_type": "code",
   "execution_count": null,
   "metadata": {},
   "outputs": [],
   "source": []
  },
  {
   "cell_type": "code",
   "execution_count": 104,
   "metadata": {},
   "outputs": [],
   "source": [
    "df1 = pd.DataFrame(columns=df.columns)"
   ]
  },
  {
   "cell_type": "code",
   "execution_count": 105,
   "metadata": {},
   "outputs": [],
   "source": [
    "df = df.reset_index()"
   ]
  },
  {
   "cell_type": "code",
   "execution_count": 106,
   "metadata": {},
   "outputs": [],
   "source": [
    "cond = df.mm == 5"
   ]
  },
  {
   "cell_type": "code",
   "execution_count": 107,
   "metadata": {},
   "outputs": [],
   "source": [
    "#cond"
   ]
  },
  {
   "cell_type": "code",
   "execution_count": 108,
   "metadata": {},
   "outputs": [],
   "source": [
    "rows = df.loc[cond, :]"
   ]
  },
  {
   "cell_type": "code",
   "execution_count": 109,
   "metadata": {},
   "outputs": [
    {
     "name": "stderr",
     "output_type": "stream",
     "text": [
      "/home/ion/.local/lib/python3.6/site-packages/pandas/core/frame.py:6692: FutureWarning: Sorting because non-concatenation axis is not aligned. A future version\n",
      "of pandas will change to not sort by default.\n",
      "\n",
      "To accept the future behavior, pass 'sort=False'.\n",
      "\n",
      "To retain the current behavior and silence the warning, pass 'sort=True'.\n",
      "\n",
      "  sort=sort)\n"
     ]
    }
   ],
   "source": [
    "df1 = df1.append(rows, ignore_index=True)"
   ]
  },
  {
   "cell_type": "code",
   "execution_count": 110,
   "metadata": {},
   "outputs": [],
   "source": [
    "df.drop(rows.index, inplace=True)"
   ]
  },
  {
   "cell_type": "code",
   "execution_count": 111,
   "metadata": {},
   "outputs": [
    {
     "data": {
      "text/html": [
       "<div>\n",
       "<style scoped>\n",
       "    .dataframe tbody tr th:only-of-type {\n",
       "        vertical-align: middle;\n",
       "    }\n",
       "\n",
       "    .dataframe tbody tr th {\n",
       "        vertical-align: top;\n",
       "    }\n",
       "\n",
       "    .dataframe thead th {\n",
       "        text-align: right;\n",
       "    }\n",
       "</style>\n",
       "<table border=\"1\" class=\"dataframe\">\n",
       "  <thead>\n",
       "    <tr style=\"text-align: right;\">\n",
       "      <th></th>\n",
       "      <th>index</th>\n",
       "      <th>age</th>\n",
       "      <th>yyyymm</th>\n",
       "      <th>mm</th>\n",
       "      <th>age_bin</th>\n",
       "      <th>Not Categorized</th>\n",
       "      <th>OTHERS</th>\n",
       "      <th>salaried</th>\n",
       "      <th>self_employed</th>\n",
       "      <th>Female</th>\n",
       "      <th>Male</th>\n",
       "      <th>DIVORCEE</th>\n",
       "      <th>MARRIED</th>\n",
       "      <th>UNMARRIED</th>\n",
       "      <th>WIDOW</th>\n",
       "      <th>AP</th>\n",
       "      <th>BH</th>\n",
       "      <th>BR</th>\n",
       "      <th>DELHI</th>\n",
       "      <th>GJ</th>\n",
       "      <th>HR</th>\n",
       "      <th>KA</th>\n",
       "      <th>KE</th>\n",
       "      <th>MH</th>\n",
       "      <th>MP</th>\n",
       "      <th>OR</th>\n",
       "      <th>PU</th>\n",
       "      <th>RJ</th>\n",
       "      <th>TN</th>\n",
       "      <th>UK</th>\n",
       "      <th>UP</th>\n",
       "      <th>WB</th>\n",
       "      <th>season</th>\n",
       "      <th>label</th>\n",
       "    </tr>\n",
       "  </thead>\n",
       "  <tbody>\n",
       "    <tr>\n",
       "      <th>0</th>\n",
       "      <td>0</td>\n",
       "      <td>43.0</td>\n",
       "      <td>201811</td>\n",
       "      <td>11</td>\n",
       "      <td>40.0</td>\n",
       "      <td>0</td>\n",
       "      <td>0</td>\n",
       "      <td>0</td>\n",
       "      <td>1</td>\n",
       "      <td>0</td>\n",
       "      <td>1</td>\n",
       "      <td>0</td>\n",
       "      <td>1</td>\n",
       "      <td>0</td>\n",
       "      <td>0</td>\n",
       "      <td>0</td>\n",
       "      <td>0</td>\n",
       "      <td>0</td>\n",
       "      <td>0</td>\n",
       "      <td>0</td>\n",
       "      <td>0</td>\n",
       "      <td>0</td>\n",
       "      <td>0</td>\n",
       "      <td>0</td>\n",
       "      <td>0</td>\n",
       "      <td>0</td>\n",
       "      <td>0</td>\n",
       "      <td>0</td>\n",
       "      <td>1</td>\n",
       "      <td>0</td>\n",
       "      <td>0</td>\n",
       "      <td>0</td>\n",
       "      <td>1</td>\n",
       "      <td>LG ELECTRONICS INDIA PVT.LTD</td>\n",
       "    </tr>\n",
       "    <tr>\n",
       "      <th>1</th>\n",
       "      <td>1</td>\n",
       "      <td>36.0</td>\n",
       "      <td>201812</td>\n",
       "      <td>12</td>\n",
       "      <td>35.0</td>\n",
       "      <td>0</td>\n",
       "      <td>0</td>\n",
       "      <td>0</td>\n",
       "      <td>1</td>\n",
       "      <td>0</td>\n",
       "      <td>1</td>\n",
       "      <td>0</td>\n",
       "      <td>1</td>\n",
       "      <td>0</td>\n",
       "      <td>0</td>\n",
       "      <td>0</td>\n",
       "      <td>0</td>\n",
       "      <td>0</td>\n",
       "      <td>0</td>\n",
       "      <td>0</td>\n",
       "      <td>0</td>\n",
       "      <td>0</td>\n",
       "      <td>0</td>\n",
       "      <td>0</td>\n",
       "      <td>0</td>\n",
       "      <td>0</td>\n",
       "      <td>0</td>\n",
       "      <td>0</td>\n",
       "      <td>1</td>\n",
       "      <td>0</td>\n",
       "      <td>0</td>\n",
       "      <td>0</td>\n",
       "      <td>0</td>\n",
       "      <td>LG ELECTRONICS INDIA PVT.LTD</td>\n",
       "    </tr>\n",
       "    <tr>\n",
       "      <th>2</th>\n",
       "      <td>2</td>\n",
       "      <td>41.0</td>\n",
       "      <td>201809</td>\n",
       "      <td>9</td>\n",
       "      <td>40.0</td>\n",
       "      <td>0</td>\n",
       "      <td>0</td>\n",
       "      <td>1</td>\n",
       "      <td>0</td>\n",
       "      <td>0</td>\n",
       "      <td>1</td>\n",
       "      <td>0</td>\n",
       "      <td>1</td>\n",
       "      <td>0</td>\n",
       "      <td>0</td>\n",
       "      <td>0</td>\n",
       "      <td>0</td>\n",
       "      <td>0</td>\n",
       "      <td>0</td>\n",
       "      <td>0</td>\n",
       "      <td>0</td>\n",
       "      <td>0</td>\n",
       "      <td>0</td>\n",
       "      <td>0</td>\n",
       "      <td>0</td>\n",
       "      <td>0</td>\n",
       "      <td>0</td>\n",
       "      <td>0</td>\n",
       "      <td>1</td>\n",
       "      <td>0</td>\n",
       "      <td>0</td>\n",
       "      <td>0</td>\n",
       "      <td>0</td>\n",
       "      <td>LG ELECTRONICS INDIA PVT.LTD</td>\n",
       "    </tr>\n",
       "    <tr>\n",
       "      <th>3</th>\n",
       "      <td>3</td>\n",
       "      <td>47.0</td>\n",
       "      <td>201810</td>\n",
       "      <td>10</td>\n",
       "      <td>45.0</td>\n",
       "      <td>0</td>\n",
       "      <td>0</td>\n",
       "      <td>0</td>\n",
       "      <td>1</td>\n",
       "      <td>0</td>\n",
       "      <td>1</td>\n",
       "      <td>0</td>\n",
       "      <td>1</td>\n",
       "      <td>0</td>\n",
       "      <td>0</td>\n",
       "      <td>0</td>\n",
       "      <td>0</td>\n",
       "      <td>0</td>\n",
       "      <td>0</td>\n",
       "      <td>0</td>\n",
       "      <td>0</td>\n",
       "      <td>0</td>\n",
       "      <td>0</td>\n",
       "      <td>0</td>\n",
       "      <td>0</td>\n",
       "      <td>0</td>\n",
       "      <td>0</td>\n",
       "      <td>0</td>\n",
       "      <td>1</td>\n",
       "      <td>0</td>\n",
       "      <td>0</td>\n",
       "      <td>0</td>\n",
       "      <td>1</td>\n",
       "      <td>LG ELECTRONICS INDIA PVT.LTD</td>\n",
       "    </tr>\n",
       "    <tr>\n",
       "      <th>4</th>\n",
       "      <td>4</td>\n",
       "      <td>37.0</td>\n",
       "      <td>201811</td>\n",
       "      <td>11</td>\n",
       "      <td>35.0</td>\n",
       "      <td>0</td>\n",
       "      <td>0</td>\n",
       "      <td>1</td>\n",
       "      <td>0</td>\n",
       "      <td>0</td>\n",
       "      <td>1</td>\n",
       "      <td>0</td>\n",
       "      <td>1</td>\n",
       "      <td>0</td>\n",
       "      <td>0</td>\n",
       "      <td>0</td>\n",
       "      <td>0</td>\n",
       "      <td>0</td>\n",
       "      <td>0</td>\n",
       "      <td>0</td>\n",
       "      <td>0</td>\n",
       "      <td>0</td>\n",
       "      <td>0</td>\n",
       "      <td>0</td>\n",
       "      <td>0</td>\n",
       "      <td>0</td>\n",
       "      <td>0</td>\n",
       "      <td>0</td>\n",
       "      <td>1</td>\n",
       "      <td>0</td>\n",
       "      <td>0</td>\n",
       "      <td>0</td>\n",
       "      <td>1</td>\n",
       "      <td>LG ELECTRONICS INDIA PVT.LTD</td>\n",
       "    </tr>\n",
       "  </tbody>\n",
       "</table>\n",
       "</div>"
      ],
      "text/plain": [
       "   index   age  yyyymm  mm  age_bin  Not Categorized  OTHERS  salaried  self_employed  Female  Male  DIVORCEE  MARRIED  UNMARRIED  WIDOW  AP  BH  BR  DELHI  GJ  HR  KA  KE  MH  MP  OR  PU  RJ  TN  UK  UP  WB  season                         label\n",
       "0      0  43.0  201811  11     40.0                0       0         0              1       0     1         0        1          0      0   0   0   0      0   0   0   0   0   0   0   0   0   0   1   0   0   0       1  LG ELECTRONICS INDIA PVT.LTD\n",
       "1      1  36.0  201812  12     35.0                0       0         0              1       0     1         0        1          0      0   0   0   0      0   0   0   0   0   0   0   0   0   0   1   0   0   0       0  LG ELECTRONICS INDIA PVT.LTD\n",
       "2      2  41.0  201809   9     40.0                0       0         1              0       0     1         0        1          0      0   0   0   0      0   0   0   0   0   0   0   0   0   0   1   0   0   0       0  LG ELECTRONICS INDIA PVT.LTD\n",
       "3      3  47.0  201810  10     45.0                0       0         0              1       0     1         0        1          0      0   0   0   0      0   0   0   0   0   0   0   0   0   0   1   0   0   0       1  LG ELECTRONICS INDIA PVT.LTD\n",
       "4      4  37.0  201811  11     35.0                0       0         1              0       0     1         0        1          0      0   0   0   0      0   0   0   0   0   0   0   0   0   0   1   0   0   0       1  LG ELECTRONICS INDIA PVT.LTD"
      ]
     },
     "execution_count": 111,
     "metadata": {},
     "output_type": "execute_result"
    }
   ],
   "source": [
    "df.head()"
   ]
  },
  {
   "cell_type": "code",
   "execution_count": 112,
   "metadata": {},
   "outputs": [],
   "source": [
    "label_maynot = df['label']"
   ]
  },
  {
   "cell_type": "code",
   "execution_count": 113,
   "metadata": {},
   "outputs": [
    {
     "data": {
      "text/html": [
       "<div>\n",
       "<style scoped>\n",
       "    .dataframe tbody tr th:only-of-type {\n",
       "        vertical-align: middle;\n",
       "    }\n",
       "\n",
       "    .dataframe tbody tr th {\n",
       "        vertical-align: top;\n",
       "    }\n",
       "\n",
       "    .dataframe thead th {\n",
       "        text-align: right;\n",
       "    }\n",
       "</style>\n",
       "<table border=\"1\" class=\"dataframe\">\n",
       "  <thead>\n",
       "    <tr style=\"text-align: right;\">\n",
       "      <th></th>\n",
       "      <th>index</th>\n",
       "      <th>age</th>\n",
       "      <th>yyyymm</th>\n",
       "      <th>mm</th>\n",
       "      <th>age_bin</th>\n",
       "      <th>Not Categorized</th>\n",
       "      <th>OTHERS</th>\n",
       "      <th>salaried</th>\n",
       "      <th>self_employed</th>\n",
       "      <th>Female</th>\n",
       "      <th>Male</th>\n",
       "      <th>DIVORCEE</th>\n",
       "      <th>MARRIED</th>\n",
       "      <th>UNMARRIED</th>\n",
       "      <th>WIDOW</th>\n",
       "      <th>AP</th>\n",
       "      <th>BH</th>\n",
       "      <th>BR</th>\n",
       "      <th>DELHI</th>\n",
       "      <th>GJ</th>\n",
       "      <th>HR</th>\n",
       "      <th>KA</th>\n",
       "      <th>KE</th>\n",
       "      <th>MH</th>\n",
       "      <th>MP</th>\n",
       "      <th>OR</th>\n",
       "      <th>PU</th>\n",
       "      <th>RJ</th>\n",
       "      <th>TN</th>\n",
       "      <th>UK</th>\n",
       "      <th>UP</th>\n",
       "      <th>WB</th>\n",
       "      <th>season</th>\n",
       "      <th>label</th>\n",
       "    </tr>\n",
       "  </thead>\n",
       "  <tbody>\n",
       "  </tbody>\n",
       "</table>\n",
       "</div>"
      ],
      "text/plain": [
       "Empty DataFrame\n",
       "Columns: [index, age, yyyymm, mm, age_bin, Not Categorized, OTHERS, salaried, self_employed, Female, Male, DIVORCEE, MARRIED, UNMARRIED, WIDOW, AP, BH, BR, DELHI, GJ, HR, KA, KE, MH, MP, OR, PU, RJ, TN, UK, UP, WB, season, label]\n",
       "Index: []"
      ]
     },
     "execution_count": 113,
     "metadata": {},
     "output_type": "execute_result"
    }
   ],
   "source": [
    "df[df['mm'] == 5]"
   ]
  },
  {
   "cell_type": "code",
   "execution_count": 114,
   "metadata": {},
   "outputs": [
    {
     "data": {
      "text/html": [
       "<div>\n",
       "<style scoped>\n",
       "    .dataframe tbody tr th:only-of-type {\n",
       "        vertical-align: middle;\n",
       "    }\n",
       "\n",
       "    .dataframe tbody tr th {\n",
       "        vertical-align: top;\n",
       "    }\n",
       "\n",
       "    .dataframe thead th {\n",
       "        text-align: right;\n",
       "    }\n",
       "</style>\n",
       "<table border=\"1\" class=\"dataframe\">\n",
       "  <thead>\n",
       "    <tr style=\"text-align: right;\">\n",
       "      <th></th>\n",
       "      <th>AP</th>\n",
       "      <th>BH</th>\n",
       "      <th>BR</th>\n",
       "      <th>DELHI</th>\n",
       "      <th>DIVORCEE</th>\n",
       "      <th>Female</th>\n",
       "      <th>GJ</th>\n",
       "      <th>HR</th>\n",
       "      <th>KA</th>\n",
       "      <th>KE</th>\n",
       "      <th>MARRIED</th>\n",
       "      <th>MH</th>\n",
       "      <th>MP</th>\n",
       "      <th>Male</th>\n",
       "      <th>Not Categorized</th>\n",
       "      <th>OR</th>\n",
       "      <th>OTHERS</th>\n",
       "      <th>PU</th>\n",
       "      <th>RJ</th>\n",
       "      <th>TN</th>\n",
       "      <th>UK</th>\n",
       "      <th>UNMARRIED</th>\n",
       "      <th>UP</th>\n",
       "      <th>WB</th>\n",
       "      <th>WIDOW</th>\n",
       "      <th>age</th>\n",
       "      <th>age_bin</th>\n",
       "      <th>index</th>\n",
       "      <th>label</th>\n",
       "      <th>mm</th>\n",
       "      <th>salaried</th>\n",
       "      <th>season</th>\n",
       "      <th>self_employed</th>\n",
       "      <th>yyyymm</th>\n",
       "    </tr>\n",
       "  </thead>\n",
       "  <tbody>\n",
       "    <tr>\n",
       "      <th>0</th>\n",
       "      <td>0</td>\n",
       "      <td>0</td>\n",
       "      <td>0</td>\n",
       "      <td>0</td>\n",
       "      <td>0</td>\n",
       "      <td>0</td>\n",
       "      <td>0</td>\n",
       "      <td>0</td>\n",
       "      <td>0</td>\n",
       "      <td>0</td>\n",
       "      <td>1</td>\n",
       "      <td>0</td>\n",
       "      <td>0</td>\n",
       "      <td>1</td>\n",
       "      <td>0</td>\n",
       "      <td>0</td>\n",
       "      <td>0</td>\n",
       "      <td>0</td>\n",
       "      <td>0</td>\n",
       "      <td>1</td>\n",
       "      <td>0</td>\n",
       "      <td>0</td>\n",
       "      <td>0</td>\n",
       "      <td>0</td>\n",
       "      <td>0</td>\n",
       "      <td>34.0</td>\n",
       "      <td>30.0</td>\n",
       "      <td>140.0</td>\n",
       "      <td>SONY INDIA LIMITED</td>\n",
       "      <td>5</td>\n",
       "      <td>0</td>\n",
       "      <td>0</td>\n",
       "      <td>1</td>\n",
       "      <td>201805</td>\n",
       "    </tr>\n",
       "    <tr>\n",
       "      <th>1</th>\n",
       "      <td>0</td>\n",
       "      <td>0</td>\n",
       "      <td>0</td>\n",
       "      <td>0</td>\n",
       "      <td>0</td>\n",
       "      <td>0</td>\n",
       "      <td>0</td>\n",
       "      <td>0</td>\n",
       "      <td>0</td>\n",
       "      <td>0</td>\n",
       "      <td>1</td>\n",
       "      <td>0</td>\n",
       "      <td>0</td>\n",
       "      <td>1</td>\n",
       "      <td>0</td>\n",
       "      <td>0</td>\n",
       "      <td>0</td>\n",
       "      <td>0</td>\n",
       "      <td>0</td>\n",
       "      <td>1</td>\n",
       "      <td>0</td>\n",
       "      <td>0</td>\n",
       "      <td>0</td>\n",
       "      <td>0</td>\n",
       "      <td>0</td>\n",
       "      <td>35.0</td>\n",
       "      <td>30.0</td>\n",
       "      <td>141.0</td>\n",
       "      <td>SONY INDIA LIMITED</td>\n",
       "      <td>5</td>\n",
       "      <td>0</td>\n",
       "      <td>0</td>\n",
       "      <td>1</td>\n",
       "      <td>201805</td>\n",
       "    </tr>\n",
       "    <tr>\n",
       "      <th>2</th>\n",
       "      <td>0</td>\n",
       "      <td>0</td>\n",
       "      <td>0</td>\n",
       "      <td>0</td>\n",
       "      <td>0</td>\n",
       "      <td>0</td>\n",
       "      <td>0</td>\n",
       "      <td>0</td>\n",
       "      <td>0</td>\n",
       "      <td>0</td>\n",
       "      <td>1</td>\n",
       "      <td>0</td>\n",
       "      <td>0</td>\n",
       "      <td>1</td>\n",
       "      <td>0</td>\n",
       "      <td>0</td>\n",
       "      <td>0</td>\n",
       "      <td>0</td>\n",
       "      <td>0</td>\n",
       "      <td>1</td>\n",
       "      <td>0</td>\n",
       "      <td>0</td>\n",
       "      <td>0</td>\n",
       "      <td>0</td>\n",
       "      <td>0</td>\n",
       "      <td>31.0</td>\n",
       "      <td>30.0</td>\n",
       "      <td>148.0</td>\n",
       "      <td>SONY INDIA LIMITED</td>\n",
       "      <td>5</td>\n",
       "      <td>0</td>\n",
       "      <td>0</td>\n",
       "      <td>1</td>\n",
       "      <td>201805</td>\n",
       "    </tr>\n",
       "    <tr>\n",
       "      <th>3</th>\n",
       "      <td>0</td>\n",
       "      <td>0</td>\n",
       "      <td>0</td>\n",
       "      <td>0</td>\n",
       "      <td>0</td>\n",
       "      <td>0</td>\n",
       "      <td>0</td>\n",
       "      <td>0</td>\n",
       "      <td>0</td>\n",
       "      <td>0</td>\n",
       "      <td>1</td>\n",
       "      <td>0</td>\n",
       "      <td>0</td>\n",
       "      <td>1</td>\n",
       "      <td>0</td>\n",
       "      <td>0</td>\n",
       "      <td>0</td>\n",
       "      <td>0</td>\n",
       "      <td>0</td>\n",
       "      <td>1</td>\n",
       "      <td>0</td>\n",
       "      <td>0</td>\n",
       "      <td>0</td>\n",
       "      <td>0</td>\n",
       "      <td>0</td>\n",
       "      <td>30.0</td>\n",
       "      <td>25.0</td>\n",
       "      <td>161.0</td>\n",
       "      <td>SONY INDIA LIMITED</td>\n",
       "      <td>5</td>\n",
       "      <td>0</td>\n",
       "      <td>0</td>\n",
       "      <td>1</td>\n",
       "      <td>201805</td>\n",
       "    </tr>\n",
       "    <tr>\n",
       "      <th>4</th>\n",
       "      <td>0</td>\n",
       "      <td>0</td>\n",
       "      <td>0</td>\n",
       "      <td>0</td>\n",
       "      <td>0</td>\n",
       "      <td>1</td>\n",
       "      <td>0</td>\n",
       "      <td>0</td>\n",
       "      <td>0</td>\n",
       "      <td>0</td>\n",
       "      <td>1</td>\n",
       "      <td>0</td>\n",
       "      <td>0</td>\n",
       "      <td>0</td>\n",
       "      <td>0</td>\n",
       "      <td>0</td>\n",
       "      <td>0</td>\n",
       "      <td>0</td>\n",
       "      <td>0</td>\n",
       "      <td>1</td>\n",
       "      <td>0</td>\n",
       "      <td>0</td>\n",
       "      <td>0</td>\n",
       "      <td>0</td>\n",
       "      <td>0</td>\n",
       "      <td>38.0</td>\n",
       "      <td>35.0</td>\n",
       "      <td>163.0</td>\n",
       "      <td>SONY INDIA LIMITED</td>\n",
       "      <td>5</td>\n",
       "      <td>0</td>\n",
       "      <td>0</td>\n",
       "      <td>1</td>\n",
       "      <td>201805</td>\n",
       "    </tr>\n",
       "  </tbody>\n",
       "</table>\n",
       "</div>"
      ],
      "text/plain": [
       "  AP BH BR DELHI DIVORCEE Female GJ HR KA KE MARRIED MH MP Male Not Categorized OR OTHERS PU RJ TN UK UNMARRIED UP WB WIDOW   age  age_bin  index               label mm salaried season self_employed  yyyymm\n",
       "0  0  0  0     0        0      0  0  0  0  0       1  0  0    1               0  0      0  0  0  1  0         0  0  0     0  34.0     30.0  140.0  SONY INDIA LIMITED  5        0      0             1  201805\n",
       "1  0  0  0     0        0      0  0  0  0  0       1  0  0    1               0  0      0  0  0  1  0         0  0  0     0  35.0     30.0  141.0  SONY INDIA LIMITED  5        0      0             1  201805\n",
       "2  0  0  0     0        0      0  0  0  0  0       1  0  0    1               0  0      0  0  0  1  0         0  0  0     0  31.0     30.0  148.0  SONY INDIA LIMITED  5        0      0             1  201805\n",
       "3  0  0  0     0        0      0  0  0  0  0       1  0  0    1               0  0      0  0  0  1  0         0  0  0     0  30.0     25.0  161.0  SONY INDIA LIMITED  5        0      0             1  201805\n",
       "4  0  0  0     0        0      1  0  0  0  0       1  0  0    0               0  0      0  0  0  1  0         0  0  0     0  38.0     35.0  163.0  SONY INDIA LIMITED  5        0      0             1  201805"
      ]
     },
     "execution_count": 114,
     "metadata": {},
     "output_type": "execute_result"
    }
   ],
   "source": [
    "df1.head()"
   ]
  },
  {
   "cell_type": "code",
   "execution_count": 1,
   "metadata": {
    "scrolled": true
   },
   "outputs": [],
   "source": [
    "# df_51 = pd.DataFrame(df1.columns)\n",
    "# df_52 = pd.DataFrame(df1.columns)\n",
    "# from tqdm import tqdm\n",
    "# for index,row in tqdm(df1.iterrows(),total=df1.shape[0]):\n",
    "#     if index % 2 == 0:\n",
    "#         df_51 = pd.concat([df_51,row], axis=0)\n",
    "#     else:\n",
    "#         df_52 = pd.concat([df_52,row], axis=0)"
   ]
  },
  {
   "cell_type": "code",
   "execution_count": 115,
   "metadata": {},
   "outputs": [],
   "source": [
    "may_label = df1['label']\n",
    "del df1['label']"
   ]
  },
  {
   "cell_type": "code",
   "execution_count": 116,
   "metadata": {},
   "outputs": [],
   "source": [
    "del df1['index']"
   ]
  },
  {
   "cell_type": "code",
   "execution_count": 117,
   "metadata": {},
   "outputs": [
    {
     "data": {
      "text/plain": [
       "((82767, 32), 82767)"
      ]
     },
     "execution_count": 117,
     "metadata": {},
     "output_type": "execute_result"
    }
   ],
   "source": [
    "df1.shape,len(may_label)"
   ]
  },
  {
   "cell_type": "code",
   "execution_count": 118,
   "metadata": {},
   "outputs": [
    {
     "data": {
      "text/plain": [
       "(  AP BH BR DELHI DIVORCEE Female GJ HR KA KE MARRIED MH MP Male Not Categorized OR OTHERS PU RJ TN UK UNMARRIED UP WB WIDOW   age  age_bin mm salaried season self_employed  yyyymm\n",
       " 0  0  0  0     0        0      0  0  0  0  0       1  0  0    1               0  0      0  0  0  1  0         0  0  0     0  34.0     30.0  5        0      0             1  201805\n",
       " 1  0  0  0     0        0      0  0  0  0  0       1  0  0    1               0  0      0  0  0  1  0         0  0  0     0  35.0     30.0  5        0      0             1  201805\n",
       " 2  0  0  0     0        0      0  0  0  0  0       1  0  0    1               0  0      0  0  0  1  0         0  0  0     0  31.0     30.0  5        0      0             1  201805\n",
       " 3  0  0  0     0        0      0  0  0  0  0       1  0  0    1               0  0      0  0  0  1  0         0  0  0     0  30.0     25.0  5        0      0             1  201805\n",
       " 4  0  0  0     0        0      1  0  0  0  0       1  0  0    0               0  0      0  0  0  1  0         0  0  0     0  38.0     35.0  5        0      0             1  201805,\n",
       " False    82767\n",
       " Name: label, dtype: int64)"
      ]
     },
     "execution_count": 118,
     "metadata": {},
     "output_type": "execute_result"
    }
   ],
   "source": [
    "df1.head(),may_label.isna().value_counts()"
   ]
  },
  {
   "cell_type": "code",
   "execution_count": 119,
   "metadata": {},
   "outputs": [
    {
     "data": {
      "text/plain": [
       "(82767, 32)"
      ]
     },
     "execution_count": 119,
     "metadata": {},
     "output_type": "execute_result"
    }
   ],
   "source": [
    "df1.shape"
   ]
  },
  {
   "cell_type": "code",
   "execution_count": 120,
   "metadata": {},
   "outputs": [],
   "source": [
    "from sklearn.model_selection import train_test_split\n",
    "may_big,may_small,may_big_label,may_small_label = train_test_split(df1,may_label,test_size=0.50,random_state=42)"
   ]
  },
  {
   "cell_type": "code",
   "execution_count": 121,
   "metadata": {},
   "outputs": [
    {
     "data": {
      "text/html": [
       "<div>\n",
       "<style scoped>\n",
       "    .dataframe tbody tr th:only-of-type {\n",
       "        vertical-align: middle;\n",
       "    }\n",
       "\n",
       "    .dataframe tbody tr th {\n",
       "        vertical-align: top;\n",
       "    }\n",
       "\n",
       "    .dataframe thead th {\n",
       "        text-align: right;\n",
       "    }\n",
       "</style>\n",
       "<table border=\"1\" class=\"dataframe\">\n",
       "  <thead>\n",
       "    <tr style=\"text-align: right;\">\n",
       "      <th></th>\n",
       "      <th>index</th>\n",
       "      <th>age</th>\n",
       "      <th>yyyymm</th>\n",
       "      <th>mm</th>\n",
       "      <th>age_bin</th>\n",
       "      <th>Not Categorized</th>\n",
       "      <th>OTHERS</th>\n",
       "      <th>salaried</th>\n",
       "      <th>self_employed</th>\n",
       "      <th>Female</th>\n",
       "      <th>Male</th>\n",
       "      <th>DIVORCEE</th>\n",
       "      <th>MARRIED</th>\n",
       "      <th>UNMARRIED</th>\n",
       "      <th>WIDOW</th>\n",
       "      <th>AP</th>\n",
       "      <th>BH</th>\n",
       "      <th>BR</th>\n",
       "      <th>DELHI</th>\n",
       "      <th>GJ</th>\n",
       "      <th>HR</th>\n",
       "      <th>KA</th>\n",
       "      <th>KE</th>\n",
       "      <th>MH</th>\n",
       "      <th>MP</th>\n",
       "      <th>OR</th>\n",
       "      <th>PU</th>\n",
       "      <th>RJ</th>\n",
       "      <th>TN</th>\n",
       "      <th>UK</th>\n",
       "      <th>UP</th>\n",
       "      <th>WB</th>\n",
       "      <th>season</th>\n",
       "      <th>label</th>\n",
       "    </tr>\n",
       "  </thead>\n",
       "  <tbody>\n",
       "    <tr>\n",
       "      <th>0</th>\n",
       "      <td>0</td>\n",
       "      <td>43.0</td>\n",
       "      <td>201811</td>\n",
       "      <td>11</td>\n",
       "      <td>40.0</td>\n",
       "      <td>0</td>\n",
       "      <td>0</td>\n",
       "      <td>0</td>\n",
       "      <td>1</td>\n",
       "      <td>0</td>\n",
       "      <td>1</td>\n",
       "      <td>0</td>\n",
       "      <td>1</td>\n",
       "      <td>0</td>\n",
       "      <td>0</td>\n",
       "      <td>0</td>\n",
       "      <td>0</td>\n",
       "      <td>0</td>\n",
       "      <td>0</td>\n",
       "      <td>0</td>\n",
       "      <td>0</td>\n",
       "      <td>0</td>\n",
       "      <td>0</td>\n",
       "      <td>0</td>\n",
       "      <td>0</td>\n",
       "      <td>0</td>\n",
       "      <td>0</td>\n",
       "      <td>0</td>\n",
       "      <td>1</td>\n",
       "      <td>0</td>\n",
       "      <td>0</td>\n",
       "      <td>0</td>\n",
       "      <td>1</td>\n",
       "      <td>LG ELECTRONICS INDIA PVT.LTD</td>\n",
       "    </tr>\n",
       "    <tr>\n",
       "      <th>1</th>\n",
       "      <td>1</td>\n",
       "      <td>36.0</td>\n",
       "      <td>201812</td>\n",
       "      <td>12</td>\n",
       "      <td>35.0</td>\n",
       "      <td>0</td>\n",
       "      <td>0</td>\n",
       "      <td>0</td>\n",
       "      <td>1</td>\n",
       "      <td>0</td>\n",
       "      <td>1</td>\n",
       "      <td>0</td>\n",
       "      <td>1</td>\n",
       "      <td>0</td>\n",
       "      <td>0</td>\n",
       "      <td>0</td>\n",
       "      <td>0</td>\n",
       "      <td>0</td>\n",
       "      <td>0</td>\n",
       "      <td>0</td>\n",
       "      <td>0</td>\n",
       "      <td>0</td>\n",
       "      <td>0</td>\n",
       "      <td>0</td>\n",
       "      <td>0</td>\n",
       "      <td>0</td>\n",
       "      <td>0</td>\n",
       "      <td>0</td>\n",
       "      <td>1</td>\n",
       "      <td>0</td>\n",
       "      <td>0</td>\n",
       "      <td>0</td>\n",
       "      <td>0</td>\n",
       "      <td>LG ELECTRONICS INDIA PVT.LTD</td>\n",
       "    </tr>\n",
       "  </tbody>\n",
       "</table>\n",
       "</div>"
      ],
      "text/plain": [
       "   index   age  yyyymm  mm  age_bin  Not Categorized  OTHERS  salaried  self_employed  Female  Male  DIVORCEE  MARRIED  UNMARRIED  WIDOW  AP  BH  BR  DELHI  GJ  HR  KA  KE  MH  MP  OR  PU  RJ  TN  UK  UP  WB  season                         label\n",
       "0      0  43.0  201811  11     40.0                0       0         0              1       0     1         0        1          0      0   0   0   0      0   0   0   0   0   0   0   0   0   0   1   0   0   0       1  LG ELECTRONICS INDIA PVT.LTD\n",
       "1      1  36.0  201812  12     35.0                0       0         0              1       0     1         0        1          0      0   0   0   0      0   0   0   0   0   0   0   0   0   0   1   0   0   0       0  LG ELECTRONICS INDIA PVT.LTD"
      ]
     },
     "execution_count": 121,
     "metadata": {},
     "output_type": "execute_result"
    }
   ],
   "source": [
    "df.head(2)"
   ]
  },
  {
   "cell_type": "code",
   "execution_count": 122,
   "metadata": {},
   "outputs": [],
   "source": [
    "#del may_small['index']"
   ]
  },
  {
   "cell_type": "code",
   "execution_count": 123,
   "metadata": {},
   "outputs": [
    {
     "data": {
      "text/plain": [
       "((41383, 32), (41384, 32))"
      ]
     },
     "execution_count": 123,
     "metadata": {},
     "output_type": "execute_result"
    }
   ],
   "source": [
    "may_big.shape,may_small.shape"
   ]
  },
  {
   "cell_type": "code",
   "execution_count": 124,
   "metadata": {},
   "outputs": [
    {
     "name": "stderr",
     "output_type": "stream",
     "text": [
      "/home/ion/.local/lib/python3.6/site-packages/ipykernel_launcher.py:1: SettingWithCopyWarning: \n",
      "A value is trying to be set on a copy of a slice from a DataFrame.\n",
      "Try using .loc[row_indexer,col_indexer] = value instead\n",
      "\n",
      "See the caveats in the documentation: http://pandas.pydata.org/pandas-docs/stable/indexing.html#indexing-view-versus-copy\n",
      "  \"\"\"Entry point for launching an IPython kernel.\n"
     ]
    }
   ],
   "source": [
    "may_big['label'] = may_big_label"
   ]
  },
  {
   "cell_type": "code",
   "execution_count": 125,
   "metadata": {},
   "outputs": [
    {
     "data": {
      "text/html": [
       "<div>\n",
       "<style scoped>\n",
       "    .dataframe tbody tr th:only-of-type {\n",
       "        vertical-align: middle;\n",
       "    }\n",
       "\n",
       "    .dataframe tbody tr th {\n",
       "        vertical-align: top;\n",
       "    }\n",
       "\n",
       "    .dataframe thead th {\n",
       "        text-align: right;\n",
       "    }\n",
       "</style>\n",
       "<table border=\"1\" class=\"dataframe\">\n",
       "  <thead>\n",
       "    <tr style=\"text-align: right;\">\n",
       "      <th></th>\n",
       "      <th>AP</th>\n",
       "      <th>BH</th>\n",
       "      <th>BR</th>\n",
       "      <th>DELHI</th>\n",
       "      <th>DIVORCEE</th>\n",
       "      <th>Female</th>\n",
       "      <th>GJ</th>\n",
       "      <th>HR</th>\n",
       "      <th>KA</th>\n",
       "      <th>KE</th>\n",
       "      <th>MARRIED</th>\n",
       "      <th>MH</th>\n",
       "      <th>MP</th>\n",
       "      <th>Male</th>\n",
       "      <th>Not Categorized</th>\n",
       "      <th>OR</th>\n",
       "      <th>OTHERS</th>\n",
       "      <th>PU</th>\n",
       "      <th>RJ</th>\n",
       "      <th>TN</th>\n",
       "      <th>UK</th>\n",
       "      <th>UNMARRIED</th>\n",
       "      <th>UP</th>\n",
       "      <th>WB</th>\n",
       "      <th>WIDOW</th>\n",
       "      <th>age</th>\n",
       "      <th>age_bin</th>\n",
       "      <th>mm</th>\n",
       "      <th>salaried</th>\n",
       "      <th>season</th>\n",
       "      <th>self_employed</th>\n",
       "      <th>yyyymm</th>\n",
       "      <th>label</th>\n",
       "    </tr>\n",
       "  </thead>\n",
       "  <tbody>\n",
       "    <tr>\n",
       "      <th>30793</th>\n",
       "      <td>1</td>\n",
       "      <td>0</td>\n",
       "      <td>0</td>\n",
       "      <td>0</td>\n",
       "      <td>0</td>\n",
       "      <td>0</td>\n",
       "      <td>0</td>\n",
       "      <td>0</td>\n",
       "      <td>0</td>\n",
       "      <td>0</td>\n",
       "      <td>0</td>\n",
       "      <td>0</td>\n",
       "      <td>0</td>\n",
       "      <td>1</td>\n",
       "      <td>0</td>\n",
       "      <td>0</td>\n",
       "      <td>0</td>\n",
       "      <td>0</td>\n",
       "      <td>0</td>\n",
       "      <td>0</td>\n",
       "      <td>0</td>\n",
       "      <td>1</td>\n",
       "      <td>0</td>\n",
       "      <td>0</td>\n",
       "      <td>0</td>\n",
       "      <td>23.0</td>\n",
       "      <td>20.0</td>\n",
       "      <td>5</td>\n",
       "      <td>0</td>\n",
       "      <td>0</td>\n",
       "      <td>1</td>\n",
       "      <td>201805</td>\n",
       "      <td>SONY INDIA LIMITED</td>\n",
       "    </tr>\n",
       "    <tr>\n",
       "      <th>78801</th>\n",
       "      <td>1</td>\n",
       "      <td>0</td>\n",
       "      <td>0</td>\n",
       "      <td>0</td>\n",
       "      <td>0</td>\n",
       "      <td>1</td>\n",
       "      <td>0</td>\n",
       "      <td>0</td>\n",
       "      <td>0</td>\n",
       "      <td>0</td>\n",
       "      <td>1</td>\n",
       "      <td>0</td>\n",
       "      <td>0</td>\n",
       "      <td>0</td>\n",
       "      <td>0</td>\n",
       "      <td>0</td>\n",
       "      <td>0</td>\n",
       "      <td>0</td>\n",
       "      <td>0</td>\n",
       "      <td>0</td>\n",
       "      <td>0</td>\n",
       "      <td>0</td>\n",
       "      <td>0</td>\n",
       "      <td>0</td>\n",
       "      <td>0</td>\n",
       "      <td>52.0</td>\n",
       "      <td>50.0</td>\n",
       "      <td>5</td>\n",
       "      <td>0</td>\n",
       "      <td>0</td>\n",
       "      <td>1</td>\n",
       "      <td>201805</td>\n",
       "      <td>SAMSUNG ELECTRONICS INDIA LIMITED</td>\n",
       "    </tr>\n",
       "  </tbody>\n",
       "</table>\n",
       "</div>"
      ],
      "text/plain": [
       "      AP BH BR DELHI DIVORCEE Female GJ HR KA KE MARRIED MH MP Male Not Categorized OR OTHERS PU RJ TN UK UNMARRIED UP WB WIDOW   age  age_bin mm salaried season self_employed  yyyymm                              label\n",
       "30793  1  0  0     0        0      0  0  0  0  0       0  0  0    1               0  0      0  0  0  0  0         1  0  0     0  23.0     20.0  5        0      0             1  201805                 SONY INDIA LIMITED\n",
       "78801  1  0  0     0        0      1  0  0  0  0       1  0  0    0               0  0      0  0  0  0  0         0  0  0     0  52.0     50.0  5        0      0             1  201805  SAMSUNG ELECTRONICS INDIA LIMITED"
      ]
     },
     "execution_count": 125,
     "metadata": {},
     "output_type": "execute_result"
    }
   ],
   "source": [
    "may_big.head(2)"
   ]
  },
  {
   "cell_type": "code",
   "execution_count": 126,
   "metadata": {},
   "outputs": [
    {
     "data": {
      "text/html": [
       "<div>\n",
       "<style scoped>\n",
       "    .dataframe tbody tr th:only-of-type {\n",
       "        vertical-align: middle;\n",
       "    }\n",
       "\n",
       "    .dataframe tbody tr th {\n",
       "        vertical-align: top;\n",
       "    }\n",
       "\n",
       "    .dataframe thead th {\n",
       "        text-align: right;\n",
       "    }\n",
       "</style>\n",
       "<table border=\"1\" class=\"dataframe\">\n",
       "  <thead>\n",
       "    <tr style=\"text-align: right;\">\n",
       "      <th></th>\n",
       "      <th>index</th>\n",
       "      <th>age</th>\n",
       "      <th>yyyymm</th>\n",
       "      <th>mm</th>\n",
       "      <th>age_bin</th>\n",
       "      <th>Not Categorized</th>\n",
       "      <th>OTHERS</th>\n",
       "      <th>salaried</th>\n",
       "      <th>self_employed</th>\n",
       "      <th>Female</th>\n",
       "      <th>Male</th>\n",
       "      <th>DIVORCEE</th>\n",
       "      <th>MARRIED</th>\n",
       "      <th>UNMARRIED</th>\n",
       "      <th>WIDOW</th>\n",
       "      <th>AP</th>\n",
       "      <th>BH</th>\n",
       "      <th>BR</th>\n",
       "      <th>DELHI</th>\n",
       "      <th>GJ</th>\n",
       "      <th>HR</th>\n",
       "      <th>KA</th>\n",
       "      <th>KE</th>\n",
       "      <th>MH</th>\n",
       "      <th>MP</th>\n",
       "      <th>OR</th>\n",
       "      <th>PU</th>\n",
       "      <th>RJ</th>\n",
       "      <th>TN</th>\n",
       "      <th>UK</th>\n",
       "      <th>UP</th>\n",
       "      <th>WB</th>\n",
       "      <th>season</th>\n",
       "      <th>label</th>\n",
       "    </tr>\n",
       "  </thead>\n",
       "  <tbody>\n",
       "    <tr>\n",
       "      <th>0</th>\n",
       "      <td>0</td>\n",
       "      <td>43.0</td>\n",
       "      <td>201811</td>\n",
       "      <td>11</td>\n",
       "      <td>40.0</td>\n",
       "      <td>0</td>\n",
       "      <td>0</td>\n",
       "      <td>0</td>\n",
       "      <td>1</td>\n",
       "      <td>0</td>\n",
       "      <td>1</td>\n",
       "      <td>0</td>\n",
       "      <td>1</td>\n",
       "      <td>0</td>\n",
       "      <td>0</td>\n",
       "      <td>0</td>\n",
       "      <td>0</td>\n",
       "      <td>0</td>\n",
       "      <td>0</td>\n",
       "      <td>0</td>\n",
       "      <td>0</td>\n",
       "      <td>0</td>\n",
       "      <td>0</td>\n",
       "      <td>0</td>\n",
       "      <td>0</td>\n",
       "      <td>0</td>\n",
       "      <td>0</td>\n",
       "      <td>0</td>\n",
       "      <td>1</td>\n",
       "      <td>0</td>\n",
       "      <td>0</td>\n",
       "      <td>0</td>\n",
       "      <td>1</td>\n",
       "      <td>LG ELECTRONICS INDIA PVT.LTD</td>\n",
       "    </tr>\n",
       "    <tr>\n",
       "      <th>1</th>\n",
       "      <td>1</td>\n",
       "      <td>36.0</td>\n",
       "      <td>201812</td>\n",
       "      <td>12</td>\n",
       "      <td>35.0</td>\n",
       "      <td>0</td>\n",
       "      <td>0</td>\n",
       "      <td>0</td>\n",
       "      <td>1</td>\n",
       "      <td>0</td>\n",
       "      <td>1</td>\n",
       "      <td>0</td>\n",
       "      <td>1</td>\n",
       "      <td>0</td>\n",
       "      <td>0</td>\n",
       "      <td>0</td>\n",
       "      <td>0</td>\n",
       "      <td>0</td>\n",
       "      <td>0</td>\n",
       "      <td>0</td>\n",
       "      <td>0</td>\n",
       "      <td>0</td>\n",
       "      <td>0</td>\n",
       "      <td>0</td>\n",
       "      <td>0</td>\n",
       "      <td>0</td>\n",
       "      <td>0</td>\n",
       "      <td>0</td>\n",
       "      <td>1</td>\n",
       "      <td>0</td>\n",
       "      <td>0</td>\n",
       "      <td>0</td>\n",
       "      <td>0</td>\n",
       "      <td>LG ELECTRONICS INDIA PVT.LTD</td>\n",
       "    </tr>\n",
       "  </tbody>\n",
       "</table>\n",
       "</div>"
      ],
      "text/plain": [
       "   index   age  yyyymm  mm  age_bin  Not Categorized  OTHERS  salaried  self_employed  Female  Male  DIVORCEE  MARRIED  UNMARRIED  WIDOW  AP  BH  BR  DELHI  GJ  HR  KA  KE  MH  MP  OR  PU  RJ  TN  UK  UP  WB  season                         label\n",
       "0      0  43.0  201811  11     40.0                0       0         0              1       0     1         0        1          0      0   0   0   0      0   0   0   0   0   0   0   0   0   0   1   0   0   0       1  LG ELECTRONICS INDIA PVT.LTD\n",
       "1      1  36.0  201812  12     35.0                0       0         0              1       0     1         0        1          0      0   0   0   0      0   0   0   0   0   0   0   0   0   0   1   0   0   0       0  LG ELECTRONICS INDIA PVT.LTD"
      ]
     },
     "execution_count": 126,
     "metadata": {},
     "output_type": "execute_result"
    }
   ],
   "source": [
    "df.head(2)"
   ]
  },
  {
   "cell_type": "code",
   "execution_count": 127,
   "metadata": {},
   "outputs": [
    {
     "name": "stderr",
     "output_type": "stream",
     "text": [
      "/home/ion/.local/lib/python3.6/site-packages/ipykernel_launcher.py:1: FutureWarning: Sorting because non-concatenation axis is not aligned. A future version\n",
      "of pandas will change to not sort by default.\n",
      "\n",
      "To accept the future behavior, pass 'sort=False'.\n",
      "\n",
      "To retain the current behavior and silence the warning, pass 'sort=True'.\n",
      "\n",
      "  \"\"\"Entry point for launching an IPython kernel.\n"
     ]
    }
   ],
   "source": [
    "new_df = pd.concat([df,may_big],axis=0,ignore_index=True)"
   ]
  },
  {
   "cell_type": "code",
   "execution_count": 128,
   "metadata": {},
   "outputs": [
    {
     "data": {
      "text/html": [
       "<div>\n",
       "<style scoped>\n",
       "    .dataframe tbody tr th:only-of-type {\n",
       "        vertical-align: middle;\n",
       "    }\n",
       "\n",
       "    .dataframe tbody tr th {\n",
       "        vertical-align: top;\n",
       "    }\n",
       "\n",
       "    .dataframe thead th {\n",
       "        text-align: right;\n",
       "    }\n",
       "</style>\n",
       "<table border=\"1\" class=\"dataframe\">\n",
       "  <thead>\n",
       "    <tr style=\"text-align: right;\">\n",
       "      <th></th>\n",
       "      <th>AP</th>\n",
       "      <th>BH</th>\n",
       "      <th>BR</th>\n",
       "      <th>DELHI</th>\n",
       "      <th>DIVORCEE</th>\n",
       "      <th>Female</th>\n",
       "      <th>GJ</th>\n",
       "      <th>HR</th>\n",
       "      <th>KA</th>\n",
       "      <th>KE</th>\n",
       "      <th>MARRIED</th>\n",
       "      <th>MH</th>\n",
       "      <th>MP</th>\n",
       "      <th>Male</th>\n",
       "      <th>Not Categorized</th>\n",
       "      <th>OR</th>\n",
       "      <th>OTHERS</th>\n",
       "      <th>PU</th>\n",
       "      <th>RJ</th>\n",
       "      <th>TN</th>\n",
       "      <th>UK</th>\n",
       "      <th>UNMARRIED</th>\n",
       "      <th>UP</th>\n",
       "      <th>WB</th>\n",
       "      <th>WIDOW</th>\n",
       "      <th>age</th>\n",
       "      <th>age_bin</th>\n",
       "      <th>index</th>\n",
       "      <th>label</th>\n",
       "      <th>mm</th>\n",
       "      <th>salaried</th>\n",
       "      <th>season</th>\n",
       "      <th>self_employed</th>\n",
       "      <th>yyyymm</th>\n",
       "    </tr>\n",
       "  </thead>\n",
       "  <tbody>\n",
       "    <tr>\n",
       "      <th>0</th>\n",
       "      <td>0</td>\n",
       "      <td>0</td>\n",
       "      <td>0</td>\n",
       "      <td>0</td>\n",
       "      <td>0</td>\n",
       "      <td>0</td>\n",
       "      <td>0</td>\n",
       "      <td>0</td>\n",
       "      <td>0</td>\n",
       "      <td>0</td>\n",
       "      <td>1</td>\n",
       "      <td>0</td>\n",
       "      <td>0</td>\n",
       "      <td>1</td>\n",
       "      <td>0</td>\n",
       "      <td>0</td>\n",
       "      <td>0</td>\n",
       "      <td>0</td>\n",
       "      <td>0</td>\n",
       "      <td>1</td>\n",
       "      <td>0</td>\n",
       "      <td>0</td>\n",
       "      <td>0</td>\n",
       "      <td>0</td>\n",
       "      <td>0</td>\n",
       "      <td>43.0</td>\n",
       "      <td>40.0</td>\n",
       "      <td>0.0</td>\n",
       "      <td>LG ELECTRONICS INDIA PVT.LTD</td>\n",
       "      <td>11</td>\n",
       "      <td>0</td>\n",
       "      <td>1</td>\n",
       "      <td>1</td>\n",
       "      <td>201811</td>\n",
       "    </tr>\n",
       "    <tr>\n",
       "      <th>1</th>\n",
       "      <td>0</td>\n",
       "      <td>0</td>\n",
       "      <td>0</td>\n",
       "      <td>0</td>\n",
       "      <td>0</td>\n",
       "      <td>0</td>\n",
       "      <td>0</td>\n",
       "      <td>0</td>\n",
       "      <td>0</td>\n",
       "      <td>0</td>\n",
       "      <td>1</td>\n",
       "      <td>0</td>\n",
       "      <td>0</td>\n",
       "      <td>1</td>\n",
       "      <td>0</td>\n",
       "      <td>0</td>\n",
       "      <td>0</td>\n",
       "      <td>0</td>\n",
       "      <td>0</td>\n",
       "      <td>1</td>\n",
       "      <td>0</td>\n",
       "      <td>0</td>\n",
       "      <td>0</td>\n",
       "      <td>0</td>\n",
       "      <td>0</td>\n",
       "      <td>36.0</td>\n",
       "      <td>35.0</td>\n",
       "      <td>1.0</td>\n",
       "      <td>LG ELECTRONICS INDIA PVT.LTD</td>\n",
       "      <td>12</td>\n",
       "      <td>0</td>\n",
       "      <td>0</td>\n",
       "      <td>1</td>\n",
       "      <td>201812</td>\n",
       "    </tr>\n",
       "    <tr>\n",
       "      <th>2</th>\n",
       "      <td>0</td>\n",
       "      <td>0</td>\n",
       "      <td>0</td>\n",
       "      <td>0</td>\n",
       "      <td>0</td>\n",
       "      <td>0</td>\n",
       "      <td>0</td>\n",
       "      <td>0</td>\n",
       "      <td>0</td>\n",
       "      <td>0</td>\n",
       "      <td>1</td>\n",
       "      <td>0</td>\n",
       "      <td>0</td>\n",
       "      <td>1</td>\n",
       "      <td>0</td>\n",
       "      <td>0</td>\n",
       "      <td>0</td>\n",
       "      <td>0</td>\n",
       "      <td>0</td>\n",
       "      <td>1</td>\n",
       "      <td>0</td>\n",
       "      <td>0</td>\n",
       "      <td>0</td>\n",
       "      <td>0</td>\n",
       "      <td>0</td>\n",
       "      <td>41.0</td>\n",
       "      <td>40.0</td>\n",
       "      <td>2.0</td>\n",
       "      <td>LG ELECTRONICS INDIA PVT.LTD</td>\n",
       "      <td>9</td>\n",
       "      <td>1</td>\n",
       "      <td>0</td>\n",
       "      <td>0</td>\n",
       "      <td>201809</td>\n",
       "    </tr>\n",
       "    <tr>\n",
       "      <th>3</th>\n",
       "      <td>0</td>\n",
       "      <td>0</td>\n",
       "      <td>0</td>\n",
       "      <td>0</td>\n",
       "      <td>0</td>\n",
       "      <td>0</td>\n",
       "      <td>0</td>\n",
       "      <td>0</td>\n",
       "      <td>0</td>\n",
       "      <td>0</td>\n",
       "      <td>1</td>\n",
       "      <td>0</td>\n",
       "      <td>0</td>\n",
       "      <td>1</td>\n",
       "      <td>0</td>\n",
       "      <td>0</td>\n",
       "      <td>0</td>\n",
       "      <td>0</td>\n",
       "      <td>0</td>\n",
       "      <td>1</td>\n",
       "      <td>0</td>\n",
       "      <td>0</td>\n",
       "      <td>0</td>\n",
       "      <td>0</td>\n",
       "      <td>0</td>\n",
       "      <td>47.0</td>\n",
       "      <td>45.0</td>\n",
       "      <td>3.0</td>\n",
       "      <td>LG ELECTRONICS INDIA PVT.LTD</td>\n",
       "      <td>10</td>\n",
       "      <td>0</td>\n",
       "      <td>1</td>\n",
       "      <td>1</td>\n",
       "      <td>201810</td>\n",
       "    </tr>\n",
       "    <tr>\n",
       "      <th>4</th>\n",
       "      <td>0</td>\n",
       "      <td>0</td>\n",
       "      <td>0</td>\n",
       "      <td>0</td>\n",
       "      <td>0</td>\n",
       "      <td>0</td>\n",
       "      <td>0</td>\n",
       "      <td>0</td>\n",
       "      <td>0</td>\n",
       "      <td>0</td>\n",
       "      <td>1</td>\n",
       "      <td>0</td>\n",
       "      <td>0</td>\n",
       "      <td>1</td>\n",
       "      <td>0</td>\n",
       "      <td>0</td>\n",
       "      <td>0</td>\n",
       "      <td>0</td>\n",
       "      <td>0</td>\n",
       "      <td>1</td>\n",
       "      <td>0</td>\n",
       "      <td>0</td>\n",
       "      <td>0</td>\n",
       "      <td>0</td>\n",
       "      <td>0</td>\n",
       "      <td>37.0</td>\n",
       "      <td>35.0</td>\n",
       "      <td>4.0</td>\n",
       "      <td>LG ELECTRONICS INDIA PVT.LTD</td>\n",
       "      <td>11</td>\n",
       "      <td>1</td>\n",
       "      <td>1</td>\n",
       "      <td>0</td>\n",
       "      <td>201811</td>\n",
       "    </tr>\n",
       "  </tbody>\n",
       "</table>\n",
       "</div>"
      ],
      "text/plain": [
       "  AP BH BR DELHI DIVORCEE Female GJ HR KA KE MARRIED MH MP Male Not Categorized OR OTHERS PU RJ TN UK UNMARRIED UP WB WIDOW   age  age_bin  index                         label  mm salaried season self_employed  yyyymm\n",
       "0  0  0  0     0        0      0  0  0  0  0       1  0  0    1               0  0      0  0  0  1  0         0  0  0     0  43.0     40.0    0.0  LG ELECTRONICS INDIA PVT.LTD  11        0      1             1  201811\n",
       "1  0  0  0     0        0      0  0  0  0  0       1  0  0    1               0  0      0  0  0  1  0         0  0  0     0  36.0     35.0    1.0  LG ELECTRONICS INDIA PVT.LTD  12        0      0             1  201812\n",
       "2  0  0  0     0        0      0  0  0  0  0       1  0  0    1               0  0      0  0  0  1  0         0  0  0     0  41.0     40.0    2.0  LG ELECTRONICS INDIA PVT.LTD   9        1      0             0  201809\n",
       "3  0  0  0     0        0      0  0  0  0  0       1  0  0    1               0  0      0  0  0  1  0         0  0  0     0  47.0     45.0    3.0  LG ELECTRONICS INDIA PVT.LTD  10        0      1             1  201810\n",
       "4  0  0  0     0        0      0  0  0  0  0       1  0  0    1               0  0      0  0  0  1  0         0  0  0     0  37.0     35.0    4.0  LG ELECTRONICS INDIA PVT.LTD  11        1      1             0  201811"
      ]
     },
     "execution_count": 128,
     "metadata": {},
     "output_type": "execute_result"
    }
   ],
   "source": [
    "new_df.head()"
   ]
  },
  {
   "cell_type": "code",
   "execution_count": 33,
   "metadata": {},
   "outputs": [
    {
     "data": {
      "text/plain": [
       "Index(['AP', 'BH', 'BR', 'DELHI', 'DIVORCEE', 'Female', 'GJ', 'HR', 'KA', 'KE', 'MARRIED', 'MH', 'MP', 'Male', 'Not Categorized', 'OR', 'OTHERS', 'PU', 'RJ', 'TN', 'UK', 'UNMARRIED', 'UP', 'WB', 'WIDOW', 'age', 'age_bin', 'label', 'mm', 'salaried', 'season', 'self_employed', 'yyyymm'], dtype='object')"
      ]
     },
     "execution_count": 33,
     "metadata": {},
     "output_type": "execute_result"
    }
   ],
   "source": [
    "new_df.columns"
   ]
  },
  {
   "cell_type": "code",
   "execution_count": 36,
   "metadata": {},
   "outputs": [
    {
     "data": {
      "text/plain": [
       "(41384, 32)"
      ]
     },
     "execution_count": 36,
     "metadata": {},
     "output_type": "execute_result"
    }
   ],
   "source": [
    "may_small.shape"
   ]
  },
  {
   "cell_type": "code",
   "execution_count": 42,
   "metadata": {},
   "outputs": [],
   "source": [
    "chotu_label = may_small_label.reset_index()"
   ]
  },
  {
   "cell_type": "code",
   "execution_count": 43,
   "metadata": {},
   "outputs": [
    {
     "data": {
      "text/html": [
       "<div>\n",
       "<style scoped>\n",
       "    .dataframe tbody tr th:only-of-type {\n",
       "        vertical-align: middle;\n",
       "    }\n",
       "\n",
       "    .dataframe tbody tr th {\n",
       "        vertical-align: top;\n",
       "    }\n",
       "\n",
       "    .dataframe thead th {\n",
       "        text-align: right;\n",
       "    }\n",
       "</style>\n",
       "<table border=\"1\" class=\"dataframe\">\n",
       "  <thead>\n",
       "    <tr style=\"text-align: right;\">\n",
       "      <th></th>\n",
       "      <th>index</th>\n",
       "      <th>label</th>\n",
       "    </tr>\n",
       "  </thead>\n",
       "  <tbody>\n",
       "    <tr>\n",
       "      <th>0</th>\n",
       "      <td>52029</td>\n",
       "      <td>35</td>\n",
       "    </tr>\n",
       "    <tr>\n",
       "      <th>1</th>\n",
       "      <td>78119</td>\n",
       "      <td>35</td>\n",
       "    </tr>\n",
       "    <tr>\n",
       "      <th>2</th>\n",
       "      <td>62439</td>\n",
       "      <td>40</td>\n",
       "    </tr>\n",
       "    <tr>\n",
       "      <th>3</th>\n",
       "      <td>6138</td>\n",
       "      <td>25</td>\n",
       "    </tr>\n",
       "    <tr>\n",
       "      <th>4</th>\n",
       "      <td>70737</td>\n",
       "      <td>39</td>\n",
       "    </tr>\n",
       "  </tbody>\n",
       "</table>\n",
       "</div>"
      ],
      "text/plain": [
       "   index label\n",
       "0  52029    35\n",
       "1  78119    35\n",
       "2  62439    40\n",
       "3   6138    25\n",
       "4  70737    39"
      ]
     },
     "execution_count": 43,
     "metadata": {},
     "output_type": "execute_result"
    }
   ],
   "source": [
    "chotu_label.head()"
   ]
  },
  {
   "cell_type": "code",
   "execution_count": 49,
   "metadata": {},
   "outputs": [
    {
     "name": "stderr",
     "output_type": "stream",
     "text": [
      "/home/ion/.local/lib/python3.6/site-packages/ipykernel_launcher.py:1: SettingWithCopyWarning: \n",
      "A value is trying to be set on a copy of a slice from a DataFrame.\n",
      "Try using .loc[row_indexer,col_indexer] = value instead\n",
      "\n",
      "See the caveats in the documentation: http://pandas.pydata.org/pandas-docs/stable/indexing.html#indexing-view-versus-copy\n",
      "  \"\"\"Entry point for launching an IPython kernel.\n"
     ]
    }
   ],
   "source": [
    "may_small['label'] = chotu_label.label"
   ]
  },
  {
   "cell_type": "code",
   "execution_count": 129,
   "metadata": {},
   "outputs": [
    {
     "data": {
      "text/html": [
       "<div>\n",
       "<style scoped>\n",
       "    .dataframe tbody tr th:only-of-type {\n",
       "        vertical-align: middle;\n",
       "    }\n",
       "\n",
       "    .dataframe tbody tr th {\n",
       "        vertical-align: top;\n",
       "    }\n",
       "\n",
       "    .dataframe thead th {\n",
       "        text-align: right;\n",
       "    }\n",
       "</style>\n",
       "<table border=\"1\" class=\"dataframe\">\n",
       "  <thead>\n",
       "    <tr style=\"text-align: right;\">\n",
       "      <th></th>\n",
       "      <th>AP</th>\n",
       "      <th>BH</th>\n",
       "      <th>BR</th>\n",
       "      <th>DELHI</th>\n",
       "      <th>DIVORCEE</th>\n",
       "      <th>Female</th>\n",
       "      <th>GJ</th>\n",
       "      <th>HR</th>\n",
       "      <th>KA</th>\n",
       "      <th>KE</th>\n",
       "      <th>MARRIED</th>\n",
       "      <th>MH</th>\n",
       "      <th>MP</th>\n",
       "      <th>Male</th>\n",
       "      <th>Not Categorized</th>\n",
       "      <th>OR</th>\n",
       "      <th>OTHERS</th>\n",
       "      <th>PU</th>\n",
       "      <th>RJ</th>\n",
       "      <th>TN</th>\n",
       "      <th>UK</th>\n",
       "      <th>UNMARRIED</th>\n",
       "      <th>UP</th>\n",
       "      <th>WB</th>\n",
       "      <th>WIDOW</th>\n",
       "      <th>age</th>\n",
       "      <th>age_bin</th>\n",
       "      <th>mm</th>\n",
       "      <th>salaried</th>\n",
       "      <th>season</th>\n",
       "      <th>self_employed</th>\n",
       "      <th>yyyymm</th>\n",
       "    </tr>\n",
       "  </thead>\n",
       "  <tbody>\n",
       "    <tr>\n",
       "      <th>52029</th>\n",
       "      <td>0</td>\n",
       "      <td>0</td>\n",
       "      <td>0</td>\n",
       "      <td>0</td>\n",
       "      <td>0</td>\n",
       "      <td>1</td>\n",
       "      <td>0</td>\n",
       "      <td>0</td>\n",
       "      <td>0</td>\n",
       "      <td>0</td>\n",
       "      <td>0</td>\n",
       "      <td>0</td>\n",
       "      <td>0</td>\n",
       "      <td>0</td>\n",
       "      <td>0</td>\n",
       "      <td>0</td>\n",
       "      <td>0</td>\n",
       "      <td>0</td>\n",
       "      <td>0</td>\n",
       "      <td>0</td>\n",
       "      <td>0</td>\n",
       "      <td>1</td>\n",
       "      <td>1</td>\n",
       "      <td>0</td>\n",
       "      <td>0</td>\n",
       "      <td>31.0</td>\n",
       "      <td>30.0</td>\n",
       "      <td>5</td>\n",
       "      <td>0</td>\n",
       "      <td>0</td>\n",
       "      <td>1</td>\n",
       "      <td>201805</td>\n",
       "    </tr>\n",
       "    <tr>\n",
       "      <th>78119</th>\n",
       "      <td>0</td>\n",
       "      <td>0</td>\n",
       "      <td>0</td>\n",
       "      <td>0</td>\n",
       "      <td>0</td>\n",
       "      <td>0</td>\n",
       "      <td>0</td>\n",
       "      <td>0</td>\n",
       "      <td>0</td>\n",
       "      <td>0</td>\n",
       "      <td>1</td>\n",
       "      <td>0</td>\n",
       "      <td>0</td>\n",
       "      <td>1</td>\n",
       "      <td>0</td>\n",
       "      <td>0</td>\n",
       "      <td>0</td>\n",
       "      <td>0</td>\n",
       "      <td>0</td>\n",
       "      <td>0</td>\n",
       "      <td>0</td>\n",
       "      <td>0</td>\n",
       "      <td>0</td>\n",
       "      <td>1</td>\n",
       "      <td>0</td>\n",
       "      <td>43.0</td>\n",
       "      <td>40.0</td>\n",
       "      <td>5</td>\n",
       "      <td>0</td>\n",
       "      <td>0</td>\n",
       "      <td>1</td>\n",
       "      <td>201805</td>\n",
       "    </tr>\n",
       "    <tr>\n",
       "      <th>62439</th>\n",
       "      <td>0</td>\n",
       "      <td>0</td>\n",
       "      <td>0</td>\n",
       "      <td>0</td>\n",
       "      <td>0</td>\n",
       "      <td>0</td>\n",
       "      <td>0</td>\n",
       "      <td>0</td>\n",
       "      <td>0</td>\n",
       "      <td>0</td>\n",
       "      <td>0</td>\n",
       "      <td>1</td>\n",
       "      <td>0</td>\n",
       "      <td>1</td>\n",
       "      <td>0</td>\n",
       "      <td>0</td>\n",
       "      <td>0</td>\n",
       "      <td>0</td>\n",
       "      <td>0</td>\n",
       "      <td>0</td>\n",
       "      <td>0</td>\n",
       "      <td>1</td>\n",
       "      <td>0</td>\n",
       "      <td>0</td>\n",
       "      <td>0</td>\n",
       "      <td>27.0</td>\n",
       "      <td>25.0</td>\n",
       "      <td>5</td>\n",
       "      <td>0</td>\n",
       "      <td>0</td>\n",
       "      <td>1</td>\n",
       "      <td>201805</td>\n",
       "    </tr>\n",
       "    <tr>\n",
       "      <th>6138</th>\n",
       "      <td>0</td>\n",
       "      <td>0</td>\n",
       "      <td>0</td>\n",
       "      <td>0</td>\n",
       "      <td>0</td>\n",
       "      <td>0</td>\n",
       "      <td>0</td>\n",
       "      <td>0</td>\n",
       "      <td>0</td>\n",
       "      <td>1</td>\n",
       "      <td>1</td>\n",
       "      <td>0</td>\n",
       "      <td>0</td>\n",
       "      <td>1</td>\n",
       "      <td>0</td>\n",
       "      <td>0</td>\n",
       "      <td>0</td>\n",
       "      <td>0</td>\n",
       "      <td>0</td>\n",
       "      <td>0</td>\n",
       "      <td>0</td>\n",
       "      <td>0</td>\n",
       "      <td>0</td>\n",
       "      <td>0</td>\n",
       "      <td>0</td>\n",
       "      <td>31.0</td>\n",
       "      <td>30.0</td>\n",
       "      <td>5</td>\n",
       "      <td>0</td>\n",
       "      <td>0</td>\n",
       "      <td>1</td>\n",
       "      <td>201805</td>\n",
       "    </tr>\n",
       "    <tr>\n",
       "      <th>70737</th>\n",
       "      <td>1</td>\n",
       "      <td>0</td>\n",
       "      <td>0</td>\n",
       "      <td>0</td>\n",
       "      <td>0</td>\n",
       "      <td>0</td>\n",
       "      <td>0</td>\n",
       "      <td>0</td>\n",
       "      <td>0</td>\n",
       "      <td>0</td>\n",
       "      <td>0</td>\n",
       "      <td>0</td>\n",
       "      <td>0</td>\n",
       "      <td>1</td>\n",
       "      <td>0</td>\n",
       "      <td>0</td>\n",
       "      <td>0</td>\n",
       "      <td>0</td>\n",
       "      <td>0</td>\n",
       "      <td>0</td>\n",
       "      <td>0</td>\n",
       "      <td>1</td>\n",
       "      <td>0</td>\n",
       "      <td>0</td>\n",
       "      <td>0</td>\n",
       "      <td>27.0</td>\n",
       "      <td>25.0</td>\n",
       "      <td>5</td>\n",
       "      <td>0</td>\n",
       "      <td>0</td>\n",
       "      <td>1</td>\n",
       "      <td>201805</td>\n",
       "    </tr>\n",
       "  </tbody>\n",
       "</table>\n",
       "</div>"
      ],
      "text/plain": [
       "      AP BH BR DELHI DIVORCEE Female GJ HR KA KE MARRIED MH MP Male Not Categorized OR OTHERS PU RJ TN UK UNMARRIED UP WB WIDOW   age  age_bin mm salaried season self_employed  yyyymm\n",
       "52029  0  0  0     0        0      1  0  0  0  0       0  0  0    0               0  0      0  0  0  0  0         1  1  0     0  31.0     30.0  5        0      0             1  201805\n",
       "78119  0  0  0     0        0      0  0  0  0  0       1  0  0    1               0  0      0  0  0  0  0         0  0  1     0  43.0     40.0  5        0      0             1  201805\n",
       "62439  0  0  0     0        0      0  0  0  0  0       0  1  0    1               0  0      0  0  0  0  0         1  0  0     0  27.0     25.0  5        0      0             1  201805\n",
       "6138   0  0  0     0        0      0  0  0  0  1       1  0  0    1               0  0      0  0  0  0  0         0  0  0     0  31.0     30.0  5        0      0             1  201805\n",
       "70737  1  0  0     0        0      0  0  0  0  0       0  0  0    1               0  0      0  0  0  0  0         1  0  0     0  27.0     25.0  5        0      0             1  201805"
      ]
     },
     "execution_count": 129,
     "metadata": {},
     "output_type": "execute_result"
    }
   ],
   "source": [
    "may_small.head()"
   ]
  },
  {
   "cell_type": "code",
   "execution_count": 44,
   "metadata": {
    "scrolled": true
   },
   "outputs": [
    {
     "data": {
      "text/plain": [
       "45    247016\n",
       "24    223142\n",
       "40    204477\n",
       "35    105235\n",
       "25     29354\n",
       "13     28308\n",
       "20     17641\n",
       "30     16546\n",
       "26     13969\n",
       "39      9746\n",
       "29      7713\n",
       "51      7460\n",
       "8       7013\n",
       "43      6147\n",
       "31      4672\n",
       "56      4224\n",
       "53      4033\n",
       "42      3460\n",
       "21      2678\n",
       "2       2281\n",
       "23      1673\n",
       "41      1667\n",
       "46      1253\n",
       "37       903\n",
       "47       827\n",
       "54       529\n",
       "58       465\n",
       "0        452\n",
       "16       229\n",
       "50       162\n",
       "11       148\n",
       "1        146\n",
       "38        92\n",
       "36        76\n",
       "59        72\n",
       "52        64\n",
       "5         60\n",
       "34        59\n",
       "48        53\n",
       "49        45\n",
       "3         40\n",
       "12        39\n",
       "7         38\n",
       "15        26\n",
       "17        17\n",
       "22        13\n",
       "18        13\n",
       "57         9\n",
       "19         8\n",
       "33         8\n",
       "14         7\n",
       "9          7\n",
       "32         6\n",
       "27         5\n",
       "10         4\n",
       "28         4\n",
       "55         2\n",
       "6          2\n",
       "4          1\n",
       "44         1\n",
       "60         1\n",
       "Name: label, dtype: int64"
      ]
     },
     "execution_count": 44,
     "metadata": {},
     "output_type": "execute_result"
    }
   ],
   "source": [
    "new_df.label.value_counts()"
   ]
  },
  {
   "cell_type": "code",
   "execution_count": null,
   "metadata": {},
   "outputs": [],
   "source": [
    "#df_new_T10 = df.drop(df[(df['label'] != 'SONY INDIA LIMITED') & (df['label'] != 'LG ELECTRONICS INDIA PVT.LTD') & (df['label'] != 'SAMSUNG ELECTRONICS INDIA LIMITED') & (df['label'] != 'PANASONIC INDIA LIMITED') & (df['label'] != 'LLOYD ELECTRIC & ENGINEERING LIMITED(LEEL)') & (df['label'] != 'HAIER APPLIANCES (INDIA) P.LIMITED') & (df['label'] != 'INTEX') & (df['label'] != 'MIRC ELECTRONICS LIMITED(ONIDA)') & (df['label'] != 'RECONNECT') & (df['label'] != 'MICROMAX LTD')].index)"
   ]
  },
  {
   "cell_type": "code",
   "execution_count": 45,
   "metadata": {},
   "outputs": [],
   "source": [
    "df = new_df.copy()"
   ]
  },
  {
   "cell_type": "code",
   "execution_count": 46,
   "metadata": {},
   "outputs": [],
   "source": [
    "M10_may_train = df.drop(df[(df['label'] != 45) & (df['label'] != 24) & (df['label'] != 40) & (df['label'] != 35) & (df['label'] != 25) & (df['label'] != 13) & (df['label'] != 20) & (df['label'] != 30) & (df['label'] != 26) & (df['label'] != 39)].index)"
   ]
  },
  {
   "cell_type": "code",
   "execution_count": null,
   "metadata": {},
   "outputs": [],
   "source": [
    "M10_may_test = df.drop(df[(df['label'] != 45) & (df['label'] != 24) & (df['label'] != 40) & (df['label'] != 35) & (df['label'] != 25) & (df['label'] != 13) & (df['label'] != 20) & (df['label'] != 30) & (df['label'] != 26) & (df['label'] != 39)].index)"
   ]
  },
  {
   "cell_type": "code",
   "execution_count": null,
   "metadata": {},
   "outputs": [],
   "source": []
  },
  {
   "cell_type": "code",
   "execution_count": null,
   "metadata": {},
   "outputs": [],
   "source": []
  },
  {
   "cell_type": "code",
   "execution_count": 31,
   "metadata": {},
   "outputs": [],
   "source": [
    "del new_df['index']"
   ]
  },
  {
   "cell_type": "code",
   "execution_count": 31,
   "metadata": {
    "scrolled": true
   },
   "outputs": [
    {
     "data": {
      "text/plain": [
       "AP                 0\n",
       "BH                 0\n",
       "BR                 0\n",
       "DELHI              0\n",
       "DIVORCEE           0\n",
       "Female             0\n",
       "GJ                 0\n",
       "HR                 0\n",
       "KA                 0\n",
       "KE                 0\n",
       "MARRIED            0\n",
       "MH                 0\n",
       "MP                 0\n",
       "Male               0\n",
       "Not Categorized    0\n",
       "OR                 0\n",
       "OTHERS             0\n",
       "PU                 0\n",
       "RJ                 0\n",
       "TN                 0\n",
       "UK                 0\n",
       "UNMARRIED          0\n",
       "UP                 0\n",
       "WB                 0\n",
       "WIDOW              0\n",
       "age                0\n",
       "age_bin            0\n",
       "label              0\n",
       "mm                 0\n",
       "salaried           0\n",
       "season             0\n",
       "self_employed      0\n",
       "yyyymm             0\n",
       "dtype: int64"
      ]
     },
     "execution_count": 31,
     "metadata": {},
     "output_type": "execute_result"
    }
   ],
   "source": [
    "new_df.isna().sum()"
   ]
  },
  {
   "cell_type": "code",
   "execution_count": 32,
   "metadata": {},
   "outputs": [
    {
     "data": {
      "text/plain": [
       "((912958, 34), (41383, 33), (41384, 32), (954341, 33))"
      ]
     },
     "execution_count": 32,
     "metadata": {},
     "output_type": "execute_result"
    }
   ],
   "source": [
    "df.shape,may_big.shape,may_small.shape,new_df.shape"
   ]
  },
  {
   "cell_type": "code",
   "execution_count": 33,
   "metadata": {},
   "outputs": [
    {
     "data": {
      "text/plain": [
       "(954341, 33)"
      ]
     },
     "execution_count": 33,
     "metadata": {},
     "output_type": "execute_result"
    }
   ],
   "source": [
    "new_df.shape"
   ]
  },
  {
   "cell_type": "code",
   "execution_count": 34,
   "metadata": {},
   "outputs": [
    {
     "data": {
      "text/plain": [
       "995725"
      ]
     },
     "execution_count": 34,
     "metadata": {},
     "output_type": "execute_result"
    }
   ],
   "source": [
    "968652+13536+13537"
   ]
  },
  {
   "cell_type": "code",
   "execution_count": 130,
   "metadata": {},
   "outputs": [
    {
     "data": {
      "text/plain": [
       "(41383, 34)"
      ]
     },
     "execution_count": 130,
     "metadata": {},
     "output_type": "execute_result"
    }
   ],
   "source": [
    "new_df[new_df['mm'] ==5].shape"
   ]
  },
  {
   "cell_type": "code",
   "execution_count": 131,
   "metadata": {},
   "outputs": [
    {
     "data": {
      "text/html": [
       "<div>\n",
       "<style scoped>\n",
       "    .dataframe tbody tr th:only-of-type {\n",
       "        vertical-align: middle;\n",
       "    }\n",
       "\n",
       "    .dataframe tbody tr th {\n",
       "        vertical-align: top;\n",
       "    }\n",
       "\n",
       "    .dataframe thead th {\n",
       "        text-align: right;\n",
       "    }\n",
       "</style>\n",
       "<table border=\"1\" class=\"dataframe\">\n",
       "  <thead>\n",
       "    <tr style=\"text-align: right;\">\n",
       "      <th></th>\n",
       "      <th>AP</th>\n",
       "      <th>BH</th>\n",
       "      <th>BR</th>\n",
       "      <th>DELHI</th>\n",
       "      <th>DIVORCEE</th>\n",
       "      <th>Female</th>\n",
       "      <th>GJ</th>\n",
       "      <th>HR</th>\n",
       "      <th>KA</th>\n",
       "      <th>KE</th>\n",
       "      <th>MARRIED</th>\n",
       "      <th>MH</th>\n",
       "      <th>MP</th>\n",
       "      <th>Male</th>\n",
       "      <th>Not Categorized</th>\n",
       "      <th>OR</th>\n",
       "      <th>OTHERS</th>\n",
       "      <th>PU</th>\n",
       "      <th>RJ</th>\n",
       "      <th>TN</th>\n",
       "      <th>UK</th>\n",
       "      <th>UNMARRIED</th>\n",
       "      <th>UP</th>\n",
       "      <th>WB</th>\n",
       "      <th>WIDOW</th>\n",
       "      <th>age</th>\n",
       "      <th>age_bin</th>\n",
       "      <th>index</th>\n",
       "      <th>label</th>\n",
       "      <th>mm</th>\n",
       "      <th>salaried</th>\n",
       "      <th>season</th>\n",
       "      <th>self_employed</th>\n",
       "      <th>yyyymm</th>\n",
       "    </tr>\n",
       "  </thead>\n",
       "  <tbody>\n",
       "    <tr>\n",
       "      <th>14221</th>\n",
       "      <td>0</td>\n",
       "      <td>0</td>\n",
       "      <td>0</td>\n",
       "      <td>0</td>\n",
       "      <td>0</td>\n",
       "      <td>0</td>\n",
       "      <td>0</td>\n",
       "      <td>0</td>\n",
       "      <td>0</td>\n",
       "      <td>0</td>\n",
       "      <td>1</td>\n",
       "      <td>0</td>\n",
       "      <td>0</td>\n",
       "      <td>1</td>\n",
       "      <td>0</td>\n",
       "      <td>0</td>\n",
       "      <td>0</td>\n",
       "      <td>0</td>\n",
       "      <td>0</td>\n",
       "      <td>1</td>\n",
       "      <td>0</td>\n",
       "      <td>0</td>\n",
       "      <td>0</td>\n",
       "      <td>0</td>\n",
       "      <td>0</td>\n",
       "      <td>47.0</td>\n",
       "      <td>45.0</td>\n",
       "      <td>15507.0</td>\n",
       "      <td>SAMSUNG ELECTRONICS INDIA LIMITED</td>\n",
       "      <td>1</td>\n",
       "      <td>0</td>\n",
       "      <td>0</td>\n",
       "      <td>1</td>\n",
       "      <td>201801</td>\n",
       "    </tr>\n",
       "    <tr>\n",
       "      <th>67043</th>\n",
       "      <td>0</td>\n",
       "      <td>0</td>\n",
       "      <td>0</td>\n",
       "      <td>0</td>\n",
       "      <td>0</td>\n",
       "      <td>0</td>\n",
       "      <td>0</td>\n",
       "      <td>0</td>\n",
       "      <td>0</td>\n",
       "      <td>1</td>\n",
       "      <td>1</td>\n",
       "      <td>0</td>\n",
       "      <td>0</td>\n",
       "      <td>1</td>\n",
       "      <td>0</td>\n",
       "      <td>0</td>\n",
       "      <td>0</td>\n",
       "      <td>0</td>\n",
       "      <td>0</td>\n",
       "      <td>0</td>\n",
       "      <td>0</td>\n",
       "      <td>0</td>\n",
       "      <td>0</td>\n",
       "      <td>0</td>\n",
       "      <td>0</td>\n",
       "      <td>35.0</td>\n",
       "      <td>30.0</td>\n",
       "      <td>73076.0</td>\n",
       "      <td>SAMSUNG ELECTRONICS INDIA LIMITED</td>\n",
       "      <td>8</td>\n",
       "      <td>0</td>\n",
       "      <td>1</td>\n",
       "      <td>1</td>\n",
       "      <td>201808</td>\n",
       "    </tr>\n",
       "  </tbody>\n",
       "</table>\n",
       "</div>"
      ],
      "text/plain": [
       "      AP BH BR DELHI DIVORCEE Female GJ HR KA KE MARRIED MH MP Male Not Categorized OR OTHERS PU RJ TN UK UNMARRIED UP WB WIDOW   age  age_bin    index                              label mm salaried season self_employed  yyyymm\n",
       "14221  0  0  0     0        0      0  0  0  0  0       1  0  0    1               0  0      0  0  0  1  0         0  0  0     0  47.0     45.0  15507.0  SAMSUNG ELECTRONICS INDIA LIMITED  1        0      0             1  201801\n",
       "67043  0  0  0     0        0      0  0  0  0  1       1  0  0    1               0  0      0  0  0  0  0         0  0  0     0  35.0     30.0  73076.0  SAMSUNG ELECTRONICS INDIA LIMITED  8        0      1             1  201808"
      ]
     },
     "execution_count": 131,
     "metadata": {},
     "output_type": "execute_result"
    }
   ],
   "source": [
    "new_df.sample(2)"
   ]
  },
  {
   "cell_type": "code",
   "execution_count": 132,
   "metadata": {},
   "outputs": [],
   "source": [
    "label_new_df =new_df['label']\n",
    "del new_df['label']"
   ]
  },
  {
   "cell_type": "code",
   "execution_count": 133,
   "metadata": {},
   "outputs": [],
   "source": [
    "del new_df['index']"
   ]
  },
  {
   "cell_type": "code",
   "execution_count": 134,
   "metadata": {},
   "outputs": [
    {
     "name": "stderr",
     "output_type": "stream",
     "text": [
      "/home/ion/.local/lib/python3.6/site-packages/sklearn/ensemble/weight_boosting.py:29: DeprecationWarning: numpy.core.umath_tests is an internal NumPy module and should not be imported. It will be removed in a future NumPy release.\n",
      "  from numpy.core.umath_tests import inner1d\n"
     ]
    }
   ],
   "source": [
    "from sklearn.ensemble import RandomForestClassifier"
   ]
  },
  {
   "cell_type": "code",
   "execution_count": 135,
   "metadata": {},
   "outputs": [],
   "source": [
    "clf = RandomForestClassifier(verbose=1,n_jobs=4)"
   ]
  },
  {
   "cell_type": "code",
   "execution_count": 136,
   "metadata": {},
   "outputs": [
    {
     "data": {
      "text/plain": [
       "AP                 0\n",
       "BH                 0\n",
       "BR                 0\n",
       "DELHI              0\n",
       "DIVORCEE           0\n",
       "Female             0\n",
       "GJ                 0\n",
       "HR                 0\n",
       "KA                 0\n",
       "KE                 0\n",
       "MARRIED            0\n",
       "MH                 0\n",
       "MP                 0\n",
       "Male               0\n",
       "Not Categorized    0\n",
       "OR                 0\n",
       "OTHERS             0\n",
       "PU                 0\n",
       "RJ                 0\n",
       "TN                 0\n",
       "UK                 0\n",
       "UNMARRIED          0\n",
       "UP                 0\n",
       "WB                 0\n",
       "WIDOW              0\n",
       "age                0\n",
       "age_bin            0\n",
       "mm                 0\n",
       "salaried           0\n",
       "season             0\n",
       "self_employed      0\n",
       "yyyymm             0\n",
       "dtype: int64"
      ]
     },
     "execution_count": 136,
     "metadata": {},
     "output_type": "execute_result"
    }
   ],
   "source": [
    "new_df.isnull().sum()"
   ]
  },
  {
   "cell_type": "code",
   "execution_count": 137,
   "metadata": {},
   "outputs": [
    {
     "data": {
      "text/plain": [
       "((954341, 32), 954341)"
      ]
     },
     "execution_count": 137,
     "metadata": {},
     "output_type": "execute_result"
    }
   ],
   "source": [
    "new_df.shape,len(label_new_df)"
   ]
  },
  {
   "cell_type": "code",
   "execution_count": null,
   "metadata": {},
   "outputs": [],
   "source": []
  },
  {
   "cell_type": "code",
   "execution_count": 49,
   "metadata": {},
   "outputs": [
    {
     "ename": "NameError",
     "evalue": "name 'g' is not defined",
     "output_type": "error",
     "traceback": [
      "\u001b[0;31m---------------------------------------------------------------------------\u001b[0m",
      "\u001b[0;31mNameError\u001b[0m                                 Traceback (most recent call last)",
      "\u001b[0;32m<ipython-input-49-a61fd2febb3a>\u001b[0m in \u001b[0;36m<module>\u001b[0;34m\u001b[0m\n\u001b[0;32m----> 1\u001b[0;31m \u001b[0mg\u001b[0m\u001b[0;34m[\u001b[0m\u001b[0;36m500\u001b[0m\u001b[0;34m]\u001b[0m\u001b[0;34m\u001b[0m\u001b[0;34m\u001b[0m\u001b[0m\n\u001b[0m",
      "\u001b[0;31mNameError\u001b[0m: name 'g' is not defined"
     ]
    }
   ],
   "source": [
    "g[500]"
   ]
  },
  {
   "cell_type": "code",
   "execution_count": 50,
   "metadata": {},
   "outputs": [
    {
     "data": {
      "text/plain": [
       "45.0"
      ]
     },
     "execution_count": 50,
     "metadata": {},
     "output_type": "execute_result"
    }
   ],
   "source": [
    "label_new_df[500]"
   ]
  },
  {
   "cell_type": "code",
   "execution_count": 60,
   "metadata": {},
   "outputs": [
    {
     "data": {
      "text/plain": [
       "pandas.core.series.Series"
      ]
     },
     "execution_count": 60,
     "metadata": {},
     "output_type": "execute_result"
    }
   ],
   "source": [
    "type(label_new_df)"
   ]
  },
  {
   "cell_type": "code",
   "execution_count": 50,
   "metadata": {},
   "outputs": [],
   "source": [
    "g = new_df.values"
   ]
  },
  {
   "cell_type": "code",
   "execution_count": 79,
   "metadata": {},
   "outputs": [
    {
     "data": {
      "text/plain": [
       "AP                  object\n",
       "BH                  object\n",
       "BR                  object\n",
       "DELHI               object\n",
       "DIVORCEE            object\n",
       "Female              object\n",
       "GJ                  object\n",
       "HR                  object\n",
       "KA                  object\n",
       "KE                  object\n",
       "MARRIED             object\n",
       "MH                  object\n",
       "MP                  object\n",
       "Male                object\n",
       "Not Categorized     object\n",
       "OR                  object\n",
       "OTHERS              object\n",
       "PU                  object\n",
       "RJ                  object\n",
       "TN                  object\n",
       "UK                  object\n",
       "UNMARRIED           object\n",
       "UP                  object\n",
       "WB                  object\n",
       "WIDOW               object\n",
       "age                 object\n",
       "age_bin            float64\n",
       "mm                  object\n",
       "salaried            object\n",
       "season              object\n",
       "self_employed       object\n",
       "yyyymm              object\n",
       "dtype: object"
      ]
     },
     "execution_count": 79,
     "metadata": {},
     "output_type": "execute_result"
    }
   ],
   "source": [
    "new_df.dtypes"
   ]
  },
  {
   "cell_type": "code",
   "execution_count": 132,
   "metadata": {},
   "outputs": [
    {
     "data": {
      "text/html": [
       "<div>\n",
       "<style scoped>\n",
       "    .dataframe tbody tr th:only-of-type {\n",
       "        vertical-align: middle;\n",
       "    }\n",
       "\n",
       "    .dataframe tbody tr th {\n",
       "        vertical-align: top;\n",
       "    }\n",
       "\n",
       "    .dataframe thead th {\n",
       "        text-align: right;\n",
       "    }\n",
       "</style>\n",
       "<table border=\"1\" class=\"dataframe\">\n",
       "  <thead>\n",
       "    <tr style=\"text-align: right;\">\n",
       "      <th></th>\n",
       "      <th>AP</th>\n",
       "      <th>BH</th>\n",
       "      <th>BR</th>\n",
       "      <th>DELHI</th>\n",
       "      <th>DIVORCEE</th>\n",
       "      <th>Female</th>\n",
       "      <th>GJ</th>\n",
       "      <th>HR</th>\n",
       "      <th>KA</th>\n",
       "      <th>KE</th>\n",
       "      <th>MARRIED</th>\n",
       "      <th>MH</th>\n",
       "      <th>MP</th>\n",
       "      <th>Male</th>\n",
       "      <th>Not Categorized</th>\n",
       "      <th>OR</th>\n",
       "      <th>OTHERS</th>\n",
       "      <th>PU</th>\n",
       "      <th>RJ</th>\n",
       "      <th>TN</th>\n",
       "      <th>UK</th>\n",
       "      <th>UNMARRIED</th>\n",
       "      <th>UP</th>\n",
       "      <th>WB</th>\n",
       "      <th>WIDOW</th>\n",
       "      <th>age_bin</th>\n",
       "      <th>mm</th>\n",
       "      <th>salaried</th>\n",
       "      <th>season</th>\n",
       "      <th>self_employed</th>\n",
       "      <th>yyyymm</th>\n",
       "      <th>age</th>\n",
       "    </tr>\n",
       "  </thead>\n",
       "  <tbody>\n",
       "    <tr>\n",
       "      <th>0</th>\n",
       "      <td>0</td>\n",
       "      <td>0</td>\n",
       "      <td>0</td>\n",
       "      <td>0</td>\n",
       "      <td>0</td>\n",
       "      <td>0</td>\n",
       "      <td>0</td>\n",
       "      <td>0</td>\n",
       "      <td>0</td>\n",
       "      <td>0</td>\n",
       "      <td>1</td>\n",
       "      <td>0</td>\n",
       "      <td>0</td>\n",
       "      <td>1</td>\n",
       "      <td>0</td>\n",
       "      <td>0</td>\n",
       "      <td>0</td>\n",
       "      <td>0</td>\n",
       "      <td>0</td>\n",
       "      <td>1</td>\n",
       "      <td>0</td>\n",
       "      <td>0</td>\n",
       "      <td>0</td>\n",
       "      <td>0</td>\n",
       "      <td>0</td>\n",
       "      <td>40.0</td>\n",
       "      <td>11</td>\n",
       "      <td>0</td>\n",
       "      <td>1</td>\n",
       "      <td>1</td>\n",
       "      <td>201811</td>\n",
       "      <td>43.0</td>\n",
       "    </tr>\n",
       "    <tr>\n",
       "      <th>1</th>\n",
       "      <td>0</td>\n",
       "      <td>0</td>\n",
       "      <td>0</td>\n",
       "      <td>0</td>\n",
       "      <td>0</td>\n",
       "      <td>0</td>\n",
       "      <td>0</td>\n",
       "      <td>0</td>\n",
       "      <td>0</td>\n",
       "      <td>0</td>\n",
       "      <td>1</td>\n",
       "      <td>0</td>\n",
       "      <td>0</td>\n",
       "      <td>1</td>\n",
       "      <td>0</td>\n",
       "      <td>0</td>\n",
       "      <td>0</td>\n",
       "      <td>0</td>\n",
       "      <td>0</td>\n",
       "      <td>1</td>\n",
       "      <td>0</td>\n",
       "      <td>0</td>\n",
       "      <td>0</td>\n",
       "      <td>0</td>\n",
       "      <td>0</td>\n",
       "      <td>35.0</td>\n",
       "      <td>12</td>\n",
       "      <td>0</td>\n",
       "      <td>0</td>\n",
       "      <td>1</td>\n",
       "      <td>201812</td>\n",
       "      <td>36.0</td>\n",
       "    </tr>\n",
       "    <tr>\n",
       "      <th>2</th>\n",
       "      <td>0</td>\n",
       "      <td>0</td>\n",
       "      <td>0</td>\n",
       "      <td>0</td>\n",
       "      <td>0</td>\n",
       "      <td>0</td>\n",
       "      <td>0</td>\n",
       "      <td>0</td>\n",
       "      <td>0</td>\n",
       "      <td>0</td>\n",
       "      <td>1</td>\n",
       "      <td>0</td>\n",
       "      <td>0</td>\n",
       "      <td>1</td>\n",
       "      <td>0</td>\n",
       "      <td>0</td>\n",
       "      <td>0</td>\n",
       "      <td>0</td>\n",
       "      <td>0</td>\n",
       "      <td>1</td>\n",
       "      <td>0</td>\n",
       "      <td>0</td>\n",
       "      <td>0</td>\n",
       "      <td>0</td>\n",
       "      <td>0</td>\n",
       "      <td>40.0</td>\n",
       "      <td>9</td>\n",
       "      <td>1</td>\n",
       "      <td>0</td>\n",
       "      <td>0</td>\n",
       "      <td>201809</td>\n",
       "      <td>41.0</td>\n",
       "    </tr>\n",
       "    <tr>\n",
       "      <th>3</th>\n",
       "      <td>0</td>\n",
       "      <td>0</td>\n",
       "      <td>0</td>\n",
       "      <td>0</td>\n",
       "      <td>0</td>\n",
       "      <td>0</td>\n",
       "      <td>0</td>\n",
       "      <td>0</td>\n",
       "      <td>0</td>\n",
       "      <td>0</td>\n",
       "      <td>1</td>\n",
       "      <td>0</td>\n",
       "      <td>0</td>\n",
       "      <td>1</td>\n",
       "      <td>0</td>\n",
       "      <td>0</td>\n",
       "      <td>0</td>\n",
       "      <td>0</td>\n",
       "      <td>0</td>\n",
       "      <td>1</td>\n",
       "      <td>0</td>\n",
       "      <td>0</td>\n",
       "      <td>0</td>\n",
       "      <td>0</td>\n",
       "      <td>0</td>\n",
       "      <td>45.0</td>\n",
       "      <td>10</td>\n",
       "      <td>0</td>\n",
       "      <td>1</td>\n",
       "      <td>1</td>\n",
       "      <td>201810</td>\n",
       "      <td>47.0</td>\n",
       "    </tr>\n",
       "    <tr>\n",
       "      <th>4</th>\n",
       "      <td>0</td>\n",
       "      <td>0</td>\n",
       "      <td>0</td>\n",
       "      <td>0</td>\n",
       "      <td>0</td>\n",
       "      <td>0</td>\n",
       "      <td>0</td>\n",
       "      <td>0</td>\n",
       "      <td>0</td>\n",
       "      <td>0</td>\n",
       "      <td>1</td>\n",
       "      <td>0</td>\n",
       "      <td>0</td>\n",
       "      <td>1</td>\n",
       "      <td>0</td>\n",
       "      <td>0</td>\n",
       "      <td>0</td>\n",
       "      <td>0</td>\n",
       "      <td>0</td>\n",
       "      <td>1</td>\n",
       "      <td>0</td>\n",
       "      <td>0</td>\n",
       "      <td>0</td>\n",
       "      <td>0</td>\n",
       "      <td>0</td>\n",
       "      <td>35.0</td>\n",
       "      <td>11</td>\n",
       "      <td>1</td>\n",
       "      <td>1</td>\n",
       "      <td>0</td>\n",
       "      <td>201811</td>\n",
       "      <td>37.0</td>\n",
       "    </tr>\n",
       "  </tbody>\n",
       "</table>\n",
       "</div>"
      ],
      "text/plain": [
       "  AP BH BR DELHI DIVORCEE Female GJ HR KA KE MARRIED MH MP Male Not Categorized OR OTHERS PU RJ TN UK UNMARRIED UP WB WIDOW  age_bin  mm salaried season self_employed  yyyymm   age\n",
       "0  0  0  0     0        0      0  0  0  0  0       1  0  0    1               0  0      0  0  0  1  0         0  0  0     0     40.0  11        0      1             1  201811  43.0\n",
       "1  0  0  0     0        0      0  0  0  0  0       1  0  0    1               0  0      0  0  0  1  0         0  0  0     0     35.0  12        0      0             1  201812  36.0\n",
       "2  0  0  0     0        0      0  0  0  0  0       1  0  0    1               0  0      0  0  0  1  0         0  0  0     0     40.0   9        1      0             0  201809  41.0\n",
       "3  0  0  0     0        0      0  0  0  0  0       1  0  0    1               0  0      0  0  0  1  0         0  0  0     0     45.0  10        0      1             1  201810  47.0\n",
       "4  0  0  0     0        0      0  0  0  0  0       1  0  0    1               0  0      0  0  0  1  0         0  0  0     0     35.0  11        1      1             0  201811  37.0"
      ]
     },
     "execution_count": 132,
     "metadata": {},
     "output_type": "execute_result"
    }
   ],
   "source": [
    "new_df.head()"
   ]
  },
  {
   "cell_type": "code",
   "execution_count": null,
   "metadata": {},
   "outputs": [],
   "source": [
    "df.to_feather"
   ]
  },
  {
   "cell_type": "code",
   "execution_count": 76,
   "metadata": {},
   "outputs": [],
   "source": [
    "new_df[\"age\"] = new_df.age.to_numpy()"
   ]
  },
  {
   "cell_type": "code",
   "execution_count": 137,
   "metadata": {},
   "outputs": [],
   "source": [
    "g = new_df.values"
   ]
  },
  {
   "cell_type": "code",
   "execution_count": 138,
   "metadata": {
    "scrolled": true
   },
   "outputs": [
    {
     "data": {
      "text/plain": [
       "array([[0, 0, 0, 0, 0, 0, 0, 0, 0, 0, 1, 0, 0, 1, 0, 0, 0, 0, 0, 1, 0, 0,\n",
       "        0, 0, 0, 40.0, 11, 0, 1, 1, 201811, 43.0],\n",
       "       [0, 0, 0, 0, 0, 0, 0, 0, 0, 0, 1, 0, 0, 1, 0, 0, 0, 0, 0, 1, 0, 0,\n",
       "        0, 0, 0, 35.0, 12, 0, 0, 1, 201812, 36.0],\n",
       "       [0, 0, 0, 0, 0, 0, 0, 0, 0, 0, 1, 0, 0, 1, 0, 0, 0, 0, 0, 1, 0, 0,\n",
       "        0, 0, 0, 40.0, 9, 1, 0, 0, 201809, 41.0],\n",
       "       [0, 0, 0, 0, 0, 0, 0, 0, 0, 0, 1, 0, 0, 1, 0, 0, 0, 0, 0, 1, 0, 0,\n",
       "        0, 0, 0, 45.0, 10, 0, 1, 1, 201810, 47.0],\n",
       "       [0, 0, 0, 0, 0, 0, 0, 0, 0, 0, 1, 0, 0, 1, 0, 0, 0, 0, 0, 1, 0, 0,\n",
       "        0, 0, 0, 35.0, 11, 1, 1, 0, 201811, 37.0],\n",
       "       [0, 0, 0, 0, 0, 1, 0, 0, 0, 0, 1, 0, 0, 0, 0, 0, 0, 0, 0, 1, 0, 0,\n",
       "        0, 0, 0, 40.0, 11, 0, 1, 1, 201811, 44.0],\n",
       "       [0, 0, 0, 0, 0, 0, 0, 0, 0, 0, 0, 0, 0, 1, 0, 0, 0, 0, 0, 1, 0, 1,\n",
       "        0, 0, 0, 25.0, 12, 1, 0, 0, 201812, 27.0],\n",
       "       [0, 0, 0, 0, 0, 0, 0, 0, 0, 0, 1, 0, 0, 1, 0, 0, 0, 0, 0, 1, 0, 0,\n",
       "        0, 0, 0, 30.0, 12, 0, 0, 1, 201812, 33.0],\n",
       "       [0, 0, 0, 0, 0, 0, 0, 0, 0, 0, 1, 0, 0, 1, 0, 0, 0, 0, 0, 1, 0, 0,\n",
       "        0, 0, 0, 25.0, 10, 0, 1, 1, 201810, 30.0],\n",
       "       [0, 0, 0, 0, 0, 1, 0, 0, 0, 0, 1, 0, 0, 0, 0, 0, 0, 0, 0, 1, 0, 0,\n",
       "        0, 0, 0, 35.0, 11, 0, 1, 1, 201811, 36.0],\n",
       "       [0, 0, 0, 0, 0, 0, 0, 0, 0, 0, 1, 0, 0, 1, 0, 0, 0, 0, 0, 1, 0, 0,\n",
       "        0, 0, 0, 35.0, 11, 1, 1, 0, 201811, 40.0],\n",
       "       [0, 0, 0, 0, 0, 1, 0, 0, 0, 0, 1, 0, 0, 0, 0, 0, 0, 0, 0, 1, 0, 0,\n",
       "        0, 0, 0, 40.0, 12, 0, 0, 1, 201812, 45.0],\n",
       "       [0, 0, 0, 0, 0, 0, 0, 0, 0, 0, 1, 0, 0, 1, 0, 0, 0, 0, 0, 1, 0, 0,\n",
       "        0, 0, 0, 60.0, 8, 0, 1, 1, 201808, 61.0],\n",
       "       [0, 0, 0, 0, 0, 0, 0, 0, 0, 0, 1, 0, 0, 1, 0, 0, 0, 0, 0, 1, 0, 0,\n",
       "        0, 0, 0, 40.0, 11, 0, 1, 1, 201811, 43.0],\n",
       "       [0, 0, 0, 0, 0, 0, 0, 0, 0, 0, 1, 0, 0, 1, 0, 0, 0, 0, 0, 1, 0, 0,\n",
       "        0, 0, 0, 40.0, 11, 0, 1, 1, 201811, 41.0],\n",
       "       [0, 0, 0, 0, 0, 0, 0, 0, 0, 0, 1, 0, 0, 1, 0, 0, 0, 0, 0, 1, 0, 0,\n",
       "        0, 0, 0, 45.0, 12, 0, 0, 1, 201812, 50.0],\n",
       "       [0, 0, 0, 0, 0, 0, 0, 0, 0, 0, 1, 0, 0, 1, 0, 0, 0, 0, 0, 1, 0, 0,\n",
       "        0, 0, 0, 45.0, 11, 0, 1, 1, 201811, 46.0],\n",
       "       [0, 0, 0, 0, 0, 0, 0, 0, 0, 0, 1, 0, 0, 1, 0, 0, 0, 0, 0, 1, 0, 0,\n",
       "        0, 0, 0, 45.0, 10, 0, 1, 1, 201810, 49.0],\n",
       "       [0, 0, 0, 0, 0, 0, 0, 0, 0, 0, 1, 0, 0, 1, 0, 0, 0, 0, 0, 1, 0, 0,\n",
       "        0, 0, 0, 30.0, 10, 0, 1, 1, 201810, 31.0],\n",
       "       [0, 0, 0, 0, 0, 0, 0, 0, 0, 0, 1, 0, 0, 1, 0, 0, 0, 0, 0, 1, 0, 0,\n",
       "        0, 0, 0, 35.0, 11, 0, 1, 1, 201811, 38.0]], dtype=object)"
      ]
     },
     "execution_count": 138,
     "metadata": {},
     "output_type": "execute_result"
    }
   ],
   "source": [
    "g[:20]"
   ]
  },
  {
   "cell_type": "code",
   "execution_count": 140,
   "metadata": {},
   "outputs": [],
   "source": [
    "label_train = label_new_df.tolist()"
   ]
  },
  {
   "cell_type": "code",
   "execution_count": 144,
   "metadata": {},
   "outputs": [
    {
     "data": {
      "text/plain": [
       "array([[0, 0, 0, ..., 1, 201811, 43.0],\n",
       "       [0, 0, 0, ..., 1, 201812, 36.0],\n",
       "       [0, 0, 0, ..., 0, 201809, 41.0],\n",
       "       ...,\n",
       "       [0, 0, 0, ..., 1, 201805, 43.0],\n",
       "       [0, 0, 0, ..., 1, 201805, 59.0],\n",
       "       [0, 0, 0, ..., 0, 201805, 29.0]], dtype=object)"
      ]
     },
     "execution_count": 144,
     "metadata": {},
     "output_type": "execute_result"
    }
   ],
   "source": [
    "g"
   ]
  },
  {
   "cell_type": "code",
   "execution_count": 158,
   "metadata": {},
   "outputs": [
    {
     "data": {
      "text/plain": [
       "False    912958\n",
       "True      41383\n",
       "Name: label, dtype: int64"
      ]
     },
     "execution_count": 158,
     "metadata": {},
     "output_type": "execute_result"
    }
   ],
   "source": [
    "label_new_df.isna().value_counts()"
   ]
  },
  {
   "cell_type": "code",
   "execution_count": 159,
   "metadata": {},
   "outputs": [
    {
     "data": {
      "text/plain": [
       "((954341, 32), (954341,))"
      ]
     },
     "execution_count": 159,
     "metadata": {},
     "output_type": "execute_result"
    }
   ],
   "source": [
    "new_df.shape,label_new_df.shape"
   ]
  },
  {
   "cell_type": "code",
   "execution_count": 147,
   "metadata": {},
   "outputs": [
    {
     "ename": "TypeError",
     "evalue": "ufunc 'isnan' not supported for the input types, and the inputs could not be safely coerced to any supported types according to the casting rule ''safe''",
     "output_type": "error",
     "traceback": [
      "\u001b[0;31m---------------------------------------------------------------------------\u001b[0m",
      "\u001b[0;31mTypeError\u001b[0m                                 Traceback (most recent call last)",
      "\u001b[0;32m<ipython-input-147-a5556057f81e>\u001b[0m in \u001b[0;36m<module>\u001b[0;34m\u001b[0m\n\u001b[1;32m      1\u001b[0m \u001b[0;32mimport\u001b[0m \u001b[0mnumpy\u001b[0m \u001b[0;32mas\u001b[0m \u001b[0mnp\u001b[0m\u001b[0;34m\u001b[0m\u001b[0;34m\u001b[0m\u001b[0m\n\u001b[0;32m----> 2\u001b[0;31m \u001b[0mnp\u001b[0m\u001b[0;34m.\u001b[0m\u001b[0misnan\u001b[0m\u001b[0;34m(\u001b[0m\u001b[0mg\u001b[0m\u001b[0;34m)\u001b[0m\u001b[0;34m\u001b[0m\u001b[0;34m\u001b[0m\u001b[0m\n\u001b[0m",
      "\u001b[0;31mTypeError\u001b[0m: ufunc 'isnan' not supported for the input types, and the inputs could not be safely coerced to any supported types according to the casting rule ''safe''"
     ]
    }
   ],
   "source": [
    "import numpy as np\n",
    "np.isnan(g)"
   ]
  },
  {
   "cell_type": "code",
   "execution_count": 149,
   "metadata": {},
   "outputs": [
    {
     "data": {
      "text/plain": [
       "(array([0, 0, 0, 0, 0, 0, 0, 0, 0, 0, 1, 0, 0, 1, 0, 0, 0, 0, 0, 1, 0, 0,\n",
       "        0, 0, 0, 40.0, 11, 0, 1, 1, 201811, 43.0], dtype=object), 24.0)"
      ]
     },
     "execution_count": 149,
     "metadata": {},
     "output_type": "execute_result"
    }
   ],
   "source": [
    "g[0],label_train[0]"
   ]
  },
  {
   "cell_type": "code",
   "execution_count": 60,
   "metadata": {},
   "outputs": [
    {
     "data": {
      "text/html": [
       "<div>\n",
       "<style scoped>\n",
       "    .dataframe tbody tr th:only-of-type {\n",
       "        vertical-align: middle;\n",
       "    }\n",
       "\n",
       "    .dataframe tbody tr th {\n",
       "        vertical-align: top;\n",
       "    }\n",
       "\n",
       "    .dataframe thead th {\n",
       "        text-align: right;\n",
       "    }\n",
       "</style>\n",
       "<table border=\"1\" class=\"dataframe\">\n",
       "  <thead>\n",
       "    <tr style=\"text-align: right;\">\n",
       "      <th></th>\n",
       "      <th>AP</th>\n",
       "      <th>BH</th>\n",
       "      <th>BR</th>\n",
       "      <th>DELHI</th>\n",
       "      <th>DIVORCEE</th>\n",
       "      <th>Female</th>\n",
       "      <th>GJ</th>\n",
       "      <th>HR</th>\n",
       "      <th>KA</th>\n",
       "      <th>KE</th>\n",
       "      <th>MARRIED</th>\n",
       "      <th>MH</th>\n",
       "      <th>MP</th>\n",
       "      <th>Male</th>\n",
       "      <th>Not Categorized</th>\n",
       "      <th>OR</th>\n",
       "      <th>OTHERS</th>\n",
       "      <th>PU</th>\n",
       "      <th>RJ</th>\n",
       "      <th>TN</th>\n",
       "      <th>UK</th>\n",
       "      <th>UNMARRIED</th>\n",
       "      <th>UP</th>\n",
       "      <th>WB</th>\n",
       "      <th>WIDOW</th>\n",
       "      <th>age</th>\n",
       "      <th>age_bin</th>\n",
       "      <th>mm</th>\n",
       "      <th>salaried</th>\n",
       "      <th>season</th>\n",
       "      <th>self_employed</th>\n",
       "      <th>yyyymm</th>\n",
       "    </tr>\n",
       "  </thead>\n",
       "  <tbody>\n",
       "    <tr>\n",
       "      <th>187106</th>\n",
       "      <td>0</td>\n",
       "      <td>0</td>\n",
       "      <td>0</td>\n",
       "      <td>0</td>\n",
       "      <td>0</td>\n",
       "      <td>0</td>\n",
       "      <td>0</td>\n",
       "      <td>0</td>\n",
       "      <td>0</td>\n",
       "      <td>0</td>\n",
       "      <td>1</td>\n",
       "      <td>1</td>\n",
       "      <td>0</td>\n",
       "      <td>1</td>\n",
       "      <td>0</td>\n",
       "      <td>0</td>\n",
       "      <td>0</td>\n",
       "      <td>0</td>\n",
       "      <td>0</td>\n",
       "      <td>0</td>\n",
       "      <td>0</td>\n",
       "      <td>0</td>\n",
       "      <td>0</td>\n",
       "      <td>0</td>\n",
       "      <td>0</td>\n",
       "      <td>47.0</td>\n",
       "      <td>45.0</td>\n",
       "      <td>4</td>\n",
       "      <td>0</td>\n",
       "      <td>1</td>\n",
       "      <td>1</td>\n",
       "      <td>201804</td>\n",
       "    </tr>\n",
       "  </tbody>\n",
       "</table>\n",
       "</div>"
      ],
      "text/plain": [
       "       AP BH BR DELHI DIVORCEE Female GJ HR KA KE MARRIED MH MP Male Not Categorized OR OTHERS PU RJ TN UK UNMARRIED UP WB WIDOW   age  age_bin mm salaried season self_employed  yyyymm\n",
       "187106  0  0  0     0        0      0  0  0  0  0       1  1  0    1               0  0      0  0  0  0  0         0  0  0     0  47.0     45.0  4        0      1             1  201804"
      ]
     },
     "execution_count": 60,
     "metadata": {},
     "output_type": "execute_result"
    }
   ],
   "source": [
    "new_df.sample()"
   ]
  },
  {
   "cell_type": "code",
   "execution_count": 138,
   "metadata": {},
   "outputs": [
    {
     "data": {
      "text/plain": [
       "(954341, 954341)"
      ]
     },
     "execution_count": 138,
     "metadata": {},
     "output_type": "execute_result"
    }
   ],
   "source": [
    "len(new_df),len(label_new_df.tolist())"
   ]
  },
  {
   "cell_type": "code",
   "execution_count": 139,
   "metadata": {},
   "outputs": [
    {
     "name": "stderr",
     "output_type": "stream",
     "text": [
      "[Parallel(n_jobs=4)]: Done  10 out of  10 | elapsed:    5.8s finished\n"
     ]
    },
    {
     "data": {
      "text/plain": [
       "RandomForestClassifier(bootstrap=True, class_weight=None, criterion='gini',\n",
       "            max_depth=None, max_features='auto', max_leaf_nodes=None,\n",
       "            min_impurity_decrease=0.0, min_impurity_split=None,\n",
       "            min_samples_leaf=1, min_samples_split=2,\n",
       "            min_weight_fraction_leaf=0.0, n_estimators=10, n_jobs=4,\n",
       "            oob_score=False, random_state=None, verbose=1,\n",
       "            warm_start=False)"
      ]
     },
     "execution_count": 139,
     "metadata": {},
     "output_type": "execute_result"
    }
   ],
   "source": [
    "clf.fit(new_df,label_new_df.tolist())"
   ]
  },
  {
   "cell_type": "code",
   "execution_count": 148,
   "metadata": {},
   "outputs": [],
   "source": [
    "import xgboost as xgb"
   ]
  },
  {
   "cell_type": "code",
   "execution_count": 150,
   "metadata": {},
   "outputs": [
    {
     "ename": "KeyboardInterrupt",
     "evalue": "",
     "output_type": "error",
     "traceback": [
      "\u001b[0;31m---------------------------------------------------------------------------\u001b[0m",
      "\u001b[0;31mKeyboardInterrupt\u001b[0m                         Traceback (most recent call last)",
      "\u001b[0;32m<ipython-input-150-3f841466d6ed>\u001b[0m in \u001b[0;36m<module>\u001b[0;34m\u001b[0m\n\u001b[1;32m      1\u001b[0m \u001b[0mmodel\u001b[0m \u001b[0;34m=\u001b[0m \u001b[0mxgb\u001b[0m\u001b[0;34m.\u001b[0m\u001b[0mXGBClassifier\u001b[0m\u001b[0;34m(\u001b[0m\u001b[0mn_jobs\u001b[0m\u001b[0;34m=\u001b[0m\u001b[0;36m4\u001b[0m\u001b[0;34m)\u001b[0m\u001b[0;34m\u001b[0m\u001b[0;34m\u001b[0m\u001b[0m\n\u001b[0;32m----> 2\u001b[0;31m \u001b[0mmodel\u001b[0m\u001b[0;34m.\u001b[0m\u001b[0mfit\u001b[0m\u001b[0;34m(\u001b[0m\u001b[0mnew_df\u001b[0m\u001b[0;34m.\u001b[0m\u001b[0mvalues\u001b[0m\u001b[0;34m,\u001b[0m\u001b[0mlabel_new_df\u001b[0m\u001b[0;34m.\u001b[0m\u001b[0mtolist\u001b[0m\u001b[0;34m(\u001b[0m\u001b[0;34m)\u001b[0m\u001b[0;34m)\u001b[0m\u001b[0;34m\u001b[0m\u001b[0;34m\u001b[0m\u001b[0m\n\u001b[0m",
      "\u001b[0;32m~/.local/lib/python3.6/site-packages/xgboost/sklearn.py\u001b[0m in \u001b[0;36mfit\u001b[0;34m(self, X, y, sample_weight, eval_set, eval_metric, early_stopping_rounds, verbose, xgb_model, sample_weight_eval_set, callbacks)\u001b[0m\n\u001b[1;32m    711\u001b[0m                               \u001b[0mevals_result\u001b[0m\u001b[0;34m=\u001b[0m\u001b[0mevals_result\u001b[0m\u001b[0;34m,\u001b[0m \u001b[0mobj\u001b[0m\u001b[0;34m=\u001b[0m\u001b[0mobj\u001b[0m\u001b[0;34m,\u001b[0m \u001b[0mfeval\u001b[0m\u001b[0;34m=\u001b[0m\u001b[0mfeval\u001b[0m\u001b[0;34m,\u001b[0m\u001b[0;34m\u001b[0m\u001b[0;34m\u001b[0m\u001b[0m\n\u001b[1;32m    712\u001b[0m                               \u001b[0mverbose_eval\u001b[0m\u001b[0;34m=\u001b[0m\u001b[0mverbose\u001b[0m\u001b[0;34m,\u001b[0m \u001b[0mxgb_model\u001b[0m\u001b[0;34m=\u001b[0m\u001b[0mxgb_model\u001b[0m\u001b[0;34m,\u001b[0m\u001b[0;34m\u001b[0m\u001b[0;34m\u001b[0m\u001b[0m\n\u001b[0;32m--> 713\u001b[0;31m                               callbacks=callbacks)\n\u001b[0m\u001b[1;32m    714\u001b[0m \u001b[0;34m\u001b[0m\u001b[0m\n\u001b[1;32m    715\u001b[0m         \u001b[0mself\u001b[0m\u001b[0;34m.\u001b[0m\u001b[0mobjective\u001b[0m \u001b[0;34m=\u001b[0m \u001b[0mxgb_options\u001b[0m\u001b[0;34m[\u001b[0m\u001b[0;34m\"objective\"\u001b[0m\u001b[0;34m]\u001b[0m\u001b[0;34m\u001b[0m\u001b[0;34m\u001b[0m\u001b[0m\n",
      "\u001b[0;32m~/.local/lib/python3.6/site-packages/xgboost/training.py\u001b[0m in \u001b[0;36mtrain\u001b[0;34m(params, dtrain, num_boost_round, evals, obj, feval, maximize, early_stopping_rounds, evals_result, verbose_eval, xgb_model, callbacks, learning_rates)\u001b[0m\n\u001b[1;32m    214\u001b[0m                            \u001b[0mevals\u001b[0m\u001b[0;34m=\u001b[0m\u001b[0mevals\u001b[0m\u001b[0;34m,\u001b[0m\u001b[0;34m\u001b[0m\u001b[0;34m\u001b[0m\u001b[0m\n\u001b[1;32m    215\u001b[0m                            \u001b[0mobj\u001b[0m\u001b[0;34m=\u001b[0m\u001b[0mobj\u001b[0m\u001b[0;34m,\u001b[0m \u001b[0mfeval\u001b[0m\u001b[0;34m=\u001b[0m\u001b[0mfeval\u001b[0m\u001b[0;34m,\u001b[0m\u001b[0;34m\u001b[0m\u001b[0;34m\u001b[0m\u001b[0m\n\u001b[0;32m--> 216\u001b[0;31m                            xgb_model=xgb_model, callbacks=callbacks)\n\u001b[0m\u001b[1;32m    217\u001b[0m \u001b[0;34m\u001b[0m\u001b[0m\n\u001b[1;32m    218\u001b[0m \u001b[0;34m\u001b[0m\u001b[0m\n",
      "\u001b[0;32m~/.local/lib/python3.6/site-packages/xgboost/training.py\u001b[0m in \u001b[0;36m_train_internal\u001b[0;34m(params, dtrain, num_boost_round, evals, obj, feval, xgb_model, callbacks)\u001b[0m\n\u001b[1;32m     72\u001b[0m         \u001b[0;31m# Skip the first update if it is a recovery step.\u001b[0m\u001b[0;34m\u001b[0m\u001b[0;34m\u001b[0m\u001b[0;34m\u001b[0m\u001b[0m\n\u001b[1;32m     73\u001b[0m         \u001b[0;32mif\u001b[0m \u001b[0mversion\u001b[0m \u001b[0;34m%\u001b[0m \u001b[0;36m2\u001b[0m \u001b[0;34m==\u001b[0m \u001b[0;36m0\u001b[0m\u001b[0;34m:\u001b[0m\u001b[0;34m\u001b[0m\u001b[0;34m\u001b[0m\u001b[0m\n\u001b[0;32m---> 74\u001b[0;31m             \u001b[0mbst\u001b[0m\u001b[0;34m.\u001b[0m\u001b[0mupdate\u001b[0m\u001b[0;34m(\u001b[0m\u001b[0mdtrain\u001b[0m\u001b[0;34m,\u001b[0m \u001b[0mi\u001b[0m\u001b[0;34m,\u001b[0m \u001b[0mobj\u001b[0m\u001b[0;34m)\u001b[0m\u001b[0;34m\u001b[0m\u001b[0;34m\u001b[0m\u001b[0m\n\u001b[0m\u001b[1;32m     75\u001b[0m             \u001b[0mbst\u001b[0m\u001b[0;34m.\u001b[0m\u001b[0msave_rabit_checkpoint\u001b[0m\u001b[0;34m(\u001b[0m\u001b[0;34m)\u001b[0m\u001b[0;34m\u001b[0m\u001b[0;34m\u001b[0m\u001b[0m\n\u001b[1;32m     76\u001b[0m             \u001b[0mversion\u001b[0m \u001b[0;34m+=\u001b[0m \u001b[0;36m1\u001b[0m\u001b[0;34m\u001b[0m\u001b[0;34m\u001b[0m\u001b[0m\n",
      "\u001b[0;32m~/.local/lib/python3.6/site-packages/xgboost/core.py\u001b[0m in \u001b[0;36mupdate\u001b[0;34m(self, dtrain, iteration, fobj)\u001b[0m\n\u001b[1;32m   1108\u001b[0m         \u001b[0;32mif\u001b[0m \u001b[0mfobj\u001b[0m \u001b[0;32mis\u001b[0m \u001b[0;32mNone\u001b[0m\u001b[0;34m:\u001b[0m\u001b[0;34m\u001b[0m\u001b[0;34m\u001b[0m\u001b[0m\n\u001b[1;32m   1109\u001b[0m             _check_call(_LIB.XGBoosterUpdateOneIter(self.handle, ctypes.c_int(iteration),\n\u001b[0;32m-> 1110\u001b[0;31m                                                     dtrain.handle))\n\u001b[0m\u001b[1;32m   1111\u001b[0m         \u001b[0;32melse\u001b[0m\u001b[0;34m:\u001b[0m\u001b[0;34m\u001b[0m\u001b[0;34m\u001b[0m\u001b[0m\n\u001b[1;32m   1112\u001b[0m             \u001b[0mpred\u001b[0m \u001b[0;34m=\u001b[0m \u001b[0mself\u001b[0m\u001b[0;34m.\u001b[0m\u001b[0mpredict\u001b[0m\u001b[0;34m(\u001b[0m\u001b[0mdtrain\u001b[0m\u001b[0;34m)\u001b[0m\u001b[0;34m\u001b[0m\u001b[0;34m\u001b[0m\u001b[0m\n",
      "\u001b[0;31mKeyboardInterrupt\u001b[0m: "
     ]
    }
   ],
   "source": [
    "model = xgb.XGBClassifier(n_jobs=4)\n",
    "model.fit(new_df.values,label_new_df.tolist())"
   ]
  },
  {
   "cell_type": "code",
   "execution_count": 151,
   "metadata": {},
   "outputs": [],
   "source": [
    "import numpy as np"
   ]
  },
  {
   "cell_type": "code",
   "execution_count": 153,
   "metadata": {},
   "outputs": [],
   "source": [
    "np.savez_compressed('top10M',a = new_df.values,b=label_new_df.tolist())\n",
    "#np.savez_compressed('filename.npz', array1=array1, array2=array2)"
   ]
  },
  {
   "cell_type": "code",
   "execution_count": null,
   "metadata": {},
   "outputs": [],
   "source": [
    "import pickle\n",
    "with open('M_top_10.model','rb') as f:\n",
    "    clf = pickle.load(f)"
   ]
  },
  {
   "cell_type": "code",
   "execution_count": 140,
   "metadata": {},
   "outputs": [],
   "source": [
    "from sklearn.metrics import accuracy_score"
   ]
  },
  {
   "cell_type": "code",
   "execution_count": 141,
   "metadata": {},
   "outputs": [
    {
     "data": {
      "text/plain": [
       "((954341, 32), (41384, 32))"
      ]
     },
     "execution_count": 141,
     "metadata": {},
     "output_type": "execute_result"
    }
   ],
   "source": [
    "new_df.shape,may_small.shape"
   ]
  },
  {
   "cell_type": "code",
   "execution_count": null,
   "metadata": {},
   "outputs": [],
   "source": []
  },
  {
   "cell_type": "code",
   "execution_count": 142,
   "metadata": {
    "scrolled": true
   },
   "outputs": [
    {
     "data": {
      "text/html": [
       "<div>\n",
       "<style scoped>\n",
       "    .dataframe tbody tr th:only-of-type {\n",
       "        vertical-align: middle;\n",
       "    }\n",
       "\n",
       "    .dataframe tbody tr th {\n",
       "        vertical-align: top;\n",
       "    }\n",
       "\n",
       "    .dataframe thead th {\n",
       "        text-align: right;\n",
       "    }\n",
       "</style>\n",
       "<table border=\"1\" class=\"dataframe\">\n",
       "  <thead>\n",
       "    <tr style=\"text-align: right;\">\n",
       "      <th></th>\n",
       "      <th>AP</th>\n",
       "      <th>BH</th>\n",
       "      <th>BR</th>\n",
       "      <th>DELHI</th>\n",
       "      <th>DIVORCEE</th>\n",
       "      <th>Female</th>\n",
       "      <th>GJ</th>\n",
       "      <th>HR</th>\n",
       "      <th>KA</th>\n",
       "      <th>KE</th>\n",
       "      <th>MARRIED</th>\n",
       "      <th>MH</th>\n",
       "      <th>MP</th>\n",
       "      <th>Male</th>\n",
       "      <th>Not Categorized</th>\n",
       "      <th>OR</th>\n",
       "      <th>OTHERS</th>\n",
       "      <th>PU</th>\n",
       "      <th>RJ</th>\n",
       "      <th>TN</th>\n",
       "      <th>UK</th>\n",
       "      <th>UNMARRIED</th>\n",
       "      <th>UP</th>\n",
       "      <th>WB</th>\n",
       "      <th>WIDOW</th>\n",
       "      <th>age</th>\n",
       "      <th>age_bin</th>\n",
       "      <th>mm</th>\n",
       "      <th>salaried</th>\n",
       "      <th>season</th>\n",
       "      <th>self_employed</th>\n",
       "      <th>yyyymm</th>\n",
       "    </tr>\n",
       "  </thead>\n",
       "  <tbody>\n",
       "    <tr>\n",
       "      <th>52029</th>\n",
       "      <td>0</td>\n",
       "      <td>0</td>\n",
       "      <td>0</td>\n",
       "      <td>0</td>\n",
       "      <td>0</td>\n",
       "      <td>1</td>\n",
       "      <td>0</td>\n",
       "      <td>0</td>\n",
       "      <td>0</td>\n",
       "      <td>0</td>\n",
       "      <td>0</td>\n",
       "      <td>0</td>\n",
       "      <td>0</td>\n",
       "      <td>0</td>\n",
       "      <td>0</td>\n",
       "      <td>0</td>\n",
       "      <td>0</td>\n",
       "      <td>0</td>\n",
       "      <td>0</td>\n",
       "      <td>0</td>\n",
       "      <td>0</td>\n",
       "      <td>1</td>\n",
       "      <td>1</td>\n",
       "      <td>0</td>\n",
       "      <td>0</td>\n",
       "      <td>31.0</td>\n",
       "      <td>30.0</td>\n",
       "      <td>5</td>\n",
       "      <td>0</td>\n",
       "      <td>0</td>\n",
       "      <td>1</td>\n",
       "      <td>201805</td>\n",
       "    </tr>\n",
       "    <tr>\n",
       "      <th>78119</th>\n",
       "      <td>0</td>\n",
       "      <td>0</td>\n",
       "      <td>0</td>\n",
       "      <td>0</td>\n",
       "      <td>0</td>\n",
       "      <td>0</td>\n",
       "      <td>0</td>\n",
       "      <td>0</td>\n",
       "      <td>0</td>\n",
       "      <td>0</td>\n",
       "      <td>1</td>\n",
       "      <td>0</td>\n",
       "      <td>0</td>\n",
       "      <td>1</td>\n",
       "      <td>0</td>\n",
       "      <td>0</td>\n",
       "      <td>0</td>\n",
       "      <td>0</td>\n",
       "      <td>0</td>\n",
       "      <td>0</td>\n",
       "      <td>0</td>\n",
       "      <td>0</td>\n",
       "      <td>0</td>\n",
       "      <td>1</td>\n",
       "      <td>0</td>\n",
       "      <td>43.0</td>\n",
       "      <td>40.0</td>\n",
       "      <td>5</td>\n",
       "      <td>0</td>\n",
       "      <td>0</td>\n",
       "      <td>1</td>\n",
       "      <td>201805</td>\n",
       "    </tr>\n",
       "    <tr>\n",
       "      <th>62439</th>\n",
       "      <td>0</td>\n",
       "      <td>0</td>\n",
       "      <td>0</td>\n",
       "      <td>0</td>\n",
       "      <td>0</td>\n",
       "      <td>0</td>\n",
       "      <td>0</td>\n",
       "      <td>0</td>\n",
       "      <td>0</td>\n",
       "      <td>0</td>\n",
       "      <td>0</td>\n",
       "      <td>1</td>\n",
       "      <td>0</td>\n",
       "      <td>1</td>\n",
       "      <td>0</td>\n",
       "      <td>0</td>\n",
       "      <td>0</td>\n",
       "      <td>0</td>\n",
       "      <td>0</td>\n",
       "      <td>0</td>\n",
       "      <td>0</td>\n",
       "      <td>1</td>\n",
       "      <td>0</td>\n",
       "      <td>0</td>\n",
       "      <td>0</td>\n",
       "      <td>27.0</td>\n",
       "      <td>25.0</td>\n",
       "      <td>5</td>\n",
       "      <td>0</td>\n",
       "      <td>0</td>\n",
       "      <td>1</td>\n",
       "      <td>201805</td>\n",
       "    </tr>\n",
       "    <tr>\n",
       "      <th>6138</th>\n",
       "      <td>0</td>\n",
       "      <td>0</td>\n",
       "      <td>0</td>\n",
       "      <td>0</td>\n",
       "      <td>0</td>\n",
       "      <td>0</td>\n",
       "      <td>0</td>\n",
       "      <td>0</td>\n",
       "      <td>0</td>\n",
       "      <td>1</td>\n",
       "      <td>1</td>\n",
       "      <td>0</td>\n",
       "      <td>0</td>\n",
       "      <td>1</td>\n",
       "      <td>0</td>\n",
       "      <td>0</td>\n",
       "      <td>0</td>\n",
       "      <td>0</td>\n",
       "      <td>0</td>\n",
       "      <td>0</td>\n",
       "      <td>0</td>\n",
       "      <td>0</td>\n",
       "      <td>0</td>\n",
       "      <td>0</td>\n",
       "      <td>0</td>\n",
       "      <td>31.0</td>\n",
       "      <td>30.0</td>\n",
       "      <td>5</td>\n",
       "      <td>0</td>\n",
       "      <td>0</td>\n",
       "      <td>1</td>\n",
       "      <td>201805</td>\n",
       "    </tr>\n",
       "    <tr>\n",
       "      <th>70737</th>\n",
       "      <td>1</td>\n",
       "      <td>0</td>\n",
       "      <td>0</td>\n",
       "      <td>0</td>\n",
       "      <td>0</td>\n",
       "      <td>0</td>\n",
       "      <td>0</td>\n",
       "      <td>0</td>\n",
       "      <td>0</td>\n",
       "      <td>0</td>\n",
       "      <td>0</td>\n",
       "      <td>0</td>\n",
       "      <td>0</td>\n",
       "      <td>1</td>\n",
       "      <td>0</td>\n",
       "      <td>0</td>\n",
       "      <td>0</td>\n",
       "      <td>0</td>\n",
       "      <td>0</td>\n",
       "      <td>0</td>\n",
       "      <td>0</td>\n",
       "      <td>1</td>\n",
       "      <td>0</td>\n",
       "      <td>0</td>\n",
       "      <td>0</td>\n",
       "      <td>27.0</td>\n",
       "      <td>25.0</td>\n",
       "      <td>5</td>\n",
       "      <td>0</td>\n",
       "      <td>0</td>\n",
       "      <td>1</td>\n",
       "      <td>201805</td>\n",
       "    </tr>\n",
       "  </tbody>\n",
       "</table>\n",
       "</div>"
      ],
      "text/plain": [
       "      AP BH BR DELHI DIVORCEE Female GJ HR KA KE MARRIED MH MP Male Not Categorized OR OTHERS PU RJ TN UK UNMARRIED UP WB WIDOW   age  age_bin mm salaried season self_employed  yyyymm\n",
       "52029  0  0  0     0        0      1  0  0  0  0       0  0  0    0               0  0      0  0  0  0  0         1  1  0     0  31.0     30.0  5        0      0             1  201805\n",
       "78119  0  0  0     0        0      0  0  0  0  0       1  0  0    1               0  0      0  0  0  0  0         0  0  1     0  43.0     40.0  5        0      0             1  201805\n",
       "62439  0  0  0     0        0      0  0  0  0  0       0  1  0    1               0  0      0  0  0  0  0         1  0  0     0  27.0     25.0  5        0      0             1  201805\n",
       "6138   0  0  0     0        0      0  0  0  0  1       1  0  0    1               0  0      0  0  0  0  0         0  0  0     0  31.0     30.0  5        0      0             1  201805\n",
       "70737  1  0  0     0        0      0  0  0  0  0       0  0  0    1               0  0      0  0  0  0  0         1  0  0     0  27.0     25.0  5        0      0             1  201805"
      ]
     },
     "execution_count": 142,
     "metadata": {},
     "output_type": "execute_result"
    }
   ],
   "source": [
    "may_small.head()\n",
    "#del may_small['label']"
   ]
  },
  {
   "cell_type": "code",
   "execution_count": 143,
   "metadata": {},
   "outputs": [
    {
     "data": {
      "text/plain": [
       "52029                       PANASONIC INDIA LIMITED\n",
       "78119                       PANASONIC INDIA LIMITED\n",
       "62439             SAMSUNG ELECTRONICS INDIA LIMITED\n",
       "6138     LLOYD ELECTRIC & ENGINEERING LIMITED(LEEL)\n",
       "70737                                     RECONNECT\n",
       "Name: label, dtype: object"
      ]
     },
     "execution_count": 143,
     "metadata": {},
     "output_type": "execute_result"
    }
   ],
   "source": [
    "may_small_label.head()"
   ]
  },
  {
   "cell_type": "code",
   "execution_count": 144,
   "metadata": {},
   "outputs": [
    {
     "name": "stderr",
     "output_type": "stream",
     "text": [
      "[Parallel(n_jobs=4)]: Done  10 out of  10 | elapsed:    0.1s finished\n"
     ]
    }
   ],
   "source": [
    "y_pred = clf.predict(may_small)"
   ]
  },
  {
   "cell_type": "code",
   "execution_count": null,
   "metadata": {},
   "outputs": [],
   "source": []
  },
  {
   "cell_type": "code",
   "execution_count": 56,
   "metadata": {},
   "outputs": [
    {
     "data": {
      "text/plain": [
       "Index(['AP', 'BH', 'BR', 'DELHI', 'DIVORCEE', 'Female', 'GJ', 'HR', 'KA', 'KE', 'MARRIED', 'MH', 'MP', 'Male', 'Not Categorized', 'OR', 'OTHERS', 'PU', 'RJ', 'TN', 'UK', 'UNMARRIED', 'UP', 'WB', 'WIDOW', 'age', 'age_bin', 'mm', 'salaried', 'season', 'self_employed', 'yyyymm'], dtype='object')"
      ]
     },
     "execution_count": 56,
     "metadata": {},
     "output_type": "execute_result"
    }
   ],
   "source": [
    "may_small.columns"
   ]
  },
  {
   "cell_type": "code",
   "execution_count": 145,
   "metadata": {},
   "outputs": [
    {
     "data": {
      "text/plain": [
       "0.24770442683162575"
      ]
     },
     "execution_count": 145,
     "metadata": {},
     "output_type": "execute_result"
    }
   ],
   "source": [
    "accuracy_score(may_small_label.tolist(), y_pred)"
   ]
  },
  {
   "cell_type": "code",
   "execution_count": 146,
   "metadata": {},
   "outputs": [],
   "source": [
    "feat_importances = pd.Series(clf.feature_importances_)\n",
    "%matplotlib inline"
   ]
  },
  {
   "cell_type": "code",
   "execution_count": 147,
   "metadata": {},
   "outputs": [
    {
     "data": {
      "text/plain": [
       "<matplotlib.axes._subplots.AxesSubplot at 0x7f9a1cee5860>"
      ]
     },
     "execution_count": 147,
     "metadata": {},
     "output_type": "execute_result"
    },
    {
     "data": {
      "image/png": "[encoded data removed]",
      "text/plain": [
       "<Figure size 432x288 with 1 Axes>"
      ]
     },
     "metadata": {
      "needs_background": "light"
     },
     "output_type": "display_data"
    }
   ],
   "source": [
    "feat_importances.nlargest(len(feat_importances)).plot(kind='barh')"
   ]
  },
  {
   "cell_type": "code",
   "execution_count": 61,
   "metadata": {},
   "outputs": [],
   "source": [
    "from sklearn.tree import DecisionTreeClassifier"
   ]
  },
  {
   "cell_type": "code",
   "execution_count": 62,
   "metadata": {},
   "outputs": [],
   "source": [
    "dtc = DecisionTreeClassifier()"
   ]
  },
  {
   "cell_type": "code",
   "execution_count": 63,
   "metadata": {},
   "outputs": [
    {
     "data": {
      "text/plain": [
       "DecisionTreeClassifier(class_weight=None, criterion='gini', max_depth=None,\n",
       "            max_features=None, max_leaf_nodes=None,\n",
       "            min_impurity_decrease=0.0, min_impurity_split=None,\n",
       "            min_samples_leaf=1, min_samples_split=2,\n",
       "            min_weight_fraction_leaf=0.0, presort=False, random_state=None,\n",
       "            splitter='best')"
      ]
     },
     "execution_count": 63,
     "metadata": {},
     "output_type": "execute_result"
    }
   ],
   "source": [
    "dtc.fit(new_df,label_new_df.tolist())"
   ]
  },
  {
   "cell_type": "code",
   "execution_count": 64,
   "metadata": {},
   "outputs": [],
   "source": [
    "y_pred = dtc.predict(may_small)"
   ]
  },
  {
   "cell_type": "code",
   "execution_count": 65,
   "metadata": {},
   "outputs": [
    {
     "data": {
      "text/plain": [
       "0.2451188865261937"
      ]
     },
     "execution_count": 65,
     "metadata": {},
     "output_type": "execute_result"
    }
   ],
   "source": [
    "accuracy_score(may_small_label.tolist(), y_pred)"
   ]
  },
  {
   "cell_type": "code",
   "execution_count": null,
   "metadata": {},
   "outputs": [],
   "source": []
  },
  {
   "cell_type": "code",
   "execution_count": null,
   "metadata": {},
   "outputs": [],
   "source": []
  },
  {
   "cell_type": "code",
   "execution_count": null,
   "metadata": {},
   "outputs": [],
   "source": []
  },
  {
   "cell_type": "code",
   "execution_count": null,
   "metadata": {},
   "outputs": [],
   "source": []
  },
  {
   "cell_type": "code",
   "execution_count": null,
   "metadata": {},
   "outputs": [],
   "source": []
  },
  {
   "cell_type": "code",
   "execution_count": 76,
   "metadata": {},
   "outputs": [
    {
     "data": {
      "text/plain": [
       "201812    417819\n",
       "201902    110098\n",
       "201811     87939\n",
       "201901     61775\n",
       "201709     55388\n",
       "201809     36394\n",
       "201807     31722\n",
       "201904     31335\n",
       "201711     24066\n",
       "201710     22520\n",
       "201804     21313\n",
       "201808     16448\n",
       "201803     13917\n",
       "201805     13473\n",
       "201810      9708\n",
       "201806      8951\n",
       "201903      7067\n",
       "201701      5312\n",
       "201708      2337\n",
       "201704      2133\n",
       "201801      1274\n",
       "201712       383\n",
       "201612       381\n",
       "201802       141\n",
       "201707       104\n",
       "201706        87\n",
       "201705        63\n",
       "201703        40\n",
       "Name: yyyymm, dtype: int64"
      ]
     },
     "execution_count": 76,
     "metadata": {},
     "output_type": "execute_result"
    }
   ],
   "source": [
    "new_df.yyyymm.value_counts()"
   ]
  },
  {
   "cell_type": "code",
   "execution_count": null,
   "metadata": {},
   "outputs": [],
   "source": []
  },
  {
   "cell_type": "code",
   "execution_count": null,
   "metadata": {},
   "outputs": [],
   "source": []
  },
  {
   "cell_type": "code",
   "execution_count": null,
   "metadata": {},
   "outputs": [],
   "source": []
  },
  {
   "cell_type": "code",
   "execution_count": null,
   "metadata": {},
   "outputs": [],
   "source": []
  }
 ],
 "metadata": {
  "kernelspec": {
   "display_name": "Python 3",
   "language": "python",
   "name": "python3"
  },
  "language_info": {
   "codemirror_mode": {
    "name": "ipython",
    "version": 3
   },
   "file_extension": ".py",
   "mimetype": "text/x-python",
   "name": "python",
   "nbconvert_exporter": "python",
   "pygments_lexer": "ipython3",
   "version": "3.6.7"
  }
 },
 "nbformat": 4,
 "nbformat_minor": 2
}
