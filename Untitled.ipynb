{
 "cells": [
  {
   "cell_type": "code",
   "execution_count": 1,
   "metadata": {},
   "outputs": [
    {
     "data": {
      "text/html": [
       "<style>.container { width:100% !important; }</style>"
      ],
      "text/plain": [
       "<IPython.core.display.HTML object>"
      ]
     },
     "metadata": {},
     "output_type": "display_data"
    }
   ],
   "source": [
    "from IPython.core.display import display, HTML\n",
    "display(HTML(\"<style>.container { width:100% !important; }</style>\"))"
   ]
  },
  {
   "cell_type": "code",
   "execution_count": 2,
   "metadata": {},
   "outputs": [],
   "source": [
    "import pandas as pd\n",
    "import numpy as np"
   ]
  },
  {
   "cell_type": "code",
   "execution_count": 3,
   "metadata": {},
   "outputs": [],
   "source": [
    "pd.set_option('display.max_rows', 500)\n",
    "pd.set_option('display.max_columns', 500)\n",
    "pd.set_option('display.width', 1000)"
   ]
  },
  {
   "cell_type": "code",
   "execution_count": 13,
   "metadata": {},
   "outputs": [],
   "source": [
    "df_brands = pd.read_csv('Rt8ETleD0l2G_one')\n",
    "df_led_disb = pd.read_csv('led_disbursements.csv')"
   ]
  },
  {
   "cell_type": "code",
   "execution_count": 14,
   "metadata": {},
   "outputs": [],
   "source": [
    "df_led_brand =df_brands[df_brands['CATEGORY_DESC'] == 'LED']"
   ]
  },
  {
   "cell_type": "code",
   "execution_count": 15,
   "metadata": {},
   "outputs": [],
   "source": [
    "joined = df_led_disb.merge(df_led_brand,left_on='MODEL_ID',right_on='MODEL_ID',how='inner')"
   ]
  },
  {
   "cell_type": "code",
   "execution_count": 17,
   "metadata": {},
   "outputs": [],
   "source": [
    "del joined['MD5_VALUE']"
   ]
  },
  {
   "cell_type": "code",
   "execution_count": 18,
   "metadata": {},
   "outputs": [],
   "source": [
    "joined = joined.dropna()"
   ]
  },
  {
   "cell_type": "code",
   "execution_count": 7,
   "metadata": {},
   "outputs": [],
   "source": [
    "state_data = pd.read_csv('Season_BFL_LED - Sheet14.csv')"
   ]
  },
  {
   "cell_type": "code",
   "execution_count": 8,
   "metadata": {},
   "outputs": [
    {
     "data": {
      "text/plain": [
       "Index(['city', 'SUM of count', 'State', 'Unnamed: 3', 'Unnamed: 4'], dtype='object')"
      ]
     },
     "execution_count": 8,
     "metadata": {},
     "output_type": "execute_result"
    }
   ],
   "source": [
    "state_data.columns"
   ]
  },
  {
   "cell_type": "code",
   "execution_count": 9,
   "metadata": {},
   "outputs": [],
   "source": [
    "del state_data['Unnamed: 3']\n",
    "del state_data['Unnamed: 4']\n",
    "del state_data['SUM of count']"
   ]
  },
  {
   "cell_type": "code",
   "execution_count": 10,
   "metadata": {},
   "outputs": [
    {
     "data": {
      "text/html": [
       "<div>\n",
       "<style scoped>\n",
       "    .dataframe tbody tr th:only-of-type {\n",
       "        vertical-align: middle;\n",
       "    }\n",
       "\n",
       "    .dataframe tbody tr th {\n",
       "        vertical-align: top;\n",
       "    }\n",
       "\n",
       "    .dataframe thead th {\n",
       "        text-align: right;\n",
       "    }\n",
       "</style>\n",
       "<table border=\"1\" class=\"dataframe\">\n",
       "  <thead>\n",
       "    <tr style=\"text-align: right;\">\n",
       "      <th></th>\n",
       "      <th>city</th>\n",
       "      <th>State</th>\n",
       "    </tr>\n",
       "  </thead>\n",
       "  <tbody>\n",
       "    <tr>\n",
       "      <th>0</th>\n",
       "      <td>Grand Total</td>\n",
       "      <td>NaN</td>\n",
       "    </tr>\n",
       "    <tr>\n",
       "      <th>1</th>\n",
       "      <td>HYDERABAD</td>\n",
       "      <td>AP</td>\n",
       "    </tr>\n",
       "    <tr>\n",
       "      <th>2</th>\n",
       "      <td>BANGALORE</td>\n",
       "      <td>KA</td>\n",
       "    </tr>\n",
       "    <tr>\n",
       "      <th>3</th>\n",
       "      <td>MUMBAI</td>\n",
       "      <td>MH</td>\n",
       "    </tr>\n",
       "    <tr>\n",
       "      <th>4</th>\n",
       "      <td>CHENNAI</td>\n",
       "      <td>TN</td>\n",
       "    </tr>\n",
       "  </tbody>\n",
       "</table>\n",
       "</div>"
      ],
      "text/plain": [
       "          city State\n",
       "0  Grand Total   NaN\n",
       "1    HYDERABAD    AP\n",
       "2    BANGALORE    KA\n",
       "3       MUMBAI    MH\n",
       "4      CHENNAI    TN"
      ]
     },
     "execution_count": 10,
     "metadata": {},
     "output_type": "execute_result"
    }
   ],
   "source": [
    "state_data.head()"
   ]
  },
  {
   "cell_type": "code",
   "execution_count": null,
   "metadata": {},
   "outputs": [],
   "source": [
    "state_data = pd.merge(df_clean, state_data, on='city')"
   ]
  },
  {
   "cell_type": "code",
   "execution_count": 19,
   "metadata": {},
   "outputs": [
    {
     "data": {
      "text/plain": [
       "(1333563, 42)"
      ]
     },
     "execution_count": 19,
     "metadata": {},
     "output_type": "execute_result"
    }
   ],
   "source": [
    "joined.shape"
   ]
  },
  {
   "cell_type": "code",
   "execution_count": 20,
   "metadata": {},
   "outputs": [
    {
     "data": {
      "text/plain": [
       "Unnamed: 0_x                   0\n",
       "CUSTOMER_ID                    0\n",
       "AGREEMENT_NO                   0\n",
       "DISBURSEMENT_DATE              0\n",
       "PRODUCT_ID                     0\n",
       "MODEL_ID                       0\n",
       "AMT_FIN                        0\n",
       "EMI                            0\n",
       "AGE                            0\n",
       "EMPLOYMENTTYPE                 0\n",
       "GENDER                         0\n",
       "MARITALSTATUS                  0\n",
       "CITY                           0\n",
       "Unnamed: 0_y                   0\n",
       "MODEL_KEY                      0\n",
       "MODEL_NO                       0\n",
       "CATEGORY_ID                    0\n",
       "CATEGORY_DESC                  0\n",
       "CATEGORY_STATUS                0\n",
       "MAKE                           0\n",
       "MAKE_MODEL_FLAG                0\n",
       "MANUFACTURER_WARRANTY_YRS      0\n",
       "MANUFACTURER_ID                0\n",
       "MANUFACTURER_NAME              0\n",
       "MODEL_EXPIRY_DATE              0\n",
       "SELLING_PRICE                  0\n",
       "SIZE                           0\n",
       "MODEL_STATUS                   0\n",
       "EXTENDED_WARRANTY_FLAG         0\n",
       "UNIT                           0\n",
       "CATEGORY_DESC_FOR_INSURANCE    0\n",
       "CIBIL_CHECK                    0\n",
       "RISK_CLASS                     0\n",
       "REMI_CATG                      0\n",
       "BUSINESS_DATE                  0\n",
       "AUTHOR_DATE                    0\n",
       "INZ                            0\n",
       "OUTZ                           0\n",
       "MODIFIED_DATE                  0\n",
       "MODIFIED_TIME                  0\n",
       "HASHBYTESSHA1                  0\n",
       "EXACT_MODEL_DESC               0\n",
       "dtype: int64"
      ]
     },
     "execution_count": 20,
     "metadata": {},
     "output_type": "execute_result"
    }
   ],
   "source": [
    "joined.isna().sum()"
   ]
  },
  {
   "cell_type": "code",
   "execution_count": 22,
   "metadata": {},
   "outputs": [],
   "source": [
    "df_clean = pd.DataFrame()\n",
    "df_clean[['customer_id','age','etype','gender', 'maritalstatus', 'city','manu_name','dis_data']] = joined[['CUSTOMER_ID','AGE','EMPLOYMENTTYPE','GENDER', 'MARITALSTATUS', 'CITY','MANUFACTURER_NAME','DISBURSEMENT_DATE']]"
   ]
  },
  {
   "cell_type": "code",
   "execution_count": 23,
   "metadata": {},
   "outputs": [
    {
     "data": {
      "text/html": [
       "<div>\n",
       "<style scoped>\n",
       "    .dataframe tbody tr th:only-of-type {\n",
       "        vertical-align: middle;\n",
       "    }\n",
       "\n",
       "    .dataframe tbody tr th {\n",
       "        vertical-align: top;\n",
       "    }\n",
       "\n",
       "    .dataframe thead th {\n",
       "        text-align: right;\n",
       "    }\n",
       "</style>\n",
       "<table border=\"1\" class=\"dataframe\">\n",
       "  <thead>\n",
       "    <tr style=\"text-align: right;\">\n",
       "      <th></th>\n",
       "      <th>customer_id</th>\n",
       "      <th>age</th>\n",
       "      <th>etype</th>\n",
       "      <th>gender</th>\n",
       "      <th>maritalstatus</th>\n",
       "      <th>city</th>\n",
       "      <th>manu_name</th>\n",
       "      <th>dis_data</th>\n",
       "    </tr>\n",
       "  </thead>\n",
       "  <tbody>\n",
       "    <tr>\n",
       "      <th>1</th>\n",
       "      <td>65592179</td>\n",
       "      <td>43.0</td>\n",
       "      <td>SELF EMPLOYED</td>\n",
       "      <td>Male</td>\n",
       "      <td>MARRIED</td>\n",
       "      <td>COIMBATORE</td>\n",
       "      <td>LG ELECTRONICS INDIA PVT.LTD</td>\n",
       "      <td>20181130</td>\n",
       "    </tr>\n",
       "    <tr>\n",
       "      <th>3</th>\n",
       "      <td>20686212</td>\n",
       "      <td>30.0</td>\n",
       "      <td>SELF EMPLOYED</td>\n",
       "      <td>Male</td>\n",
       "      <td>UNMARRIED</td>\n",
       "      <td>JALANDHAR</td>\n",
       "      <td>LG ELECTRONICS INDIA PVT.LTD</td>\n",
       "      <td>20180925</td>\n",
       "    </tr>\n",
       "    <tr>\n",
       "      <th>4</th>\n",
       "      <td>21550688</td>\n",
       "      <td>50.0</td>\n",
       "      <td>SELF EMPLOYED</td>\n",
       "      <td>Male</td>\n",
       "      <td>MARRIED</td>\n",
       "      <td>NAGPUR</td>\n",
       "      <td>LG ELECTRONICS INDIA PVT.LTD</td>\n",
       "      <td>20181129</td>\n",
       "    </tr>\n",
       "    <tr>\n",
       "      <th>5</th>\n",
       "      <td>18152487</td>\n",
       "      <td>57.0</td>\n",
       "      <td>SALARIED</td>\n",
       "      <td>Female</td>\n",
       "      <td>MARRIED</td>\n",
       "      <td>KOTTAYAM</td>\n",
       "      <td>LG ELECTRONICS INDIA PVT.LTD</td>\n",
       "      <td>20181208</td>\n",
       "    </tr>\n",
       "    <tr>\n",
       "      <th>6</th>\n",
       "      <td>52374870</td>\n",
       "      <td>38.0</td>\n",
       "      <td>SELF EMPLOYED</td>\n",
       "      <td>Male</td>\n",
       "      <td>MARRIED</td>\n",
       "      <td>SANGLI</td>\n",
       "      <td>LG ELECTRONICS INDIA PVT.LTD</td>\n",
       "      <td>20181231</td>\n",
       "    </tr>\n",
       "  </tbody>\n",
       "</table>\n",
       "</div>"
      ],
      "text/plain": [
       "   customer_id   age          etype  gender maritalstatus        city                     manu_name  dis_data\n",
       "1     65592179  43.0  SELF EMPLOYED    Male       MARRIED  COIMBATORE  LG ELECTRONICS INDIA PVT.LTD  20181130\n",
       "3     20686212  30.0  SELF EMPLOYED    Male     UNMARRIED   JALANDHAR  LG ELECTRONICS INDIA PVT.LTD  20180925\n",
       "4     21550688  50.0  SELF EMPLOYED    Male       MARRIED      NAGPUR  LG ELECTRONICS INDIA PVT.LTD  20181129\n",
       "5     18152487  57.0       SALARIED  Female       MARRIED    KOTTAYAM  LG ELECTRONICS INDIA PVT.LTD  20181208\n",
       "6     52374870  38.0  SELF EMPLOYED    Male       MARRIED      SANGLI  LG ELECTRONICS INDIA PVT.LTD  20181231"
      ]
     },
     "execution_count": 23,
     "metadata": {},
     "output_type": "execute_result"
    }
   ],
   "source": [
    "df_clean.head()"
   ]
  },
  {
   "cell_type": "code",
   "execution_count": 24,
   "metadata": {},
   "outputs": [],
   "source": [
    "df = pd.merge(df_clean, state_data, on='city')"
   ]
  },
  {
   "cell_type": "code",
   "execution_count": 25,
   "metadata": {},
   "outputs": [
    {
     "data": {
      "text/html": [
       "<div>\n",
       "<style scoped>\n",
       "    .dataframe tbody tr th:only-of-type {\n",
       "        vertical-align: middle;\n",
       "    }\n",
       "\n",
       "    .dataframe tbody tr th {\n",
       "        vertical-align: top;\n",
       "    }\n",
       "\n",
       "    .dataframe thead th {\n",
       "        text-align: right;\n",
       "    }\n",
       "</style>\n",
       "<table border=\"1\" class=\"dataframe\">\n",
       "  <thead>\n",
       "    <tr style=\"text-align: right;\">\n",
       "      <th></th>\n",
       "      <th>customer_id</th>\n",
       "      <th>age</th>\n",
       "      <th>etype</th>\n",
       "      <th>gender</th>\n",
       "      <th>maritalstatus</th>\n",
       "      <th>city</th>\n",
       "      <th>manu_name</th>\n",
       "      <th>dis_data</th>\n",
       "      <th>State</th>\n",
       "    </tr>\n",
       "  </thead>\n",
       "  <tbody>\n",
       "    <tr>\n",
       "      <th>0</th>\n",
       "      <td>65592179</td>\n",
       "      <td>43.0</td>\n",
       "      <td>SELF EMPLOYED</td>\n",
       "      <td>Male</td>\n",
       "      <td>MARRIED</td>\n",
       "      <td>COIMBATORE</td>\n",
       "      <td>LG ELECTRONICS INDIA PVT.LTD</td>\n",
       "      <td>20181130</td>\n",
       "      <td>TN</td>\n",
       "    </tr>\n",
       "    <tr>\n",
       "      <th>1</th>\n",
       "      <td>40986359</td>\n",
       "      <td>36.0</td>\n",
       "      <td>SELF EMPLOYED</td>\n",
       "      <td>Male</td>\n",
       "      <td>MARRIED</td>\n",
       "      <td>COIMBATORE</td>\n",
       "      <td>LG ELECTRONICS INDIA PVT.LTD</td>\n",
       "      <td>20181211</td>\n",
       "      <td>TN</td>\n",
       "    </tr>\n",
       "    <tr>\n",
       "      <th>2</th>\n",
       "      <td>52417053</td>\n",
       "      <td>41.0</td>\n",
       "      <td>SALARIED</td>\n",
       "      <td>Male</td>\n",
       "      <td>MARRIED</td>\n",
       "      <td>COIMBATORE</td>\n",
       "      <td>LG ELECTRONICS INDIA PVT.LTD</td>\n",
       "      <td>20180929</td>\n",
       "      <td>TN</td>\n",
       "    </tr>\n",
       "    <tr>\n",
       "      <th>3</th>\n",
       "      <td>40907074</td>\n",
       "      <td>47.0</td>\n",
       "      <td>SELF EMPLOYED</td>\n",
       "      <td>Male</td>\n",
       "      <td>MARRIED</td>\n",
       "      <td>COIMBATORE</td>\n",
       "      <td>LG ELECTRONICS INDIA PVT.LTD</td>\n",
       "      <td>20181031</td>\n",
       "      <td>TN</td>\n",
       "    </tr>\n",
       "    <tr>\n",
       "      <th>4</th>\n",
       "      <td>50100344</td>\n",
       "      <td>37.0</td>\n",
       "      <td>SALARIED</td>\n",
       "      <td>Male</td>\n",
       "      <td>MARRIED</td>\n",
       "      <td>COIMBATORE</td>\n",
       "      <td>LG ELECTRONICS INDIA PVT.LTD</td>\n",
       "      <td>20181116</td>\n",
       "      <td>TN</td>\n",
       "    </tr>\n",
       "  </tbody>\n",
       "</table>\n",
       "</div>"
      ],
      "text/plain": [
       "   customer_id   age          etype gender maritalstatus        city                     manu_name  dis_data State\n",
       "0     65592179  43.0  SELF EMPLOYED   Male       MARRIED  COIMBATORE  LG ELECTRONICS INDIA PVT.LTD  20181130    TN\n",
       "1     40986359  36.0  SELF EMPLOYED   Male       MARRIED  COIMBATORE  LG ELECTRONICS INDIA PVT.LTD  20181211    TN\n",
       "2     52417053  41.0       SALARIED   Male       MARRIED  COIMBATORE  LG ELECTRONICS INDIA PVT.LTD  20180929    TN\n",
       "3     40907074  47.0  SELF EMPLOYED   Male       MARRIED  COIMBATORE  LG ELECTRONICS INDIA PVT.LTD  20181031    TN\n",
       "4     50100344  37.0       SALARIED   Male       MARRIED  COIMBATORE  LG ELECTRONICS INDIA PVT.LTD  20181116    TN"
      ]
     },
     "execution_count": 25,
     "metadata": {},
     "output_type": "execute_result"
    }
   ],
   "source": [
    "df.head()"
   ]
  },
  {
   "cell_type": "code",
   "execution_count": 26,
   "metadata": {},
   "outputs": [
    {
     "data": {
      "text/plain": [
       "(1333563, 9)"
      ]
     },
     "execution_count": 26,
     "metadata": {},
     "output_type": "execute_result"
    }
   ],
   "source": [
    "df.shape"
   ]
  },
  {
   "cell_type": "code",
   "execution_count": 27,
   "metadata": {},
   "outputs": [],
   "source": [
    "df = df[df['State'].notnull()]"
   ]
  },
  {
   "cell_type": "code",
   "execution_count": 28,
   "metadata": {},
   "outputs": [
    {
     "data": {
      "text/plain": [
       "(995237, 9)"
      ]
     },
     "execution_count": 28,
     "metadata": {},
     "output_type": "execute_result"
    }
   ],
   "source": [
    "df.shape"
   ]
  },
  {
   "cell_type": "code",
   "execution_count": 31,
   "metadata": {},
   "outputs": [],
   "source": [
    "# Binnig age\n",
    "g = []\n",
    "for elem in range(100):\n",
    "    if elem % 5 == 0:\n",
    "        #print(elem)\n",
    "        g.append(elem)\n",
    "df['AgeRange'] = pd.cut(df['age'], g)"
   ]
  },
  {
   "cell_type": "code",
   "execution_count": 32,
   "metadata": {},
   "outputs": [
    {
     "data": {
      "text/html": [
       "<div>\n",
       "<style scoped>\n",
       "    .dataframe tbody tr th:only-of-type {\n",
       "        vertical-align: middle;\n",
       "    }\n",
       "\n",
       "    .dataframe tbody tr th {\n",
       "        vertical-align: top;\n",
       "    }\n",
       "\n",
       "    .dataframe thead th {\n",
       "        text-align: right;\n",
       "    }\n",
       "</style>\n",
       "<table border=\"1\" class=\"dataframe\">\n",
       "  <thead>\n",
       "    <tr style=\"text-align: right;\">\n",
       "      <th></th>\n",
       "      <th>customer_id</th>\n",
       "      <th>age</th>\n",
       "      <th>etype</th>\n",
       "      <th>gender</th>\n",
       "      <th>maritalstatus</th>\n",
       "      <th>city</th>\n",
       "      <th>manu_name</th>\n",
       "      <th>dis_data</th>\n",
       "      <th>State</th>\n",
       "      <th>AgeRange</th>\n",
       "    </tr>\n",
       "  </thead>\n",
       "  <tbody>\n",
       "    <tr>\n",
       "      <th>0</th>\n",
       "      <td>65592179</td>\n",
       "      <td>43.0</td>\n",
       "      <td>SELF EMPLOYED</td>\n",
       "      <td>Male</td>\n",
       "      <td>MARRIED</td>\n",
       "      <td>COIMBATORE</td>\n",
       "      <td>LG ELECTRONICS INDIA PVT.LTD</td>\n",
       "      <td>20181130</td>\n",
       "      <td>TN</td>\n",
       "      <td>(40, 45]</td>\n",
       "    </tr>\n",
       "    <tr>\n",
       "      <th>1</th>\n",
       "      <td>40986359</td>\n",
       "      <td>36.0</td>\n",
       "      <td>SELF EMPLOYED</td>\n",
       "      <td>Male</td>\n",
       "      <td>MARRIED</td>\n",
       "      <td>COIMBATORE</td>\n",
       "      <td>LG ELECTRONICS INDIA PVT.LTD</td>\n",
       "      <td>20181211</td>\n",
       "      <td>TN</td>\n",
       "      <td>(35, 40]</td>\n",
       "    </tr>\n",
       "    <tr>\n",
       "      <th>2</th>\n",
       "      <td>52417053</td>\n",
       "      <td>41.0</td>\n",
       "      <td>SALARIED</td>\n",
       "      <td>Male</td>\n",
       "      <td>MARRIED</td>\n",
       "      <td>COIMBATORE</td>\n",
       "      <td>LG ELECTRONICS INDIA PVT.LTD</td>\n",
       "      <td>20180929</td>\n",
       "      <td>TN</td>\n",
       "      <td>(40, 45]</td>\n",
       "    </tr>\n",
       "    <tr>\n",
       "      <th>3</th>\n",
       "      <td>40907074</td>\n",
       "      <td>47.0</td>\n",
       "      <td>SELF EMPLOYED</td>\n",
       "      <td>Male</td>\n",
       "      <td>MARRIED</td>\n",
       "      <td>COIMBATORE</td>\n",
       "      <td>LG ELECTRONICS INDIA PVT.LTD</td>\n",
       "      <td>20181031</td>\n",
       "      <td>TN</td>\n",
       "      <td>(45, 50]</td>\n",
       "    </tr>\n",
       "    <tr>\n",
       "      <th>4</th>\n",
       "      <td>50100344</td>\n",
       "      <td>37.0</td>\n",
       "      <td>SALARIED</td>\n",
       "      <td>Male</td>\n",
       "      <td>MARRIED</td>\n",
       "      <td>COIMBATORE</td>\n",
       "      <td>LG ELECTRONICS INDIA PVT.LTD</td>\n",
       "      <td>20181116</td>\n",
       "      <td>TN</td>\n",
       "      <td>(35, 40]</td>\n",
       "    </tr>\n",
       "  </tbody>\n",
       "</table>\n",
       "</div>"
      ],
      "text/plain": [
       "   customer_id   age          etype gender maritalstatus        city                     manu_name  dis_data State  AgeRange\n",
       "0     65592179  43.0  SELF EMPLOYED   Male       MARRIED  COIMBATORE  LG ELECTRONICS INDIA PVT.LTD  20181130    TN  (40, 45]\n",
       "1     40986359  36.0  SELF EMPLOYED   Male       MARRIED  COIMBATORE  LG ELECTRONICS INDIA PVT.LTD  20181211    TN  (35, 40]\n",
       "2     52417053  41.0       SALARIED   Male       MARRIED  COIMBATORE  LG ELECTRONICS INDIA PVT.LTD  20180929    TN  (40, 45]\n",
       "3     40907074  47.0  SELF EMPLOYED   Male       MARRIED  COIMBATORE  LG ELECTRONICS INDIA PVT.LTD  20181031    TN  (45, 50]\n",
       "4     50100344  37.0       SALARIED   Male       MARRIED  COIMBATORE  LG ELECTRONICS INDIA PVT.LTD  20181116    TN  (35, 40]"
      ]
     },
     "execution_count": 32,
     "metadata": {},
     "output_type": "execute_result"
    }
   ],
   "source": [
    "df.head()"
   ]
  },
  {
   "cell_type": "code",
   "execution_count": 34,
   "metadata": {},
   "outputs": [
    {
     "name": "stderr",
     "output_type": "stream",
     "text": [
      "100%|██████████| 995237/995237 [02:11<00:00, 7582.44it/s]\n"
     ]
    }
   ],
   "source": [
    "from tqdm import tqdm\n",
    "temp = ''\n",
    "a = []\n",
    "for i,row in tqdm(df.iterrows(),total=df.shape[0]):\n",
    "    temp = str(row['AgeRange'])\n",
    "    temp = temp.replace('(','')\n",
    "    temp = temp.split(',')\n",
    "    a.append(temp[0])\n",
    "df['age_bin'] = a"
   ]
  },
  {
   "cell_type": "code",
   "execution_count": 37,
   "metadata": {},
   "outputs": [],
   "source": [
    "df['etype'] = df['etype'].replace({'SELF EMPLOYED': 'self_employed', 'Self Employed': 'self_employed', 'SELF EMPLOYED PROFESSIONAL': 'self_employed','Self Employed Professional':'self_employed'})"
   ]
  },
  {
   "cell_type": "code",
   "execution_count": 35,
   "metadata": {},
   "outputs": [],
   "source": [
    "df['etype'] = df['etype'].replace({'SALARIED': 'salaried', 'Salaried': 'salaried', 'SAL': 'salaried'})"
   ]
  },
  {
   "cell_type": "code",
   "execution_count": 38,
   "metadata": {},
   "outputs": [
    {
     "data": {
      "text/plain": [
       "self_employed      860613\n",
       "salaried           134401\n",
       "Not Categorized       206\n",
       "OTHERS                 17\n",
       "Name: etype, dtype: int64"
      ]
     },
     "execution_count": 38,
     "metadata": {},
     "output_type": "execute_result"
    }
   ],
   "source": [
    "df.etype.value_counts()"
   ]
  },
  {
   "cell_type": "code",
   "execution_count": 39,
   "metadata": {},
   "outputs": [
    {
     "data": {
      "text/plain": [
       "MARRIED      876667\n",
       "UNMARRIED    118376\n",
       "DIVORCEE        167\n",
       "WIDOW            27\n",
       "Name: maritalstatus, dtype: int64"
      ]
     },
     "execution_count": 39,
     "metadata": {},
     "output_type": "execute_result"
    }
   ],
   "source": [
    "df.maritalstatus.value_counts()"
   ]
  },
  {
   "cell_type": "code",
   "execution_count": 40,
   "metadata": {},
   "outputs": [
    {
     "name": "stderr",
     "output_type": "stream",
     "text": [
      "100%|██████████| 995237/995237 [01:59<00:00, 8323.49it/s]\n"
     ]
    }
   ],
   "source": [
    "a = []\n",
    "b = []\n",
    "c = []\n",
    "temp = ''\n",
    "t = ''\n",
    "s = ''\n",
    "v = ''\n",
    "from tqdm import tqdm\n",
    "for i,row in tqdm(df.iterrows(),total = df.shape[0]):\n",
    "    temp = row['dis_data']\n",
    "    t = str(temp)[:6]\n",
    "    s = str(temp)[:4]\n",
    "    v = str(temp)[4:6]\n",
    "    a.append(t)\n",
    "    b.append(s)\n",
    "    c.append(v)"
   ]
  },
  {
   "cell_type": "code",
   "execution_count": 41,
   "metadata": {},
   "outputs": [],
   "source": [
    "df['yyyymm'] = a\n",
    "df['yyyy'] = b\n",
    "df['mm'] = c"
   ]
  },
  {
   "cell_type": "code",
   "execution_count": 42,
   "metadata": {},
   "outputs": [],
   "source": [
    "df = df.dropna()"
   ]
  },
  {
   "cell_type": "code",
   "execution_count": 45,
   "metadata": {},
   "outputs": [
    {
     "name": "stderr",
     "output_type": "stream",
     "text": [
      "100%|██████████| 995237/995237 [02:22<00:00, 7006.86it/s]\n"
     ]
    }
   ],
   "source": [
    "temp = ''\n",
    "a = []\n",
    "for i,row in tqdm(df.iterrows(),total=df.shape[0]):\n",
    "    temp = str(row['AgeRange'])\n",
    "    temp = temp.replace('(','')\n",
    "    temp = temp.split(',')\n",
    "    a.append(temp[0])\n",
    "df['age_bin'] = a"
   ]
  },
  {
   "cell_type": "code",
   "execution_count": 49,
   "metadata": {},
   "outputs": [],
   "source": [
    "del df['customer_id']\n",
    "del df['city']\n",
    "del df['dis_data']\n",
    "del df['AgeRange']"
   ]
  },
  {
   "cell_type": "code",
   "execution_count": 50,
   "metadata": {},
   "outputs": [
    {
     "data": {
      "text/html": [
       "<div>\n",
       "<style scoped>\n",
       "    .dataframe tbody tr th:only-of-type {\n",
       "        vertical-align: middle;\n",
       "    }\n",
       "\n",
       "    .dataframe tbody tr th {\n",
       "        vertical-align: top;\n",
       "    }\n",
       "\n",
       "    .dataframe thead th {\n",
       "        text-align: right;\n",
       "    }\n",
       "</style>\n",
       "<table border=\"1\" class=\"dataframe\">\n",
       "  <thead>\n",
       "    <tr style=\"text-align: right;\">\n",
       "      <th></th>\n",
       "      <th>age</th>\n",
       "      <th>etype</th>\n",
       "      <th>gender</th>\n",
       "      <th>maritalstatus</th>\n",
       "      <th>manu_name</th>\n",
       "      <th>State</th>\n",
       "      <th>age_bin</th>\n",
       "      <th>yyyymm</th>\n",
       "      <th>yyyy</th>\n",
       "      <th>mm</th>\n",
       "    </tr>\n",
       "  </thead>\n",
       "  <tbody>\n",
       "    <tr>\n",
       "      <th>0</th>\n",
       "      <td>43.0</td>\n",
       "      <td>self_employed</td>\n",
       "      <td>Male</td>\n",
       "      <td>MARRIED</td>\n",
       "      <td>LG ELECTRONICS INDIA PVT.LTD</td>\n",
       "      <td>TN</td>\n",
       "      <td>40</td>\n",
       "      <td>201811</td>\n",
       "      <td>2018</td>\n",
       "      <td>11</td>\n",
       "    </tr>\n",
       "    <tr>\n",
       "      <th>1</th>\n",
       "      <td>36.0</td>\n",
       "      <td>self_employed</td>\n",
       "      <td>Male</td>\n",
       "      <td>MARRIED</td>\n",
       "      <td>LG ELECTRONICS INDIA PVT.LTD</td>\n",
       "      <td>TN</td>\n",
       "      <td>35</td>\n",
       "      <td>201812</td>\n",
       "      <td>2018</td>\n",
       "      <td>12</td>\n",
       "    </tr>\n",
       "    <tr>\n",
       "      <th>2</th>\n",
       "      <td>41.0</td>\n",
       "      <td>salaried</td>\n",
       "      <td>Male</td>\n",
       "      <td>MARRIED</td>\n",
       "      <td>LG ELECTRONICS INDIA PVT.LTD</td>\n",
       "      <td>TN</td>\n",
       "      <td>40</td>\n",
       "      <td>201809</td>\n",
       "      <td>2018</td>\n",
       "      <td>09</td>\n",
       "    </tr>\n",
       "    <tr>\n",
       "      <th>3</th>\n",
       "      <td>47.0</td>\n",
       "      <td>self_employed</td>\n",
       "      <td>Male</td>\n",
       "      <td>MARRIED</td>\n",
       "      <td>LG ELECTRONICS INDIA PVT.LTD</td>\n",
       "      <td>TN</td>\n",
       "      <td>45</td>\n",
       "      <td>201810</td>\n",
       "      <td>2018</td>\n",
       "      <td>10</td>\n",
       "    </tr>\n",
       "    <tr>\n",
       "      <th>4</th>\n",
       "      <td>37.0</td>\n",
       "      <td>salaried</td>\n",
       "      <td>Male</td>\n",
       "      <td>MARRIED</td>\n",
       "      <td>LG ELECTRONICS INDIA PVT.LTD</td>\n",
       "      <td>TN</td>\n",
       "      <td>35</td>\n",
       "      <td>201811</td>\n",
       "      <td>2018</td>\n",
       "      <td>11</td>\n",
       "    </tr>\n",
       "  </tbody>\n",
       "</table>\n",
       "</div>"
      ],
      "text/plain": [
       "    age          etype gender maritalstatus                     manu_name State age_bin  yyyymm  yyyy  mm\n",
       "0  43.0  self_employed   Male       MARRIED  LG ELECTRONICS INDIA PVT.LTD    TN      40  201811  2018  11\n",
       "1  36.0  self_employed   Male       MARRIED  LG ELECTRONICS INDIA PVT.LTD    TN      35  201812  2018  12\n",
       "2  41.0       salaried   Male       MARRIED  LG ELECTRONICS INDIA PVT.LTD    TN      40  201809  2018  09\n",
       "3  47.0  self_employed   Male       MARRIED  LG ELECTRONICS INDIA PVT.LTD    TN      45  201810  2018  10\n",
       "4  37.0       salaried   Male       MARRIED  LG ELECTRONICS INDIA PVT.LTD    TN      35  201811  2018  11"
      ]
     },
     "execution_count": 50,
     "metadata": {},
     "output_type": "execute_result"
    }
   ],
   "source": [
    "df.head()"
   ]
  },
  {
   "cell_type": "code",
   "execution_count": 59,
   "metadata": {},
   "outputs": [],
   "source": [
    "df1 = df.manu_name.value_counts().to_frame().reset_index()"
   ]
  },
  {
   "cell_type": "code",
   "execution_count": 60,
   "metadata": {},
   "outputs": [],
   "source": [
    "df1.columns = ['brand','count']"
   ]
  },
  {
   "cell_type": "code",
   "execution_count": 65,
   "metadata": {},
   "outputs": [],
   "source": [
    "top_7 = df1.iloc[:7].brand.tolist()"
   ]
  },
  {
   "cell_type": "code",
   "execution_count": 78,
   "metadata": {},
   "outputs": [],
   "source": [
    "df= df.drop(df[(df['manu_name'] != top_7[0]) & (df['manu_name'] != top_7[1]) & (df['manu_name'] != top_7[2]) & (df['manu_name'] != top_7[3]) & (df['manu_name'] != top_7[4]) & (df['manu_name'] != top_7[5]) & (df['manu_name'] != top_7[6])].index)"
   ]
  },
  {
   "cell_type": "code",
   "execution_count": 79,
   "metadata": {},
   "outputs": [
    {
     "data": {
      "text/html": [
       "<div>\n",
       "<style scoped>\n",
       "    .dataframe tbody tr th:only-of-type {\n",
       "        vertical-align: middle;\n",
       "    }\n",
       "\n",
       "    .dataframe tbody tr th {\n",
       "        vertical-align: top;\n",
       "    }\n",
       "\n",
       "    .dataframe thead th {\n",
       "        text-align: right;\n",
       "    }\n",
       "</style>\n",
       "<table border=\"1\" class=\"dataframe\">\n",
       "  <thead>\n",
       "    <tr style=\"text-align: right;\">\n",
       "      <th></th>\n",
       "      <th>age</th>\n",
       "      <th>etype</th>\n",
       "      <th>gender</th>\n",
       "      <th>maritalstatus</th>\n",
       "      <th>manu_name</th>\n",
       "      <th>State</th>\n",
       "      <th>age_bin</th>\n",
       "      <th>yyyymm</th>\n",
       "      <th>yyyy</th>\n",
       "      <th>mm</th>\n",
       "    </tr>\n",
       "  </thead>\n",
       "  <tbody>\n",
       "    <tr>\n",
       "      <th>0</th>\n",
       "      <td>43.0</td>\n",
       "      <td>self_employed</td>\n",
       "      <td>Male</td>\n",
       "      <td>MARRIED</td>\n",
       "      <td>LG ELECTRONICS INDIA PVT.LTD</td>\n",
       "      <td>TN</td>\n",
       "      <td>40</td>\n",
       "      <td>201811</td>\n",
       "      <td>2018</td>\n",
       "      <td>11</td>\n",
       "    </tr>\n",
       "    <tr>\n",
       "      <th>1</th>\n",
       "      <td>36.0</td>\n",
       "      <td>self_employed</td>\n",
       "      <td>Male</td>\n",
       "      <td>MARRIED</td>\n",
       "      <td>LG ELECTRONICS INDIA PVT.LTD</td>\n",
       "      <td>TN</td>\n",
       "      <td>35</td>\n",
       "      <td>201812</td>\n",
       "      <td>2018</td>\n",
       "      <td>12</td>\n",
       "    </tr>\n",
       "    <tr>\n",
       "      <th>2</th>\n",
       "      <td>41.0</td>\n",
       "      <td>salaried</td>\n",
       "      <td>Male</td>\n",
       "      <td>MARRIED</td>\n",
       "      <td>LG ELECTRONICS INDIA PVT.LTD</td>\n",
       "      <td>TN</td>\n",
       "      <td>40</td>\n",
       "      <td>201809</td>\n",
       "      <td>2018</td>\n",
       "      <td>09</td>\n",
       "    </tr>\n",
       "    <tr>\n",
       "      <th>3</th>\n",
       "      <td>47.0</td>\n",
       "      <td>self_employed</td>\n",
       "      <td>Male</td>\n",
       "      <td>MARRIED</td>\n",
       "      <td>LG ELECTRONICS INDIA PVT.LTD</td>\n",
       "      <td>TN</td>\n",
       "      <td>45</td>\n",
       "      <td>201810</td>\n",
       "      <td>2018</td>\n",
       "      <td>10</td>\n",
       "    </tr>\n",
       "    <tr>\n",
       "      <th>4</th>\n",
       "      <td>37.0</td>\n",
       "      <td>salaried</td>\n",
       "      <td>Male</td>\n",
       "      <td>MARRIED</td>\n",
       "      <td>LG ELECTRONICS INDIA PVT.LTD</td>\n",
       "      <td>TN</td>\n",
       "      <td>35</td>\n",
       "      <td>201811</td>\n",
       "      <td>2018</td>\n",
       "      <td>11</td>\n",
       "    </tr>\n",
       "  </tbody>\n",
       "</table>\n",
       "</div>"
      ],
      "text/plain": [
       "    age          etype gender maritalstatus                     manu_name State age_bin  yyyymm  yyyy  mm\n",
       "0  43.0  self_employed   Male       MARRIED  LG ELECTRONICS INDIA PVT.LTD    TN      40  201811  2018  11\n",
       "1  36.0  self_employed   Male       MARRIED  LG ELECTRONICS INDIA PVT.LTD    TN      35  201812  2018  12\n",
       "2  41.0       salaried   Male       MARRIED  LG ELECTRONICS INDIA PVT.LTD    TN      40  201809  2018  09\n",
       "3  47.0  self_employed   Male       MARRIED  LG ELECTRONICS INDIA PVT.LTD    TN      45  201810  2018  10\n",
       "4  37.0       salaried   Male       MARRIED  LG ELECTRONICS INDIA PVT.LTD    TN      35  201811  2018  11"
      ]
     },
     "execution_count": 79,
     "metadata": {},
     "output_type": "execute_result"
    }
   ],
   "source": [
    "df.head()"
   ]
  },
  {
   "cell_type": "code",
   "execution_count": 80,
   "metadata": {},
   "outputs": [
    {
     "data": {
      "text/plain": [
       "SONY INDIA LIMITED                            258420\n",
       "LG ELECTRONICS INDIA PVT.LTD                  231898\n",
       "SAMSUNG ELECTRONICS INDIA LIMITED             213826\n",
       "PANASONIC INDIA LIMITED                       109863\n",
       "LLOYD ELECTRIC & ENGINEERING LIMITED(LEEL)     30725\n",
       "HAIER APPLIANCES (INDIA) P.LIMITED             29433\n",
       "INTEX                                          18484\n",
       "Name: manu_name, dtype: int64"
      ]
     },
     "execution_count": 80,
     "metadata": {},
     "output_type": "execute_result"
    }
   ],
   "source": [
    "df.manu_name.value_counts()"
   ]
  },
  {
   "cell_type": "code",
   "execution_count": 72,
   "metadata": {},
   "outputs": [],
   "source": [
    "from sklearn import preprocessing"
   ]
  },
  {
   "cell_type": "code",
   "execution_count": 73,
   "metadata": {},
   "outputs": [],
   "source": [
    "le = preprocessing.LabelEncoder()"
   ]
  },
  {
   "cell_type": "code",
   "execution_count": 81,
   "metadata": {},
   "outputs": [
    {
     "data": {
      "text/plain": [
       "LabelEncoder()"
      ]
     },
     "execution_count": 81,
     "metadata": {},
     "output_type": "execute_result"
    }
   ],
   "source": [
    "le.fit(df.manu_name.unique())"
   ]
  },
  {
   "cell_type": "code",
   "execution_count": 82,
   "metadata": {},
   "outputs": [
    {
     "data": {
      "text/plain": [
       "array(['HAIER APPLIANCES (INDIA) P.LIMITED', 'INTEX',\n",
       "       'LG ELECTRONICS INDIA PVT.LTD',\n",
       "       'LLOYD ELECTRIC & ENGINEERING LIMITED(LEEL)',\n",
       "       'PANASONIC INDIA LIMITED', 'SAMSUNG ELECTRONICS INDIA LIMITED',\n",
       "       'SONY INDIA LIMITED'], dtype=object)"
      ]
     },
     "execution_count": 82,
     "metadata": {},
     "output_type": "execute_result"
    }
   ],
   "source": [
    "le.classes_"
   ]
  },
  {
   "cell_type": "code",
   "execution_count": 88,
   "metadata": {},
   "outputs": [],
   "source": [
    "df['label'] = le.transform(df.manu_name)"
   ]
  },
  {
   "cell_type": "code",
   "execution_count": 90,
   "metadata": {},
   "outputs": [
    {
     "data": {
      "text/plain": [
       "6    258420\n",
       "2    231898\n",
       "5    213826\n",
       "4    109863\n",
       "3     30725\n",
       "0     29433\n",
       "1     18484\n",
       "Name: label, dtype: int64"
      ]
     },
     "execution_count": 90,
     "metadata": {},
     "output_type": "execute_result"
    }
   ],
   "source": [
    "df.label.value_counts()"
   ]
  },
  {
   "cell_type": "code",
   "execution_count": 92,
   "metadata": {},
   "outputs": [
    {
     "data": {
      "text/html": [
       "<div>\n",
       "<style scoped>\n",
       "    .dataframe tbody tr th:only-of-type {\n",
       "        vertical-align: middle;\n",
       "    }\n",
       "\n",
       "    .dataframe tbody tr th {\n",
       "        vertical-align: top;\n",
       "    }\n",
       "\n",
       "    .dataframe thead th {\n",
       "        text-align: right;\n",
       "    }\n",
       "</style>\n",
       "<table border=\"1\" class=\"dataframe\">\n",
       "  <thead>\n",
       "    <tr style=\"text-align: right;\">\n",
       "      <th></th>\n",
       "      <th>age</th>\n",
       "      <th>etype</th>\n",
       "      <th>gender</th>\n",
       "      <th>maritalstatus</th>\n",
       "      <th>State</th>\n",
       "      <th>age_bin</th>\n",
       "      <th>yyyymm</th>\n",
       "      <th>yyyy</th>\n",
       "      <th>mm</th>\n",
       "      <th>label</th>\n",
       "    </tr>\n",
       "  </thead>\n",
       "  <tbody>\n",
       "    <tr>\n",
       "      <th>0</th>\n",
       "      <td>43.0</td>\n",
       "      <td>self_employed</td>\n",
       "      <td>Male</td>\n",
       "      <td>MARRIED</td>\n",
       "      <td>TN</td>\n",
       "      <td>40</td>\n",
       "      <td>201811</td>\n",
       "      <td>2018</td>\n",
       "      <td>11</td>\n",
       "      <td>2</td>\n",
       "    </tr>\n",
       "    <tr>\n",
       "      <th>1</th>\n",
       "      <td>36.0</td>\n",
       "      <td>self_employed</td>\n",
       "      <td>Male</td>\n",
       "      <td>MARRIED</td>\n",
       "      <td>TN</td>\n",
       "      <td>35</td>\n",
       "      <td>201812</td>\n",
       "      <td>2018</td>\n",
       "      <td>12</td>\n",
       "      <td>2</td>\n",
       "    </tr>\n",
       "    <tr>\n",
       "      <th>2</th>\n",
       "      <td>41.0</td>\n",
       "      <td>salaried</td>\n",
       "      <td>Male</td>\n",
       "      <td>MARRIED</td>\n",
       "      <td>TN</td>\n",
       "      <td>40</td>\n",
       "      <td>201809</td>\n",
       "      <td>2018</td>\n",
       "      <td>09</td>\n",
       "      <td>2</td>\n",
       "    </tr>\n",
       "    <tr>\n",
       "      <th>3</th>\n",
       "      <td>47.0</td>\n",
       "      <td>self_employed</td>\n",
       "      <td>Male</td>\n",
       "      <td>MARRIED</td>\n",
       "      <td>TN</td>\n",
       "      <td>45</td>\n",
       "      <td>201810</td>\n",
       "      <td>2018</td>\n",
       "      <td>10</td>\n",
       "      <td>2</td>\n",
       "    </tr>\n",
       "    <tr>\n",
       "      <th>4</th>\n",
       "      <td>37.0</td>\n",
       "      <td>salaried</td>\n",
       "      <td>Male</td>\n",
       "      <td>MARRIED</td>\n",
       "      <td>TN</td>\n",
       "      <td>35</td>\n",
       "      <td>201811</td>\n",
       "      <td>2018</td>\n",
       "      <td>11</td>\n",
       "      <td>2</td>\n",
       "    </tr>\n",
       "  </tbody>\n",
       "</table>\n",
       "</div>"
      ],
      "text/plain": [
       "    age          etype gender maritalstatus State age_bin  yyyymm  yyyy  mm  label\n",
       "0  43.0  self_employed   Male       MARRIED    TN      40  201811  2018  11      2\n",
       "1  36.0  self_employed   Male       MARRIED    TN      35  201812  2018  12      2\n",
       "2  41.0       salaried   Male       MARRIED    TN      40  201809  2018  09      2\n",
       "3  47.0  self_employed   Male       MARRIED    TN      45  201810  2018  10      2\n",
       "4  37.0       salaried   Male       MARRIED    TN      35  201811  2018  11      2"
      ]
     },
     "execution_count": 92,
     "metadata": {},
     "output_type": "execute_result"
    }
   ],
   "source": [
    "df.head()"
   ]
  },
  {
   "cell_type": "code",
   "execution_count": 91,
   "metadata": {},
   "outputs": [],
   "source": [
    "del df['manu_name']"
   ]
  },
  {
   "cell_type": "code",
   "execution_count": null,
   "metadata": {},
   "outputs": [],
   "source": []
  },
  {
   "cell_type": "markdown",
   "metadata": {},
   "source": [
    "# Preprocessing done, Model wrangling starts"
   ]
  },
  {
   "cell_type": "code",
   "execution_count": 101,
   "metadata": {},
   "outputs": [],
   "source": [
    "from sklearn.preprocessing import OneHotEncoder\n",
    "from sklearn.model_selection import train_test_split\n",
    "from sklearn.metrics import accuracy_score\n",
    "from sklearn.model_selection import train_test_split"
   ]
  },
  {
   "cell_type": "code",
   "execution_count": 95,
   "metadata": {},
   "outputs": [],
   "source": [
    "one_hot = pd.get_dummies(df['etype'])\n",
    "df = df.drop('etype',axis = 1)\n",
    "df = df.join(one_hot)\n",
    "\n",
    "one_hot = pd.get_dummies(df['gender'])\n",
    "df = df.drop('gender',axis = 1)\n",
    "df = df.join(one_hot)\n",
    "\n",
    "one_hot = pd.get_dummies(df['maritalstatus'])\n",
    "df = df.drop('maritalstatus',axis = 1)\n",
    "df = df.join(one_hot)\n",
    "\n",
    "one_hot = pd.get_dummies(df['State'])\n",
    "df = df.drop('State',axis = 1)\n",
    "df = df.join(one_hot)"
   ]
  },
  {
   "cell_type": "code",
   "execution_count": 96,
   "metadata": {},
   "outputs": [
    {
     "data": {
      "text/html": [
       "<div>\n",
       "<style scoped>\n",
       "    .dataframe tbody tr th:only-of-type {\n",
       "        vertical-align: middle;\n",
       "    }\n",
       "\n",
       "    .dataframe tbody tr th {\n",
       "        vertical-align: top;\n",
       "    }\n",
       "\n",
       "    .dataframe thead th {\n",
       "        text-align: right;\n",
       "    }\n",
       "</style>\n",
       "<table border=\"1\" class=\"dataframe\">\n",
       "  <thead>\n",
       "    <tr style=\"text-align: right;\">\n",
       "      <th></th>\n",
       "      <th>age</th>\n",
       "      <th>age_bin</th>\n",
       "      <th>yyyymm</th>\n",
       "      <th>yyyy</th>\n",
       "      <th>mm</th>\n",
       "      <th>label</th>\n",
       "      <th>Not Categorized</th>\n",
       "      <th>OTHERS</th>\n",
       "      <th>salaried</th>\n",
       "      <th>self_employed</th>\n",
       "      <th>Female</th>\n",
       "      <th>Male</th>\n",
       "      <th>DIVORCEE</th>\n",
       "      <th>MARRIED</th>\n",
       "      <th>UNMARRIED</th>\n",
       "      <th>WIDOW</th>\n",
       "      <th>AP</th>\n",
       "      <th>BH</th>\n",
       "      <th>BR</th>\n",
       "      <th>DELHI</th>\n",
       "      <th>GJ</th>\n",
       "      <th>HR</th>\n",
       "      <th>KA</th>\n",
       "      <th>KE</th>\n",
       "      <th>MH</th>\n",
       "      <th>MP</th>\n",
       "      <th>OR</th>\n",
       "      <th>PU</th>\n",
       "      <th>RJ</th>\n",
       "      <th>TN</th>\n",
       "      <th>UK</th>\n",
       "      <th>UP</th>\n",
       "      <th>WB</th>\n",
       "    </tr>\n",
       "  </thead>\n",
       "  <tbody>\n",
       "    <tr>\n",
       "      <th>0</th>\n",
       "      <td>43.0</td>\n",
       "      <td>40</td>\n",
       "      <td>201811</td>\n",
       "      <td>2018</td>\n",
       "      <td>11</td>\n",
       "      <td>2</td>\n",
       "      <td>0</td>\n",
       "      <td>0</td>\n",
       "      <td>0</td>\n",
       "      <td>1</td>\n",
       "      <td>0</td>\n",
       "      <td>1</td>\n",
       "      <td>0</td>\n",
       "      <td>1</td>\n",
       "      <td>0</td>\n",
       "      <td>0</td>\n",
       "      <td>0</td>\n",
       "      <td>0</td>\n",
       "      <td>0</td>\n",
       "      <td>0</td>\n",
       "      <td>0</td>\n",
       "      <td>0</td>\n",
       "      <td>0</td>\n",
       "      <td>0</td>\n",
       "      <td>0</td>\n",
       "      <td>0</td>\n",
       "      <td>0</td>\n",
       "      <td>0</td>\n",
       "      <td>0</td>\n",
       "      <td>1</td>\n",
       "      <td>0</td>\n",
       "      <td>0</td>\n",
       "      <td>0</td>\n",
       "    </tr>\n",
       "    <tr>\n",
       "      <th>1</th>\n",
       "      <td>36.0</td>\n",
       "      <td>35</td>\n",
       "      <td>201812</td>\n",
       "      <td>2018</td>\n",
       "      <td>12</td>\n",
       "      <td>2</td>\n",
       "      <td>0</td>\n",
       "      <td>0</td>\n",
       "      <td>0</td>\n",
       "      <td>1</td>\n",
       "      <td>0</td>\n",
       "      <td>1</td>\n",
       "      <td>0</td>\n",
       "      <td>1</td>\n",
       "      <td>0</td>\n",
       "      <td>0</td>\n",
       "      <td>0</td>\n",
       "      <td>0</td>\n",
       "      <td>0</td>\n",
       "      <td>0</td>\n",
       "      <td>0</td>\n",
       "      <td>0</td>\n",
       "      <td>0</td>\n",
       "      <td>0</td>\n",
       "      <td>0</td>\n",
       "      <td>0</td>\n",
       "      <td>0</td>\n",
       "      <td>0</td>\n",
       "      <td>0</td>\n",
       "      <td>1</td>\n",
       "      <td>0</td>\n",
       "      <td>0</td>\n",
       "      <td>0</td>\n",
       "    </tr>\n",
       "    <tr>\n",
       "      <th>2</th>\n",
       "      <td>41.0</td>\n",
       "      <td>40</td>\n",
       "      <td>201809</td>\n",
       "      <td>2018</td>\n",
       "      <td>09</td>\n",
       "      <td>2</td>\n",
       "      <td>0</td>\n",
       "      <td>0</td>\n",
       "      <td>1</td>\n",
       "      <td>0</td>\n",
       "      <td>0</td>\n",
       "      <td>1</td>\n",
       "      <td>0</td>\n",
       "      <td>1</td>\n",
       "      <td>0</td>\n",
       "      <td>0</td>\n",
       "      <td>0</td>\n",
       "      <td>0</td>\n",
       "      <td>0</td>\n",
       "      <td>0</td>\n",
       "      <td>0</td>\n",
       "      <td>0</td>\n",
       "      <td>0</td>\n",
       "      <td>0</td>\n",
       "      <td>0</td>\n",
       "      <td>0</td>\n",
       "      <td>0</td>\n",
       "      <td>0</td>\n",
       "      <td>0</td>\n",
       "      <td>1</td>\n",
       "      <td>0</td>\n",
       "      <td>0</td>\n",
       "      <td>0</td>\n",
       "    </tr>\n",
       "    <tr>\n",
       "      <th>3</th>\n",
       "      <td>47.0</td>\n",
       "      <td>45</td>\n",
       "      <td>201810</td>\n",
       "      <td>2018</td>\n",
       "      <td>10</td>\n",
       "      <td>2</td>\n",
       "      <td>0</td>\n",
       "      <td>0</td>\n",
       "      <td>0</td>\n",
       "      <td>1</td>\n",
       "      <td>0</td>\n",
       "      <td>1</td>\n",
       "      <td>0</td>\n",
       "      <td>1</td>\n",
       "      <td>0</td>\n",
       "      <td>0</td>\n",
       "      <td>0</td>\n",
       "      <td>0</td>\n",
       "      <td>0</td>\n",
       "      <td>0</td>\n",
       "      <td>0</td>\n",
       "      <td>0</td>\n",
       "      <td>0</td>\n",
       "      <td>0</td>\n",
       "      <td>0</td>\n",
       "      <td>0</td>\n",
       "      <td>0</td>\n",
       "      <td>0</td>\n",
       "      <td>0</td>\n",
       "      <td>1</td>\n",
       "      <td>0</td>\n",
       "      <td>0</td>\n",
       "      <td>0</td>\n",
       "    </tr>\n",
       "    <tr>\n",
       "      <th>4</th>\n",
       "      <td>37.0</td>\n",
       "      <td>35</td>\n",
       "      <td>201811</td>\n",
       "      <td>2018</td>\n",
       "      <td>11</td>\n",
       "      <td>2</td>\n",
       "      <td>0</td>\n",
       "      <td>0</td>\n",
       "      <td>1</td>\n",
       "      <td>0</td>\n",
       "      <td>0</td>\n",
       "      <td>1</td>\n",
       "      <td>0</td>\n",
       "      <td>1</td>\n",
       "      <td>0</td>\n",
       "      <td>0</td>\n",
       "      <td>0</td>\n",
       "      <td>0</td>\n",
       "      <td>0</td>\n",
       "      <td>0</td>\n",
       "      <td>0</td>\n",
       "      <td>0</td>\n",
       "      <td>0</td>\n",
       "      <td>0</td>\n",
       "      <td>0</td>\n",
       "      <td>0</td>\n",
       "      <td>0</td>\n",
       "      <td>0</td>\n",
       "      <td>0</td>\n",
       "      <td>1</td>\n",
       "      <td>0</td>\n",
       "      <td>0</td>\n",
       "      <td>0</td>\n",
       "    </tr>\n",
       "  </tbody>\n",
       "</table>\n",
       "</div>"
      ],
      "text/plain": [
       "    age age_bin  yyyymm  yyyy  mm  label  Not Categorized  OTHERS  salaried  self_employed  Female  Male  DIVORCEE  MARRIED  UNMARRIED  WIDOW  AP  BH  BR  DELHI  GJ  HR  KA  KE  MH  MP  OR  PU  RJ  TN  UK  UP  WB\n",
       "0  43.0      40  201811  2018  11      2                0       0         0              1       0     1         0        1          0      0   0   0   0      0   0   0   0   0   0   0   0   0   0   1   0   0   0\n",
       "1  36.0      35  201812  2018  12      2                0       0         0              1       0     1         0        1          0      0   0   0   0      0   0   0   0   0   0   0   0   0   0   1   0   0   0\n",
       "2  41.0      40  201809  2018  09      2                0       0         1              0       0     1         0        1          0      0   0   0   0      0   0   0   0   0   0   0   0   0   0   1   0   0   0\n",
       "3  47.0      45  201810  2018  10      2                0       0         0              1       0     1         0        1          0      0   0   0   0      0   0   0   0   0   0   0   0   0   0   1   0   0   0\n",
       "4  37.0      35  201811  2018  11      2                0       0         1              0       0     1         0        1          0      0   0   0   0      0   0   0   0   0   0   0   0   0   0   1   0   0   0"
      ]
     },
     "execution_count": 96,
     "metadata": {},
     "output_type": "execute_result"
    }
   ],
   "source": [
    "df.head()"
   ]
  },
  {
   "cell_type": "code",
   "execution_count": 97,
   "metadata": {},
   "outputs": [
    {
     "data": {
      "text/plain": [
       "(892649, 33)"
      ]
     },
     "execution_count": 97,
     "metadata": {},
     "output_type": "execute_result"
    }
   ],
   "source": [
    "df.shape"
   ]
  },
  {
   "cell_type": "code",
   "execution_count": 107,
   "metadata": {},
   "outputs": [
    {
     "data": {
      "text/plain": [
       "age                float64\n",
       "age_bin             object\n",
       "yyyymm              object\n",
       "yyyy                object\n",
       "mm                  object\n",
       "Not Categorized      uint8\n",
       "OTHERS               uint8\n",
       "salaried             uint8\n",
       "self_employed        uint8\n",
       "Female               uint8\n",
       "Male                 uint8\n",
       "DIVORCEE             uint8\n",
       "MARRIED              uint8\n",
       "UNMARRIED            uint8\n",
       "WIDOW                uint8\n",
       "AP                   uint8\n",
       "BH                   uint8\n",
       "BR                   uint8\n",
       "DELHI                uint8\n",
       "GJ                   uint8\n",
       "HR                   uint8\n",
       "KA                   uint8\n",
       "KE                   uint8\n",
       "MH                   uint8\n",
       "MP                   uint8\n",
       "OR                   uint8\n",
       "PU                   uint8\n",
       "RJ                   uint8\n",
       "TN                   uint8\n",
       "UK                   uint8\n",
       "UP                   uint8\n",
       "WB                   uint8\n",
       "dtype: object"
      ]
     },
     "execution_count": 107,
     "metadata": {},
     "output_type": "execute_result"
    }
   ],
   "source": [
    "df.dtypes"
   ]
  },
  {
   "cell_type": "code",
   "execution_count": 98,
   "metadata": {},
   "outputs": [],
   "source": [
    "y = df.label.tolist()\n",
    "del df['label']\n",
    "X = df.copy()"
   ]
  },
  {
   "cell_type": "code",
   "execution_count": 109,
   "metadata": {},
   "outputs": [
    {
     "ename": "AttributeError",
     "evalue": "'numpy.ndarray' object has no attribute 'values'",
     "output_type": "error",
     "traceback": [
      "\u001b[0;31m---------------------------------------------------------------------------\u001b[0m",
      "\u001b[0;31mAttributeError\u001b[0m                            Traceback (most recent call last)",
      "\u001b[0;32m<ipython-input-109-a2c48da56d70>\u001b[0m in \u001b[0;36m<module>\u001b[0;34m\u001b[0m\n\u001b[0;32m----> 1\u001b[0;31m \u001b[0mX\u001b[0m \u001b[0;34m=\u001b[0m \u001b[0mX\u001b[0m\u001b[0;34m.\u001b[0m\u001b[0mvalues\u001b[0m\u001b[0;34m\u001b[0m\u001b[0;34m\u001b[0m\u001b[0m\n\u001b[0m\u001b[1;32m      2\u001b[0m \u001b[0my\u001b[0m \u001b[0;34m=\u001b[0m \u001b[0my\u001b[0m\u001b[0;34m\u001b[0m\u001b[0;34m\u001b[0m\u001b[0m\n",
      "\u001b[0;31mAttributeError\u001b[0m: 'numpy.ndarray' object has no attribute 'values'"
     ]
    }
   ],
   "source": [
    "X = X.values\n",
    "y = y"
   ]
  },
  {
   "cell_type": "code",
   "execution_count": 99,
   "metadata": {},
   "outputs": [
    {
     "data": {
      "text/plain": [
       "(892649, 892649)"
      ]
     },
     "execution_count": 99,
     "metadata": {},
     "output_type": "execute_result"
    }
   ],
   "source": [
    "len(X),len(y)"
   ]
  },
  {
   "cell_type": "code",
   "execution_count": 110,
   "metadata": {},
   "outputs": [],
   "source": [
    "X_train,X_test,y_train,y_test = train_test_split(X,y,test_size=0.2,random_state=42)"
   ]
  },
  {
   "cell_type": "code",
   "execution_count": 111,
   "metadata": {},
   "outputs": [],
   "source": [
    "import xgboost as xgb"
   ]
  },
  {
   "cell_type": "code",
   "execution_count": 112,
   "metadata": {},
   "outputs": [],
   "source": [
    "model = xgb.XGBClassifier(n_jobs=-1)"
   ]
  },
  {
   "cell_type": "code",
   "execution_count": 113,
   "metadata": {},
   "outputs": [
    {
     "ename": "KeyboardInterrupt",
     "evalue": "",
     "output_type": "error",
     "traceback": [
      "\u001b[0;31m---------------------------------------------------------------------------\u001b[0m",
      "\u001b[0;31mKeyboardInterrupt\u001b[0m                         Traceback (most recent call last)",
      "\u001b[0;32m<ipython-input-113-b7a8c64777c1>\u001b[0m in \u001b[0;36m<module>\u001b[0;34m\u001b[0m\n\u001b[0;32m----> 1\u001b[0;31m \u001b[0mmodel\u001b[0m\u001b[0;34m.\u001b[0m\u001b[0mfit\u001b[0m\u001b[0;34m(\u001b[0m\u001b[0mX_train\u001b[0m\u001b[0;34m,\u001b[0m\u001b[0my_train\u001b[0m\u001b[0;34m)\u001b[0m\u001b[0;34m\u001b[0m\u001b[0;34m\u001b[0m\u001b[0m\n\u001b[0m",
      "\u001b[0;32m~/.local/lib/python3.6/site-packages/xgboost/sklearn.py\u001b[0m in \u001b[0;36mfit\u001b[0;34m(self, X, y, sample_weight, eval_set, eval_metric, early_stopping_rounds, verbose, xgb_model, sample_weight_eval_set, callbacks)\u001b[0m\n\u001b[1;32m    711\u001b[0m                               \u001b[0mevals_result\u001b[0m\u001b[0;34m=\u001b[0m\u001b[0mevals_result\u001b[0m\u001b[0;34m,\u001b[0m \u001b[0mobj\u001b[0m\u001b[0;34m=\u001b[0m\u001b[0mobj\u001b[0m\u001b[0;34m,\u001b[0m \u001b[0mfeval\u001b[0m\u001b[0;34m=\u001b[0m\u001b[0mfeval\u001b[0m\u001b[0;34m,\u001b[0m\u001b[0;34m\u001b[0m\u001b[0;34m\u001b[0m\u001b[0m\n\u001b[1;32m    712\u001b[0m                               \u001b[0mverbose_eval\u001b[0m\u001b[0;34m=\u001b[0m\u001b[0mverbose\u001b[0m\u001b[0;34m,\u001b[0m \u001b[0mxgb_model\u001b[0m\u001b[0;34m=\u001b[0m\u001b[0mxgb_model\u001b[0m\u001b[0;34m,\u001b[0m\u001b[0;34m\u001b[0m\u001b[0;34m\u001b[0m\u001b[0m\n\u001b[0;32m--> 713\u001b[0;31m                               callbacks=callbacks)\n\u001b[0m\u001b[1;32m    714\u001b[0m \u001b[0;34m\u001b[0m\u001b[0m\n\u001b[1;32m    715\u001b[0m         \u001b[0mself\u001b[0m\u001b[0;34m.\u001b[0m\u001b[0mobjective\u001b[0m \u001b[0;34m=\u001b[0m \u001b[0mxgb_options\u001b[0m\u001b[0;34m[\u001b[0m\u001b[0;34m\"objective\"\u001b[0m\u001b[0;34m]\u001b[0m\u001b[0;34m\u001b[0m\u001b[0;34m\u001b[0m\u001b[0m\n",
      "\u001b[0;32m~/.local/lib/python3.6/site-packages/xgboost/training.py\u001b[0m in \u001b[0;36mtrain\u001b[0;34m(params, dtrain, num_boost_round, evals, obj, feval, maximize, early_stopping_rounds, evals_result, verbose_eval, xgb_model, callbacks, learning_rates)\u001b[0m\n\u001b[1;32m    214\u001b[0m                            \u001b[0mevals\u001b[0m\u001b[0;34m=\u001b[0m\u001b[0mevals\u001b[0m\u001b[0;34m,\u001b[0m\u001b[0;34m\u001b[0m\u001b[0;34m\u001b[0m\u001b[0m\n\u001b[1;32m    215\u001b[0m                            \u001b[0mobj\u001b[0m\u001b[0;34m=\u001b[0m\u001b[0mobj\u001b[0m\u001b[0;34m,\u001b[0m \u001b[0mfeval\u001b[0m\u001b[0;34m=\u001b[0m\u001b[0mfeval\u001b[0m\u001b[0;34m,\u001b[0m\u001b[0;34m\u001b[0m\u001b[0;34m\u001b[0m\u001b[0m\n\u001b[0;32m--> 216\u001b[0;31m                            xgb_model=xgb_model, callbacks=callbacks)\n\u001b[0m\u001b[1;32m    217\u001b[0m \u001b[0;34m\u001b[0m\u001b[0m\n\u001b[1;32m    218\u001b[0m \u001b[0;34m\u001b[0m\u001b[0m\n",
      "\u001b[0;32m~/.local/lib/python3.6/site-packages/xgboost/training.py\u001b[0m in \u001b[0;36m_train_internal\u001b[0;34m(params, dtrain, num_boost_round, evals, obj, feval, xgb_model, callbacks)\u001b[0m\n\u001b[1;32m     72\u001b[0m         \u001b[0;31m# Skip the first update if it is a recovery step.\u001b[0m\u001b[0;34m\u001b[0m\u001b[0;34m\u001b[0m\u001b[0;34m\u001b[0m\u001b[0m\n\u001b[1;32m     73\u001b[0m         \u001b[0;32mif\u001b[0m \u001b[0mversion\u001b[0m \u001b[0;34m%\u001b[0m \u001b[0;36m2\u001b[0m \u001b[0;34m==\u001b[0m \u001b[0;36m0\u001b[0m\u001b[0;34m:\u001b[0m\u001b[0;34m\u001b[0m\u001b[0;34m\u001b[0m\u001b[0m\n\u001b[0;32m---> 74\u001b[0;31m             \u001b[0mbst\u001b[0m\u001b[0;34m.\u001b[0m\u001b[0mupdate\u001b[0m\u001b[0;34m(\u001b[0m\u001b[0mdtrain\u001b[0m\u001b[0;34m,\u001b[0m \u001b[0mi\u001b[0m\u001b[0;34m,\u001b[0m \u001b[0mobj\u001b[0m\u001b[0;34m)\u001b[0m\u001b[0;34m\u001b[0m\u001b[0;34m\u001b[0m\u001b[0m\n\u001b[0m\u001b[1;32m     75\u001b[0m             \u001b[0mbst\u001b[0m\u001b[0;34m.\u001b[0m\u001b[0msave_rabit_checkpoint\u001b[0m\u001b[0;34m(\u001b[0m\u001b[0;34m)\u001b[0m\u001b[0;34m\u001b[0m\u001b[0;34m\u001b[0m\u001b[0m\n\u001b[1;32m     76\u001b[0m             \u001b[0mversion\u001b[0m \u001b[0;34m+=\u001b[0m \u001b[0;36m1\u001b[0m\u001b[0;34m\u001b[0m\u001b[0;34m\u001b[0m\u001b[0m\n",
      "\u001b[0;32m~/.local/lib/python3.6/site-packages/xgboost/core.py\u001b[0m in \u001b[0;36mupdate\u001b[0;34m(self, dtrain, iteration, fobj)\u001b[0m\n\u001b[1;32m   1108\u001b[0m         \u001b[0;32mif\u001b[0m \u001b[0mfobj\u001b[0m \u001b[0;32mis\u001b[0m \u001b[0;32mNone\u001b[0m\u001b[0;34m:\u001b[0m\u001b[0;34m\u001b[0m\u001b[0;34m\u001b[0m\u001b[0m\n\u001b[1;32m   1109\u001b[0m             _check_call(_LIB.XGBoosterUpdateOneIter(self.handle, ctypes.c_int(iteration),\n\u001b[0;32m-> 1110\u001b[0;31m                                                     dtrain.handle))\n\u001b[0m\u001b[1;32m   1111\u001b[0m         \u001b[0;32melse\u001b[0m\u001b[0;34m:\u001b[0m\u001b[0;34m\u001b[0m\u001b[0;34m\u001b[0m\u001b[0m\n\u001b[1;32m   1112\u001b[0m             \u001b[0mpred\u001b[0m \u001b[0;34m=\u001b[0m \u001b[0mself\u001b[0m\u001b[0;34m.\u001b[0m\u001b[0mpredict\u001b[0m\u001b[0;34m(\u001b[0m\u001b[0mdtrain\u001b[0m\u001b[0;34m)\u001b[0m\u001b[0;34m\u001b[0m\u001b[0;34m\u001b[0m\u001b[0m\n",
      "\u001b[0;31mKeyboardInterrupt\u001b[0m: "
     ]
    }
   ],
   "source": [
    "model.fit(X_train,y_train)"
   ]
  },
  {
   "cell_type": "code",
   "execution_count": null,
   "metadata": {},
   "outputs": [],
   "source": [
    "y_pred = model.predict(X_test.values)"
   ]
  },
  {
   "cell_type": "code",
   "execution_count": null,
   "metadata": {},
   "outputs": [],
   "source": [
    "accuracy_score(y_test, y_pred)"
   ]
  },
  {
   "cell_type": "code",
   "execution_count": null,
   "metadata": {},
   "outputs": [],
   "source": [
    "feat_importances = pd.Series(clf.feature_importances_)\n",
    "%matplotlib inline"
   ]
  },
  {
   "cell_type": "code",
   "execution_count": null,
   "metadata": {},
   "outputs": [],
   "source": [
    "feat_importances.nlargest(len(feat_importances)).plot(kind='barh')"
   ]
  },
  {
   "cell_type": "code",
   "execution_count": null,
   "metadata": {},
   "outputs": [],
   "source": [
    "import pickle\n",
    "with open('R20.7.model','wb') as f:\n",
    "    pickle.dump(model,f)\n",
    "with open('R20.7.le','wb') as f:\n",
    "    pickle.dump(le,f)"
   ]
  },
  {
   "cell_type": "code",
   "execution_count": null,
   "metadata": {},
   "outputs": [],
   "source": []
  },
  {
   "cell_type": "code",
   "execution_count": null,
   "metadata": {},
   "outputs": [],
   "source": []
  }
 ],
 "metadata": {
  "kernelspec": {
   "display_name": "Python 3",
   "language": "python",
   "name": "python3"
  },
  "language_info": {
   "codemirror_mode": {
    "name": "ipython",
    "version": 3
   },
   "file_extension": ".py",
   "mimetype": "text/x-python",
   "name": "python",
   "nbconvert_exporter": "python",
   "pygments_lexer": "ipython3",
   "version": "3.6.7"
  }
 },
 "nbformat": 4,
 "nbformat_minor": 2
}
